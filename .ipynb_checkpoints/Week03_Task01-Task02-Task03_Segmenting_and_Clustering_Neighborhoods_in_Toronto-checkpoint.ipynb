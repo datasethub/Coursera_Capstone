{
 "cells": [
  {
   "cell_type": "markdown",
   "metadata": {},
   "source": [
    "<p style=\"text-align: center;\"><span style=\"color: #0000ff;\"><strong><span style=\"font-size: 22pt;\">Segmenting and Clustering Neighborhoods in Toronto</span></strong></span></p>"
   ]
  },
  {
   "cell_type": "markdown",
   "metadata": {},
   "source": [
    " "
   ]
  },
  {
   "cell_type": "markdown",
   "metadata": {},
   "source": [
    "# TASK #1: Creating dataframe from the following Wikipedia page"
   ]
  },
  {
   "cell_type": "markdown",
   "metadata": {},
   "source": [
    "## Scraping the following Wikipedia page, https://en.wikipedia.org/wiki/List_of_postal_codes_of_Canada:_M"
   ]
  },
  {
   "cell_type": "code",
   "execution_count": 1,
   "metadata": {
    "ExecuteTime": {
     "end_time": "2019-08-31T16:52:27.335469Z",
     "start_time": "2019-08-31T16:52:26.784892Z"
    }
   },
   "outputs": [],
   "source": [
    "from bs4 import BeautifulSoup\n",
    "import requests\n",
    "\n",
    "source = requests.get(\"https://en.wikipedia.org/wiki/List_of_postal_codes_of_Canada:_M\").text\n",
    "soup = BeautifulSoup(source, 'html')"
   ]
  },
  {
   "cell_type": "markdown",
   "metadata": {},
   "source": []
  },
  {
   "cell_type": "code",
   "execution_count": 2,
   "metadata": {
    "ExecuteTime": {
     "end_time": "2019-08-31T16:52:27.340405Z",
     "start_time": "2019-08-31T16:52:27.336413Z"
    }
   },
   "outputs": [],
   "source": [
    "table_data = soup.tbody"
   ]
  },
  {
   "cell_type": "markdown",
   "metadata": {},
   "source": [
    "## To create the dataframe following the requirements of the post"
   ]
  },
  {
   "cell_type": "code",
   "execution_count": 3,
   "metadata": {
    "ExecuteTime": {
     "end_time": "2019-08-31T16:52:27.938804Z",
     "start_time": "2019-08-31T16:52:27.342398Z"
    }
   },
   "outputs": [],
   "source": [
    "import pandas as pd"
   ]
  },
  {
   "cell_type": "markdown",
   "metadata": {},
   "source": [
    "The Toronto's dataframe will consist of three columns: **PostalCode**, **Borough**, and **Neighborhood**"
   ]
  },
  {
   "cell_type": "code",
   "execution_count": 4,
   "metadata": {
    "ExecuteTime": {
     "end_time": "2019-08-31T16:52:27.946782Z",
     "start_time": "2019-08-31T16:52:27.939801Z"
    }
   },
   "outputs": [],
   "source": [
    "column_names = ['Postalcode', 'Borough', 'Neighborhood']\n",
    "toronto = pd.DataFrame(columns=column_names)"
   ]
  },
  {
   "cell_type": "code",
   "execution_count": 5,
   "metadata": {
    "ExecuteTime": {
     "end_time": "2019-08-31T16:52:27.966728Z",
     "start_time": "2019-08-31T16:52:27.947780Z"
    }
   },
   "outputs": [
    {
     "data": {
      "text/html": [
       "<div>\n",
       "<style scoped>\n",
       "    .dataframe tbody tr th:only-of-type {\n",
       "        vertical-align: middle;\n",
       "    }\n",
       "\n",
       "    .dataframe tbody tr th {\n",
       "        vertical-align: top;\n",
       "    }\n",
       "\n",
       "    .dataframe thead th {\n",
       "        text-align: right;\n",
       "    }\n",
       "</style>\n",
       "<table border=\"1\" class=\"dataframe\">\n",
       "  <thead>\n",
       "    <tr style=\"text-align: right;\">\n",
       "      <th></th>\n",
       "      <th>Postalcode</th>\n",
       "      <th>Borough</th>\n",
       "      <th>Neighborhood</th>\n",
       "    </tr>\n",
       "  </thead>\n",
       "  <tbody>\n",
       "  </tbody>\n",
       "</table>\n",
       "</div>"
      ],
      "text/plain": [
       "Empty DataFrame\n",
       "Columns: [Postalcode, Borough, Neighborhood]\n",
       "Index: []"
      ]
     },
     "execution_count": 5,
     "metadata": {},
     "output_type": "execute_result"
    }
   ],
   "source": [
    "toronto"
   ]
  },
  {
   "cell_type": "markdown",
   "metadata": {},
   "source": [
    " "
   ]
  },
  {
   "cell_type": "code",
   "execution_count": 6,
   "metadata": {
    "ExecuteTime": {
     "end_time": "2019-08-31T16:52:28.414561Z",
     "start_time": "2019-08-31T16:52:27.968723Z"
    }
   },
   "outputs": [],
   "source": [
    "postalcode, borough, neighborhood = 0, 0, 0\n",
    "\n",
    "for tr in table_data.find_all('tr'):\n",
    "    i = 0\n",
    "    for td in tr.find_all('td'):\n",
    "        if i == 0:\n",
    "            postalcode = td.text\n",
    "            i = i+1\n",
    "        elif i == 1:\n",
    "            borough = td.text\n",
    "            i = i + 1\n",
    "        elif i == 2:\n",
    "            neighborhood = td.text.strip('\\n')#.replace(']', '')\n",
    "    toronto = toronto.append({'Postalcode': postalcode, 'Borough': borough,\n",
    "                              'Neighborhood': neighborhood}, ignore_index=True)"
   ]
  },
  {
   "cell_type": "code",
   "execution_count": 7,
   "metadata": {
    "ExecuteTime": {
     "end_time": "2019-08-31T16:52:28.420515Z",
     "start_time": "2019-08-31T16:52:28.415528Z"
    }
   },
   "outputs": [
    {
     "data": {
      "text/plain": [
       "(289, 3)"
      ]
     },
     "execution_count": 7,
     "metadata": {},
     "output_type": "execute_result"
    }
   ],
   "source": [
    "toronto.shape"
   ]
  },
  {
   "cell_type": "code",
   "execution_count": 8,
   "metadata": {
    "ExecuteTime": {
     "end_time": "2019-08-31T16:52:28.434513Z",
     "start_time": "2019-08-31T16:52:28.421512Z"
    }
   },
   "outputs": [
    {
     "data": {
      "text/html": [
       "<div>\n",
       "<style scoped>\n",
       "    .dataframe tbody tr th:only-of-type {\n",
       "        vertical-align: middle;\n",
       "    }\n",
       "\n",
       "    .dataframe tbody tr th {\n",
       "        vertical-align: top;\n",
       "    }\n",
       "\n",
       "    .dataframe thead th {\n",
       "        text-align: right;\n",
       "    }\n",
       "</style>\n",
       "<table border=\"1\" class=\"dataframe\">\n",
       "  <thead>\n",
       "    <tr style=\"text-align: right;\">\n",
       "      <th></th>\n",
       "      <th>Postalcode</th>\n",
       "      <th>Borough</th>\n",
       "      <th>Neighborhood</th>\n",
       "    </tr>\n",
       "  </thead>\n",
       "  <tbody>\n",
       "    <tr>\n",
       "      <th>0</th>\n",
       "      <td>0</td>\n",
       "      <td>0</td>\n",
       "      <td>0</td>\n",
       "    </tr>\n",
       "    <tr>\n",
       "      <th>1</th>\n",
       "      <td>M1A</td>\n",
       "      <td>Not assigned</td>\n",
       "      <td>Not assigned</td>\n",
       "    </tr>\n",
       "    <tr>\n",
       "      <th>2</th>\n",
       "      <td>M2A</td>\n",
       "      <td>Not assigned</td>\n",
       "      <td>Not assigned</td>\n",
       "    </tr>\n",
       "    <tr>\n",
       "      <th>3</th>\n",
       "      <td>M3A</td>\n",
       "      <td>North York</td>\n",
       "      <td>Parkwoods</td>\n",
       "    </tr>\n",
       "    <tr>\n",
       "      <th>4</th>\n",
       "      <td>M4A</td>\n",
       "      <td>North York</td>\n",
       "      <td>Victoria Village</td>\n",
       "    </tr>\n",
       "    <tr>\n",
       "      <th>5</th>\n",
       "      <td>M5A</td>\n",
       "      <td>Downtown Toronto</td>\n",
       "      <td>Harbourfront</td>\n",
       "    </tr>\n",
       "    <tr>\n",
       "      <th>6</th>\n",
       "      <td>M5A</td>\n",
       "      <td>Downtown Toronto</td>\n",
       "      <td>Regent Park</td>\n",
       "    </tr>\n",
       "    <tr>\n",
       "      <th>7</th>\n",
       "      <td>M6A</td>\n",
       "      <td>North York</td>\n",
       "      <td>Lawrence Heights</td>\n",
       "    </tr>\n",
       "    <tr>\n",
       "      <th>8</th>\n",
       "      <td>M6A</td>\n",
       "      <td>North York</td>\n",
       "      <td>Lawrence Manor</td>\n",
       "    </tr>\n",
       "    <tr>\n",
       "      <th>9</th>\n",
       "      <td>M7A</td>\n",
       "      <td>Queen's Park</td>\n",
       "      <td>Not assigned</td>\n",
       "    </tr>\n",
       "    <tr>\n",
       "      <th>10</th>\n",
       "      <td>M8A</td>\n",
       "      <td>Not assigned</td>\n",
       "      <td>Not assigned</td>\n",
       "    </tr>\n",
       "    <tr>\n",
       "      <th>11</th>\n",
       "      <td>M9A</td>\n",
       "      <td>Etobicoke</td>\n",
       "      <td>Islington Avenue</td>\n",
       "    </tr>\n",
       "  </tbody>\n",
       "</table>\n",
       "</div>"
      ],
      "text/plain": [
       "   Postalcode           Borough      Neighborhood\n",
       "0           0                 0                 0\n",
       "1         M1A      Not assigned      Not assigned\n",
       "2         M2A      Not assigned      Not assigned\n",
       "3         M3A        North York         Parkwoods\n",
       "4         M4A        North York  Victoria Village\n",
       "5         M5A  Downtown Toronto      Harbourfront\n",
       "6         M5A  Downtown Toronto       Regent Park\n",
       "7         M6A        North York  Lawrence Heights\n",
       "8         M6A        North York    Lawrence Manor\n",
       "9         M7A      Queen's Park      Not assigned\n",
       "10        M8A      Not assigned      Not assigned\n",
       "11        M9A         Etobicoke  Islington Avenue"
      ]
     },
     "execution_count": 8,
     "metadata": {},
     "output_type": "execute_result"
    }
   ],
   "source": [
    "toronto.head(12)"
   ]
  },
  {
   "cell_type": "code",
   "execution_count": null,
   "metadata": {
    "ExecuteTime": {
     "end_time": "2019-08-31T04:50:16.755457Z",
     "start_time": "2019-08-31T04:50:16.747510Z"
    }
   },
   "outputs": [],
   "source": []
  },
  {
   "cell_type": "markdown",
   "metadata": {},
   "source": [
    "Only process the cells that have an assigned borough. Ignore cells with a borough that is ***Not assigned***."
   ]
  },
  {
   "cell_type": "code",
   "execution_count": 9,
   "metadata": {
    "ExecuteTime": {
     "end_time": "2019-08-31T16:52:28.443498Z",
     "start_time": "2019-08-31T16:52:28.436472Z"
    }
   },
   "outputs": [],
   "source": [
    "# clean dataframe \n",
    "toronto = toronto[toronto.Borough != 'Not assigned']\n",
    "toronto = toronto[toronto.Borough != 0]\n",
    "toronto.reset_index(drop = True, inplace = True)\n"
   ]
  },
  {
   "cell_type": "code",
   "execution_count": 10,
   "metadata": {
    "ExecuteTime": {
     "end_time": "2019-08-31T16:52:28.455476Z",
     "start_time": "2019-08-31T16:52:28.445447Z"
    }
   },
   "outputs": [
    {
     "data": {
      "text/plain": [
       "(211, 3)"
      ]
     },
     "execution_count": 10,
     "metadata": {},
     "output_type": "execute_result"
    }
   ],
   "source": [
    "toronto.shape"
   ]
  },
  {
   "cell_type": "code",
   "execution_count": 11,
   "metadata": {
    "ExecuteTime": {
     "end_time": "2019-08-31T16:52:28.467426Z",
     "start_time": "2019-08-31T16:52:28.456418Z"
    }
   },
   "outputs": [
    {
     "data": {
      "text/html": [
       "<div>\n",
       "<style scoped>\n",
       "    .dataframe tbody tr th:only-of-type {\n",
       "        vertical-align: middle;\n",
       "    }\n",
       "\n",
       "    .dataframe tbody tr th {\n",
       "        vertical-align: top;\n",
       "    }\n",
       "\n",
       "    .dataframe thead th {\n",
       "        text-align: right;\n",
       "    }\n",
       "</style>\n",
       "<table border=\"1\" class=\"dataframe\">\n",
       "  <thead>\n",
       "    <tr style=\"text-align: right;\">\n",
       "      <th></th>\n",
       "      <th>Postalcode</th>\n",
       "      <th>Borough</th>\n",
       "      <th>Neighborhood</th>\n",
       "    </tr>\n",
       "  </thead>\n",
       "  <tbody>\n",
       "    <tr>\n",
       "      <th>0</th>\n",
       "      <td>M3A</td>\n",
       "      <td>North York</td>\n",
       "      <td>Parkwoods</td>\n",
       "    </tr>\n",
       "    <tr>\n",
       "      <th>1</th>\n",
       "      <td>M4A</td>\n",
       "      <td>North York</td>\n",
       "      <td>Victoria Village</td>\n",
       "    </tr>\n",
       "    <tr>\n",
       "      <th>2</th>\n",
       "      <td>M5A</td>\n",
       "      <td>Downtown Toronto</td>\n",
       "      <td>Harbourfront</td>\n",
       "    </tr>\n",
       "    <tr>\n",
       "      <th>3</th>\n",
       "      <td>M5A</td>\n",
       "      <td>Downtown Toronto</td>\n",
       "      <td>Regent Park</td>\n",
       "    </tr>\n",
       "    <tr>\n",
       "      <th>4</th>\n",
       "      <td>M6A</td>\n",
       "      <td>North York</td>\n",
       "      <td>Lawrence Heights</td>\n",
       "    </tr>\n",
       "    <tr>\n",
       "      <th>5</th>\n",
       "      <td>M6A</td>\n",
       "      <td>North York</td>\n",
       "      <td>Lawrence Manor</td>\n",
       "    </tr>\n",
       "    <tr>\n",
       "      <th>6</th>\n",
       "      <td>M7A</td>\n",
       "      <td>Queen's Park</td>\n",
       "      <td>Not assigned</td>\n",
       "    </tr>\n",
       "    <tr>\n",
       "      <th>7</th>\n",
       "      <td>M9A</td>\n",
       "      <td>Etobicoke</td>\n",
       "      <td>Islington Avenue</td>\n",
       "    </tr>\n",
       "    <tr>\n",
       "      <th>8</th>\n",
       "      <td>M1B</td>\n",
       "      <td>Scarborough</td>\n",
       "      <td>Rouge</td>\n",
       "    </tr>\n",
       "    <tr>\n",
       "      <th>9</th>\n",
       "      <td>M1B</td>\n",
       "      <td>Scarborough</td>\n",
       "      <td>Malvern</td>\n",
       "    </tr>\n",
       "    <tr>\n",
       "      <th>10</th>\n",
       "      <td>M3B</td>\n",
       "      <td>North York</td>\n",
       "      <td>Don Mills North</td>\n",
       "    </tr>\n",
       "    <tr>\n",
       "      <th>11</th>\n",
       "      <td>M4B</td>\n",
       "      <td>East York</td>\n",
       "      <td>Woodbine Gardens</td>\n",
       "    </tr>\n",
       "  </tbody>\n",
       "</table>\n",
       "</div>"
      ],
      "text/plain": [
       "   Postalcode           Borough      Neighborhood\n",
       "0         M3A        North York         Parkwoods\n",
       "1         M4A        North York  Victoria Village\n",
       "2         M5A  Downtown Toronto      Harbourfront\n",
       "3         M5A  Downtown Toronto       Regent Park\n",
       "4         M6A        North York  Lawrence Heights\n",
       "5         M6A        North York    Lawrence Manor\n",
       "6         M7A      Queen's Park      Not assigned\n",
       "7         M9A         Etobicoke  Islington Avenue\n",
       "8         M1B       Scarborough             Rouge\n",
       "9         M1B       Scarborough           Malvern\n",
       "10        M3B        North York   Don Mills North\n",
       "11        M4B         East York  Woodbine Gardens"
      ]
     },
     "execution_count": 11,
     "metadata": {},
     "output_type": "execute_result"
    }
   ],
   "source": [
    "toronto.head(12)"
   ]
  },
  {
   "cell_type": "markdown",
   "metadata": {},
   "source": [
    "If a cell has a borough but a **Not assigned neighborhood**, then the neighborhood will be the same as the borough. So for the 9th cell in the table on the Wikipedia page, the value of the Borough and the Neighborhood columns will be **Queen's Park**."
   ]
  },
  {
   "cell_type": "code",
   "execution_count": 12,
   "metadata": {
    "ExecuteTime": {
     "end_time": "2019-08-31T16:52:28.497362Z",
     "start_time": "2019-08-31T16:52:28.468387Z"
    }
   },
   "outputs": [],
   "source": [
    "i = 0\n",
    "for i in range(0, toronto.shape[0]):\n",
    "    if toronto.iloc[i][2] == 'Not assigned':\n",
    "        \n",
    "        toronto.iloc[i][2] = toronto.iloc[i][1]\n",
    "        i = i+1"
   ]
  },
  {
   "cell_type": "code",
   "execution_count": 13,
   "metadata": {
    "ExecuteTime": {
     "end_time": "2019-08-31T16:52:28.506320Z",
     "start_time": "2019-08-31T16:52:28.498306Z"
    }
   },
   "outputs": [
    {
     "data": {
      "text/html": [
       "<div>\n",
       "<style scoped>\n",
       "    .dataframe tbody tr th:only-of-type {\n",
       "        vertical-align: middle;\n",
       "    }\n",
       "\n",
       "    .dataframe tbody tr th {\n",
       "        vertical-align: top;\n",
       "    }\n",
       "\n",
       "    .dataframe thead th {\n",
       "        text-align: right;\n",
       "    }\n",
       "</style>\n",
       "<table border=\"1\" class=\"dataframe\">\n",
       "  <thead>\n",
       "    <tr style=\"text-align: right;\">\n",
       "      <th></th>\n",
       "      <th>Postalcode</th>\n",
       "      <th>Borough</th>\n",
       "      <th>Neighborhood</th>\n",
       "    </tr>\n",
       "  </thead>\n",
       "  <tbody>\n",
       "    <tr>\n",
       "      <th>0</th>\n",
       "      <td>M3A</td>\n",
       "      <td>North York</td>\n",
       "      <td>Parkwoods</td>\n",
       "    </tr>\n",
       "    <tr>\n",
       "      <th>1</th>\n",
       "      <td>M4A</td>\n",
       "      <td>North York</td>\n",
       "      <td>Victoria Village</td>\n",
       "    </tr>\n",
       "    <tr>\n",
       "      <th>2</th>\n",
       "      <td>M5A</td>\n",
       "      <td>Downtown Toronto</td>\n",
       "      <td>Harbourfront</td>\n",
       "    </tr>\n",
       "    <tr>\n",
       "      <th>3</th>\n",
       "      <td>M5A</td>\n",
       "      <td>Downtown Toronto</td>\n",
       "      <td>Regent Park</td>\n",
       "    </tr>\n",
       "    <tr>\n",
       "      <th>4</th>\n",
       "      <td>M6A</td>\n",
       "      <td>North York</td>\n",
       "      <td>Lawrence Heights</td>\n",
       "    </tr>\n",
       "    <tr>\n",
       "      <th>5</th>\n",
       "      <td>M6A</td>\n",
       "      <td>North York</td>\n",
       "      <td>Lawrence Manor</td>\n",
       "    </tr>\n",
       "    <tr>\n",
       "      <th>6</th>\n",
       "      <td>M7A</td>\n",
       "      <td>Queen's Park</td>\n",
       "      <td>Queen's Park</td>\n",
       "    </tr>\n",
       "    <tr>\n",
       "      <th>7</th>\n",
       "      <td>M9A</td>\n",
       "      <td>Etobicoke</td>\n",
       "      <td>Islington Avenue</td>\n",
       "    </tr>\n",
       "    <tr>\n",
       "      <th>8</th>\n",
       "      <td>M1B</td>\n",
       "      <td>Scarborough</td>\n",
       "      <td>Rouge</td>\n",
       "    </tr>\n",
       "    <tr>\n",
       "      <th>9</th>\n",
       "      <td>M1B</td>\n",
       "      <td>Scarborough</td>\n",
       "      <td>Malvern</td>\n",
       "    </tr>\n",
       "    <tr>\n",
       "      <th>10</th>\n",
       "      <td>M3B</td>\n",
       "      <td>North York</td>\n",
       "      <td>Don Mills North</td>\n",
       "    </tr>\n",
       "    <tr>\n",
       "      <th>11</th>\n",
       "      <td>M4B</td>\n",
       "      <td>East York</td>\n",
       "      <td>Woodbine Gardens</td>\n",
       "    </tr>\n",
       "  </tbody>\n",
       "</table>\n",
       "</div>"
      ],
      "text/plain": [
       "   Postalcode           Borough      Neighborhood\n",
       "0         M3A        North York         Parkwoods\n",
       "1         M4A        North York  Victoria Village\n",
       "2         M5A  Downtown Toronto      Harbourfront\n",
       "3         M5A  Downtown Toronto       Regent Park\n",
       "4         M6A        North York  Lawrence Heights\n",
       "5         M6A        North York    Lawrence Manor\n",
       "6         M7A      Queen's Park      Queen's Park\n",
       "7         M9A         Etobicoke  Islington Avenue\n",
       "8         M1B       Scarborough             Rouge\n",
       "9         M1B       Scarborough           Malvern\n",
       "10        M3B        North York   Don Mills North\n",
       "11        M4B         East York  Woodbine Gardens"
      ]
     },
     "execution_count": 13,
     "metadata": {},
     "output_type": "execute_result"
    }
   ],
   "source": [
    "toronto.head(12)"
   ]
  },
  {
   "cell_type": "code",
   "execution_count": null,
   "metadata": {},
   "outputs": [],
   "source": []
  },
  {
   "cell_type": "markdown",
   "metadata": {},
   "source": [
    "More than one neighborhood can exist in one postal code area. For example, in the table on the Wikipedia page, you will notice that **M5A** is listed twice and has two neighborhoods: **Harbourfront** and **Regent Park**. "
   ]
  },
  {
   "cell_type": "code",
   "execution_count": 14,
   "metadata": {
    "ExecuteTime": {
     "end_time": "2019-08-31T16:52:28.527228Z",
     "start_time": "2019-08-31T16:52:28.507281Z"
    }
   },
   "outputs": [],
   "source": [
    "toronto = toronto.groupby(['Postalcode','Borough'])['Neighborhood'].apply(', '.join).reset_index()"
   ]
  },
  {
   "cell_type": "markdown",
   "metadata": {},
   "source": [
    "Using the **.shape** method to print the number of rows of your dataframe."
   ]
  },
  {
   "cell_type": "code",
   "execution_count": 15,
   "metadata": {
    "ExecuteTime": {
     "end_time": "2019-08-31T16:52:28.648943Z",
     "start_time": "2019-08-31T16:52:28.644951Z"
    }
   },
   "outputs": [
    {
     "data": {
      "text/plain": [
       "(103, 3)"
      ]
     },
     "execution_count": 15,
     "metadata": {},
     "output_type": "execute_result"
    }
   ],
   "source": [
    "toronto.shape"
   ]
  },
  {
   "cell_type": "markdown",
   "metadata": {},
   "source": [
    "# Results of Task #1"
   ]
  },
  {
   "cell_type": "code",
   "execution_count": 16,
   "metadata": {
    "ExecuteTime": {
     "end_time": "2019-08-31T16:52:28.858346Z",
     "start_time": "2019-08-31T16:52:28.849368Z"
    }
   },
   "outputs": [
    {
     "data": {
      "text/html": [
       "<div>\n",
       "<style scoped>\n",
       "    .dataframe tbody tr th:only-of-type {\n",
       "        vertical-align: middle;\n",
       "    }\n",
       "\n",
       "    .dataframe tbody tr th {\n",
       "        vertical-align: top;\n",
       "    }\n",
       "\n",
       "    .dataframe thead th {\n",
       "        text-align: right;\n",
       "    }\n",
       "</style>\n",
       "<table border=\"1\" class=\"dataframe\">\n",
       "  <thead>\n",
       "    <tr style=\"text-align: right;\">\n",
       "      <th></th>\n",
       "      <th>Postalcode</th>\n",
       "      <th>Borough</th>\n",
       "      <th>Neighborhood</th>\n",
       "    </tr>\n",
       "  </thead>\n",
       "  <tbody>\n",
       "    <tr>\n",
       "      <th>0</th>\n",
       "      <td>M1B</td>\n",
       "      <td>Scarborough</td>\n",
       "      <td>Rouge, Malvern</td>\n",
       "    </tr>\n",
       "    <tr>\n",
       "      <th>1</th>\n",
       "      <td>M1C</td>\n",
       "      <td>Scarborough</td>\n",
       "      <td>Highland Creek, Rouge Hill, Port Union</td>\n",
       "    </tr>\n",
       "    <tr>\n",
       "      <th>2</th>\n",
       "      <td>M1E</td>\n",
       "      <td>Scarborough</td>\n",
       "      <td>Guildwood, Morningside, West Hill</td>\n",
       "    </tr>\n",
       "    <tr>\n",
       "      <th>3</th>\n",
       "      <td>M1G</td>\n",
       "      <td>Scarborough</td>\n",
       "      <td>Woburn</td>\n",
       "    </tr>\n",
       "    <tr>\n",
       "      <th>4</th>\n",
       "      <td>M1H</td>\n",
       "      <td>Scarborough</td>\n",
       "      <td>Cedarbrae</td>\n",
       "    </tr>\n",
       "    <tr>\n",
       "      <th>5</th>\n",
       "      <td>M1J</td>\n",
       "      <td>Scarborough</td>\n",
       "      <td>Scarborough Village</td>\n",
       "    </tr>\n",
       "    <tr>\n",
       "      <th>6</th>\n",
       "      <td>M1K</td>\n",
       "      <td>Scarborough</td>\n",
       "      <td>East Birchmount Park, Ionview, Kennedy Park</td>\n",
       "    </tr>\n",
       "    <tr>\n",
       "      <th>7</th>\n",
       "      <td>M1L</td>\n",
       "      <td>Scarborough</td>\n",
       "      <td>Clairlea, Golden Mile, Oakridge</td>\n",
       "    </tr>\n",
       "    <tr>\n",
       "      <th>8</th>\n",
       "      <td>M1M</td>\n",
       "      <td>Scarborough</td>\n",
       "      <td>Cliffcrest, Cliffside, Scarborough Village West</td>\n",
       "    </tr>\n",
       "    <tr>\n",
       "      <th>9</th>\n",
       "      <td>M1N</td>\n",
       "      <td>Scarborough</td>\n",
       "      <td>Birch Cliff, Cliffside West</td>\n",
       "    </tr>\n",
       "    <tr>\n",
       "      <th>10</th>\n",
       "      <td>M1P</td>\n",
       "      <td>Scarborough</td>\n",
       "      <td>Dorset Park, Scarborough Town Centre, Wexford ...</td>\n",
       "    </tr>\n",
       "    <tr>\n",
       "      <th>11</th>\n",
       "      <td>M1R</td>\n",
       "      <td>Scarborough</td>\n",
       "      <td>Maryvale, Wexford</td>\n",
       "    </tr>\n",
       "  </tbody>\n",
       "</table>\n",
       "</div>"
      ],
      "text/plain": [
       "   Postalcode      Borough                                       Neighborhood\n",
       "0         M1B  Scarborough                                     Rouge, Malvern\n",
       "1         M1C  Scarborough             Highland Creek, Rouge Hill, Port Union\n",
       "2         M1E  Scarborough                  Guildwood, Morningside, West Hill\n",
       "3         M1G  Scarborough                                             Woburn\n",
       "4         M1H  Scarborough                                          Cedarbrae\n",
       "5         M1J  Scarborough                                Scarborough Village\n",
       "6         M1K  Scarborough        East Birchmount Park, Ionview, Kennedy Park\n",
       "7         M1L  Scarborough                    Clairlea, Golden Mile, Oakridge\n",
       "8         M1M  Scarborough    Cliffcrest, Cliffside, Scarborough Village West\n",
       "9         M1N  Scarborough                        Birch Cliff, Cliffside West\n",
       "10        M1P  Scarborough  Dorset Park, Scarborough Town Centre, Wexford ...\n",
       "11        M1R  Scarborough                                  Maryvale, Wexford"
      ]
     },
     "execution_count": 16,
     "metadata": {},
     "output_type": "execute_result"
    }
   ],
   "source": [
    "toronto.head(12)"
   ]
  },
  {
   "cell_type": "markdown",
   "metadata": {},
   "source": [
    "Or,"
   ]
  },
  {
   "cell_type": "code",
   "execution_count": 17,
   "metadata": {
    "ExecuteTime": {
     "end_time": "2019-08-31T16:52:29.070778Z",
     "start_time": "2019-08-31T16:52:29.061852Z"
    }
   },
   "outputs": [
    {
     "data": {
      "text/html": [
       "<div>\n",
       "<style scoped>\n",
       "    .dataframe tbody tr th:only-of-type {\n",
       "        vertical-align: middle;\n",
       "    }\n",
       "\n",
       "    .dataframe tbody tr th {\n",
       "        vertical-align: top;\n",
       "    }\n",
       "\n",
       "    .dataframe thead th {\n",
       "        text-align: right;\n",
       "    }\n",
       "</style>\n",
       "<table border=\"1\" class=\"dataframe\">\n",
       "  <thead>\n",
       "    <tr style=\"text-align: right;\">\n",
       "      <th></th>\n",
       "      <th>Postalcode</th>\n",
       "      <th>Borough</th>\n",
       "      <th>Neighborhood</th>\n",
       "    </tr>\n",
       "  </thead>\n",
       "  <tbody>\n",
       "    <tr>\n",
       "      <th>68</th>\n",
       "      <td>M5V</td>\n",
       "      <td>Downtown Toronto</td>\n",
       "      <td>CN Tower, Bathurst Quay, Island airport, Harbo...</td>\n",
       "    </tr>\n",
       "    <tr>\n",
       "      <th>98</th>\n",
       "      <td>M9N</td>\n",
       "      <td>York</td>\n",
       "      <td>Weston</td>\n",
       "    </tr>\n",
       "    <tr>\n",
       "      <th>61</th>\n",
       "      <td>M5L</td>\n",
       "      <td>Downtown Toronto</td>\n",
       "      <td>Commerce Court, Victoria Hotel</td>\n",
       "    </tr>\n",
       "    <tr>\n",
       "      <th>74</th>\n",
       "      <td>M6E</td>\n",
       "      <td>York</td>\n",
       "      <td>Caledonia-Fairbanks</td>\n",
       "    </tr>\n",
       "    <tr>\n",
       "      <th>94</th>\n",
       "      <td>M9B</td>\n",
       "      <td>Etobicoke</td>\n",
       "      <td>Cloverdale, Islington, Martin Grove, Princess ...</td>\n",
       "    </tr>\n",
       "    <tr>\n",
       "      <th>100</th>\n",
       "      <td>M9R</td>\n",
       "      <td>Etobicoke</td>\n",
       "      <td>Kingsview Village, Martin Grove Gardens, Richv...</td>\n",
       "    </tr>\n",
       "    <tr>\n",
       "      <th>46</th>\n",
       "      <td>M4R</td>\n",
       "      <td>Central Toronto</td>\n",
       "      <td>North Toronto West</td>\n",
       "    </tr>\n",
       "    <tr>\n",
       "      <th>7</th>\n",
       "      <td>M1L</td>\n",
       "      <td>Scarborough</td>\n",
       "      <td>Clairlea, Golden Mile, Oakridge</td>\n",
       "    </tr>\n",
       "    <tr>\n",
       "      <th>5</th>\n",
       "      <td>M1J</td>\n",
       "      <td>Scarborough</td>\n",
       "      <td>Scarborough Village</td>\n",
       "    </tr>\n",
       "    <tr>\n",
       "      <th>32</th>\n",
       "      <td>M3M</td>\n",
       "      <td>North York</td>\n",
       "      <td>Downsview Central</td>\n",
       "    </tr>\n",
       "    <tr>\n",
       "      <th>39</th>\n",
       "      <td>M4H</td>\n",
       "      <td>East York</td>\n",
       "      <td>Thorncliffe Park</td>\n",
       "    </tr>\n",
       "    <tr>\n",
       "      <th>23</th>\n",
       "      <td>M2P</td>\n",
       "      <td>North York</td>\n",
       "      <td>York Mills West</td>\n",
       "    </tr>\n",
       "  </tbody>\n",
       "</table>\n",
       "</div>"
      ],
      "text/plain": [
       "    Postalcode           Borough  \\\n",
       "68         M5V  Downtown Toronto   \n",
       "98         M9N              York   \n",
       "61         M5L  Downtown Toronto   \n",
       "74         M6E              York   \n",
       "94         M9B         Etobicoke   \n",
       "100        M9R         Etobicoke   \n",
       "46         M4R   Central Toronto   \n",
       "7          M1L       Scarborough   \n",
       "5          M1J       Scarborough   \n",
       "32         M3M        North York   \n",
       "39         M4H         East York   \n",
       "23         M2P        North York   \n",
       "\n",
       "                                          Neighborhood  \n",
       "68   CN Tower, Bathurst Quay, Island airport, Harbo...  \n",
       "98                                              Weston  \n",
       "61                      Commerce Court, Victoria Hotel  \n",
       "74                                 Caledonia-Fairbanks  \n",
       "94   Cloverdale, Islington, Martin Grove, Princess ...  \n",
       "100  Kingsview Village, Martin Grove Gardens, Richv...  \n",
       "46                                  North Toronto West  \n",
       "7                      Clairlea, Golden Mile, Oakridge  \n",
       "5                                  Scarborough Village  \n",
       "32                                   Downsview Central  \n",
       "39                                    Thorncliffe Park  \n",
       "23                                     York Mills West  "
      ]
     },
     "execution_count": 17,
     "metadata": {},
     "output_type": "execute_result"
    }
   ],
   "source": [
    "toronto.sample(12)"
   ]
  },
  {
   "cell_type": "markdown",
   "metadata": {},
   "source": [
    "# TASK #2"
   ]
  },
  {
   "cell_type": "markdown",
   "metadata": {},
   "source": [
    "Given that this package can be very unreliable, in case you are not able to get the geographical coordinates of the neighborhoods using the Geocoder package, here is a link to a csv file that has the geographical coordinates of each postal code: http://cocl.us/Geospatial_data"
   ]
  },
  {
   "cell_type": "code",
   "execution_count": 18,
   "metadata": {
    "ExecuteTime": {
     "end_time": "2019-08-31T16:52:33.714253Z",
     "start_time": "2019-08-31T16:52:29.473734Z"
    }
   },
   "outputs": [],
   "source": [
    "postal_code = pd.read_csv('https://cocl.us/Geospatial_data')"
   ]
  },
  {
   "cell_type": "code",
   "execution_count": 19,
   "metadata": {
    "ExecuteTime": {
     "end_time": "2019-08-31T16:52:33.724228Z",
     "start_time": "2019-08-31T16:52:33.715250Z"
    }
   },
   "outputs": [],
   "source": [
    "postal_code.rename(columns={'Postal Code': 'Postalcode'}, inplace=True)"
   ]
  },
  {
   "cell_type": "code",
   "execution_count": 20,
   "metadata": {
    "ExecuteTime": {
     "end_time": "2019-08-31T16:52:33.743187Z",
     "start_time": "2019-08-31T16:52:33.726220Z"
    }
   },
   "outputs": [
    {
     "data": {
      "text/html": [
       "<div>\n",
       "<style scoped>\n",
       "    .dataframe tbody tr th:only-of-type {\n",
       "        vertical-align: middle;\n",
       "    }\n",
       "\n",
       "    .dataframe tbody tr th {\n",
       "        vertical-align: top;\n",
       "    }\n",
       "\n",
       "    .dataframe thead th {\n",
       "        text-align: right;\n",
       "    }\n",
       "</style>\n",
       "<table border=\"1\" class=\"dataframe\">\n",
       "  <thead>\n",
       "    <tr style=\"text-align: right;\">\n",
       "      <th></th>\n",
       "      <th>Postalcode</th>\n",
       "      <th>Latitude</th>\n",
       "      <th>Longitude</th>\n",
       "    </tr>\n",
       "  </thead>\n",
       "  <tbody>\n",
       "    <tr>\n",
       "      <th>83</th>\n",
       "      <td>M6R</td>\n",
       "      <td>43.648960</td>\n",
       "      <td>-79.456325</td>\n",
       "    </tr>\n",
       "    <tr>\n",
       "      <th>76</th>\n",
       "      <td>M6H</td>\n",
       "      <td>43.669005</td>\n",
       "      <td>-79.442259</td>\n",
       "    </tr>\n",
       "    <tr>\n",
       "      <th>96</th>\n",
       "      <td>M9L</td>\n",
       "      <td>43.756303</td>\n",
       "      <td>-79.565963</td>\n",
       "    </tr>\n",
       "    <tr>\n",
       "      <th>5</th>\n",
       "      <td>M1J</td>\n",
       "      <td>43.744734</td>\n",
       "      <td>-79.239476</td>\n",
       "    </tr>\n",
       "    <tr>\n",
       "      <th>9</th>\n",
       "      <td>M1N</td>\n",
       "      <td>43.692657</td>\n",
       "      <td>-79.264848</td>\n",
       "    </tr>\n",
       "    <tr>\n",
       "      <th>93</th>\n",
       "      <td>M9A</td>\n",
       "      <td>43.667856</td>\n",
       "      <td>-79.532242</td>\n",
       "    </tr>\n",
       "    <tr>\n",
       "      <th>44</th>\n",
       "      <td>M4N</td>\n",
       "      <td>43.728020</td>\n",
       "      <td>-79.388790</td>\n",
       "    </tr>\n",
       "    <tr>\n",
       "      <th>59</th>\n",
       "      <td>M5J</td>\n",
       "      <td>43.640816</td>\n",
       "      <td>-79.381752</td>\n",
       "    </tr>\n",
       "    <tr>\n",
       "      <th>8</th>\n",
       "      <td>M1M</td>\n",
       "      <td>43.716316</td>\n",
       "      <td>-79.239476</td>\n",
       "    </tr>\n",
       "    <tr>\n",
       "      <th>22</th>\n",
       "      <td>M2N</td>\n",
       "      <td>43.770120</td>\n",
       "      <td>-79.408493</td>\n",
       "    </tr>\n",
       "  </tbody>\n",
       "</table>\n",
       "</div>"
      ],
      "text/plain": [
       "   Postalcode   Latitude  Longitude\n",
       "83        M6R  43.648960 -79.456325\n",
       "76        M6H  43.669005 -79.442259\n",
       "96        M9L  43.756303 -79.565963\n",
       "5         M1J  43.744734 -79.239476\n",
       "9         M1N  43.692657 -79.264848\n",
       "93        M9A  43.667856 -79.532242\n",
       "44        M4N  43.728020 -79.388790\n",
       "59        M5J  43.640816 -79.381752\n",
       "8         M1M  43.716316 -79.239476\n",
       "22        M2N  43.770120 -79.408493"
      ]
     },
     "execution_count": 20,
     "metadata": {},
     "output_type": "execute_result"
    }
   ],
   "source": [
    "postal_code.sample(10)"
   ]
  },
  {
   "cell_type": "markdown",
   "metadata": {},
   "source": [
    "Use the Geocoder package or the csv file to create the following dataframe:"
   ]
  },
  {
   "cell_type": "code",
   "execution_count": 21,
   "metadata": {
    "ExecuteTime": {
     "end_time": "2019-08-31T16:52:33.758171Z",
     "start_time": "2019-08-31T16:52:33.745170Z"
    }
   },
   "outputs": [],
   "source": [
    "dataframe = pd.merge(toronto, postal_code, on='Postalcode', how='inner')"
   ]
  },
  {
   "cell_type": "code",
   "execution_count": 22,
   "metadata": {
    "ExecuteTime": {
     "end_time": "2019-08-31T16:52:33.782071Z",
     "start_time": "2019-08-31T16:52:33.759132Z"
    }
   },
   "outputs": [
    {
     "data": {
      "text/html": [
       "<div>\n",
       "<style scoped>\n",
       "    .dataframe tbody tr th:only-of-type {\n",
       "        vertical-align: middle;\n",
       "    }\n",
       "\n",
       "    .dataframe tbody tr th {\n",
       "        vertical-align: top;\n",
       "    }\n",
       "\n",
       "    .dataframe thead th {\n",
       "        text-align: right;\n",
       "    }\n",
       "</style>\n",
       "<table border=\"1\" class=\"dataframe\">\n",
       "  <thead>\n",
       "    <tr style=\"text-align: right;\">\n",
       "      <th></th>\n",
       "      <th>Postalcode</th>\n",
       "      <th>Borough</th>\n",
       "      <th>Neighborhood</th>\n",
       "      <th>Latitude</th>\n",
       "      <th>Longitude</th>\n",
       "    </tr>\n",
       "  </thead>\n",
       "  <tbody>\n",
       "    <tr>\n",
       "      <th>27</th>\n",
       "      <td>M3C</td>\n",
       "      <td>North York</td>\n",
       "      <td>Flemingdon Park, Don Mills South</td>\n",
       "      <td>43.725900</td>\n",
       "      <td>-79.340923</td>\n",
       "    </tr>\n",
       "    <tr>\n",
       "      <th>37</th>\n",
       "      <td>M4E</td>\n",
       "      <td>East Toronto</td>\n",
       "      <td>The Beaches</td>\n",
       "      <td>43.676357</td>\n",
       "      <td>-79.293031</td>\n",
       "    </tr>\n",
       "    <tr>\n",
       "      <th>54</th>\n",
       "      <td>M5B</td>\n",
       "      <td>Downtown Toronto</td>\n",
       "      <td>Ryerson, Garden District</td>\n",
       "      <td>43.657162</td>\n",
       "      <td>-79.378937</td>\n",
       "    </tr>\n",
       "    <tr>\n",
       "      <th>22</th>\n",
       "      <td>M2N</td>\n",
       "      <td>North York</td>\n",
       "      <td>Willowdale South</td>\n",
       "      <td>43.770120</td>\n",
       "      <td>-79.408493</td>\n",
       "    </tr>\n",
       "    <tr>\n",
       "      <th>28</th>\n",
       "      <td>M3H</td>\n",
       "      <td>North York</td>\n",
       "      <td>Bathurst Manor, Downsview North, Wilson Heights</td>\n",
       "      <td>43.754328</td>\n",
       "      <td>-79.442259</td>\n",
       "    </tr>\n",
       "    <tr>\n",
       "      <th>89</th>\n",
       "      <td>M8W</td>\n",
       "      <td>Etobicoke</td>\n",
       "      <td>Alderwood, Long Branch</td>\n",
       "      <td>43.602414</td>\n",
       "      <td>-79.543484</td>\n",
       "    </tr>\n",
       "    <tr>\n",
       "      <th>60</th>\n",
       "      <td>M5K</td>\n",
       "      <td>Downtown Toronto</td>\n",
       "      <td>Design Exchange, Toronto Dominion Centre</td>\n",
       "      <td>43.647177</td>\n",
       "      <td>-79.381576</td>\n",
       "    </tr>\n",
       "    <tr>\n",
       "      <th>40</th>\n",
       "      <td>M4J</td>\n",
       "      <td>East York</td>\n",
       "      <td>East Toronto</td>\n",
       "      <td>43.685347</td>\n",
       "      <td>-79.338106</td>\n",
       "    </tr>\n",
       "    <tr>\n",
       "      <th>16</th>\n",
       "      <td>M1X</td>\n",
       "      <td>Scarborough</td>\n",
       "      <td>Upper Rouge</td>\n",
       "      <td>43.836125</td>\n",
       "      <td>-79.205636</td>\n",
       "    </tr>\n",
       "    <tr>\n",
       "      <th>44</th>\n",
       "      <td>M4N</td>\n",
       "      <td>Central Toronto</td>\n",
       "      <td>Lawrence Park</td>\n",
       "      <td>43.728020</td>\n",
       "      <td>-79.388790</td>\n",
       "    </tr>\n",
       "    <tr>\n",
       "      <th>12</th>\n",
       "      <td>M1S</td>\n",
       "      <td>Scarborough</td>\n",
       "      <td>Agincourt</td>\n",
       "      <td>43.794200</td>\n",
       "      <td>-79.262029</td>\n",
       "    </tr>\n",
       "    <tr>\n",
       "      <th>30</th>\n",
       "      <td>M3K</td>\n",
       "      <td>North York</td>\n",
       "      <td>CFB Toronto, Downsview East</td>\n",
       "      <td>43.737473</td>\n",
       "      <td>-79.464763</td>\n",
       "    </tr>\n",
       "    <tr>\n",
       "      <th>71</th>\n",
       "      <td>M6A</td>\n",
       "      <td>North York</td>\n",
       "      <td>Lawrence Heights, Lawrence Manor</td>\n",
       "      <td>43.718518</td>\n",
       "      <td>-79.464763</td>\n",
       "    </tr>\n",
       "    <tr>\n",
       "      <th>57</th>\n",
       "      <td>M5G</td>\n",
       "      <td>Downtown Toronto</td>\n",
       "      <td>Central Bay Street</td>\n",
       "      <td>43.657952</td>\n",
       "      <td>-79.387383</td>\n",
       "    </tr>\n",
       "    <tr>\n",
       "      <th>86</th>\n",
       "      <td>M7R</td>\n",
       "      <td>Mississauga</td>\n",
       "      <td>Canada Post Gateway Processing Centre</td>\n",
       "      <td>43.636966</td>\n",
       "      <td>-79.615819</td>\n",
       "    </tr>\n",
       "  </tbody>\n",
       "</table>\n",
       "</div>"
      ],
      "text/plain": [
       "   Postalcode           Borough  \\\n",
       "27        M3C        North York   \n",
       "37        M4E      East Toronto   \n",
       "54        M5B  Downtown Toronto   \n",
       "22        M2N        North York   \n",
       "28        M3H        North York   \n",
       "89        M8W         Etobicoke   \n",
       "60        M5K  Downtown Toronto   \n",
       "40        M4J         East York   \n",
       "16        M1X       Scarborough   \n",
       "44        M4N   Central Toronto   \n",
       "12        M1S       Scarborough   \n",
       "30        M3K        North York   \n",
       "71        M6A        North York   \n",
       "57        M5G  Downtown Toronto   \n",
       "86        M7R       Mississauga   \n",
       "\n",
       "                                       Neighborhood   Latitude  Longitude  \n",
       "27                 Flemingdon Park, Don Mills South  43.725900 -79.340923  \n",
       "37                                      The Beaches  43.676357 -79.293031  \n",
       "54                         Ryerson, Garden District  43.657162 -79.378937  \n",
       "22                                 Willowdale South  43.770120 -79.408493  \n",
       "28  Bathurst Manor, Downsview North, Wilson Heights  43.754328 -79.442259  \n",
       "89                           Alderwood, Long Branch  43.602414 -79.543484  \n",
       "60         Design Exchange, Toronto Dominion Centre  43.647177 -79.381576  \n",
       "40                                     East Toronto  43.685347 -79.338106  \n",
       "16                                      Upper Rouge  43.836125 -79.205636  \n",
       "44                                    Lawrence Park  43.728020 -79.388790  \n",
       "12                                        Agincourt  43.794200 -79.262029  \n",
       "30                      CFB Toronto, Downsview East  43.737473 -79.464763  \n",
       "71                 Lawrence Heights, Lawrence Manor  43.718518 -79.464763  \n",
       "57                               Central Bay Street  43.657952 -79.387383  \n",
       "86            Canada Post Gateway Processing Centre  43.636966 -79.615819  "
      ]
     },
     "execution_count": 22,
     "metadata": {},
     "output_type": "execute_result"
    }
   ],
   "source": [
    "dataframe.sample(15)"
   ]
  },
  {
   "cell_type": "markdown",
   "metadata": {},
   "source": [
    "# TASK #3: Explore and cluster the neighborhoods in Toronto"
   ]
  },
  {
   "cell_type": "code",
   "execution_count": 23,
   "metadata": {
    "ExecuteTime": {
     "end_time": "2019-08-31T16:52:34.736518Z",
     "start_time": "2019-08-31T16:52:33.787061Z"
    }
   },
   "outputs": [
    {
     "name": "stdout",
     "output_type": "stream",
     "text": [
      "Libraries imported.\n"
     ]
    }
   ],
   "source": [
    "try:\n",
    "    from geopy.geocoders import Nominatim # convert an address into latitude and longitude values\n",
    "\n",
    "    import matplotlib.cm as cm\n",
    "    import matplotlib.colors as colors\n",
    "\n",
    "    # import k-means from clustering stage\n",
    "    from sklearn.cluster import KMeans\n",
    "\n",
    "    #!conda install -c conda-forge folium=0.5.0 --yes # uncomment this line if you haven't completed the Foursquare API lab\n",
    "    import folium # map rendering library\n",
    "\n",
    "    print('Libraries imported.')\n",
    "except Exception as EX:\n",
    "    print(EX)"
   ]
  },
  {
   "cell_type": "code",
   "execution_count": 24,
   "metadata": {
    "ExecuteTime": {
     "end_time": "2019-08-31T16:52:34.742503Z",
     "start_time": "2019-08-31T16:52:34.737515Z"
    }
   },
   "outputs": [],
   "source": [
    "neighborhoods = dataframe[['Borough', 'Neighborhood', 'Latitude', 'Longitude']]"
   ]
  },
  {
   "cell_type": "code",
   "execution_count": 25,
   "metadata": {
    "ExecuteTime": {
     "end_time": "2019-08-31T16:52:34.758458Z",
     "start_time": "2019-08-31T16:52:34.744497Z"
    }
   },
   "outputs": [
    {
     "data": {
      "text/html": [
       "<div>\n",
       "<style scoped>\n",
       "    .dataframe tbody tr th:only-of-type {\n",
       "        vertical-align: middle;\n",
       "    }\n",
       "\n",
       "    .dataframe tbody tr th {\n",
       "        vertical-align: top;\n",
       "    }\n",
       "\n",
       "    .dataframe thead th {\n",
       "        text-align: right;\n",
       "    }\n",
       "</style>\n",
       "<table border=\"1\" class=\"dataframe\">\n",
       "  <thead>\n",
       "    <tr style=\"text-align: right;\">\n",
       "      <th></th>\n",
       "      <th>Borough</th>\n",
       "      <th>Neighborhood</th>\n",
       "      <th>Latitude</th>\n",
       "      <th>Longitude</th>\n",
       "    </tr>\n",
       "  </thead>\n",
       "  <tbody>\n",
       "    <tr>\n",
       "      <th>0</th>\n",
       "      <td>Scarborough</td>\n",
       "      <td>Rouge, Malvern</td>\n",
       "      <td>43.806686</td>\n",
       "      <td>-79.194353</td>\n",
       "    </tr>\n",
       "    <tr>\n",
       "      <th>1</th>\n",
       "      <td>Scarborough</td>\n",
       "      <td>Highland Creek, Rouge Hill, Port Union</td>\n",
       "      <td>43.784535</td>\n",
       "      <td>-79.160497</td>\n",
       "    </tr>\n",
       "    <tr>\n",
       "      <th>2</th>\n",
       "      <td>Scarborough</td>\n",
       "      <td>Guildwood, Morningside, West Hill</td>\n",
       "      <td>43.763573</td>\n",
       "      <td>-79.188711</td>\n",
       "    </tr>\n",
       "    <tr>\n",
       "      <th>3</th>\n",
       "      <td>Scarborough</td>\n",
       "      <td>Woburn</td>\n",
       "      <td>43.770992</td>\n",
       "      <td>-79.216917</td>\n",
       "    </tr>\n",
       "    <tr>\n",
       "      <th>4</th>\n",
       "      <td>Scarborough</td>\n",
       "      <td>Cedarbrae</td>\n",
       "      <td>43.773136</td>\n",
       "      <td>-79.239476</td>\n",
       "    </tr>\n",
       "  </tbody>\n",
       "</table>\n",
       "</div>"
      ],
      "text/plain": [
       "       Borough                            Neighborhood   Latitude  Longitude\n",
       "0  Scarborough                          Rouge, Malvern  43.806686 -79.194353\n",
       "1  Scarborough  Highland Creek, Rouge Hill, Port Union  43.784535 -79.160497\n",
       "2  Scarborough       Guildwood, Morningside, West Hill  43.763573 -79.188711\n",
       "3  Scarborough                                  Woburn  43.770992 -79.216917\n",
       "4  Scarborough                               Cedarbrae  43.773136 -79.239476"
      ]
     },
     "execution_count": 25,
     "metadata": {},
     "output_type": "execute_result"
    }
   ],
   "source": [
    "neighborhoods.head()"
   ]
  },
  {
   "cell_type": "code",
   "execution_count": 26,
   "metadata": {
    "ExecuteTime": {
     "end_time": "2019-08-31T16:52:34.767435Z",
     "start_time": "2019-08-31T16:52:34.760455Z"
    }
   },
   "outputs": [
    {
     "name": "stdout",
     "output_type": "stream",
     "text": [
      "The dataframe has 11 boroughs and 103 neighborhoods.\n"
     ]
    }
   ],
   "source": [
    "print('The dataframe has {} boroughs and {} neighborhoods.'.format(\n",
    "        len(neighborhoods['Borough'].unique()),\n",
    "        neighborhoods.shape[0]\n",
    "    )\n",
    ")"
   ]
  },
  {
   "cell_type": "code",
   "execution_count": 27,
   "metadata": {
    "ExecuteTime": {
     "end_time": "2019-08-31T16:52:36.142884Z",
     "start_time": "2019-08-31T16:52:34.768433Z"
    }
   },
   "outputs": [
    {
     "name": "stdout",
     "output_type": "stream",
     "text": [
      "The geograpical coordinate of Toronto City are 43.653963, -79.387207.\n"
     ]
    }
   ],
   "source": [
    "address = 'Toronto'\n",
    "\n",
    "geolocator = Nominatim(user_agent=\"ny_explorer\")\n",
    "location = geolocator.geocode(address)\n",
    "latitude = location.latitude\n",
    "longitude = location.longitude\n",
    "print('The geograpical coordinate of Toronto City are {}, {}.'.format(latitude, longitude))"
   ]
  },
  {
   "cell_type": "code",
   "execution_count": 28,
   "metadata": {
    "ExecuteTime": {
     "end_time": "2019-08-31T16:52:36.316454Z",
     "start_time": "2019-08-31T16:52:36.143882Z"
    },
    "scrolled": true
   },
   "outputs": [
    {
     "data": {
      "text/html": [
       "<div style=\"width:100%;\"><div style=\"position:relative;width:100%;height:0;padding-bottom:60%;\"><iframe src=\"data:text/html;charset=utf-8;base64,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\" style=\"position:absolute;width:100%;height:100%;left:0;top:0;border:none !important;\" allowfullscreen webkitallowfullscreen mozallowfullscreen></iframe></div></div>"
      ],
      "text/plain": [
       "<folium.folium.Map at 0x265420a07c8>"
      ]
     },
     "execution_count": 28,
     "metadata": {},
     "output_type": "execute_result"
    }
   ],
   "source": [
    "# create map of Toronto using latitude and longitude values\n",
    "map_toronto = folium.Map(location=[latitude, longitude], zoom_start=10)\n",
    "\n",
    "# add markers to map\n",
    "for lat, lng, borough, neighborhood in zip(neighborhoods['Latitude'], neighborhoods['Longitude'], neighborhoods['Borough'], neighborhoods['Neighborhood']):\n",
    "    label = '{}, {}'.format(neighborhood, borough)\n",
    "    label = folium.Popup(label, parse_html=True)\n",
    "    folium.CircleMarker(\n",
    "        [lat, lng],\n",
    "        radius=5,\n",
    "        popup=label,\n",
    "        color='blue',\n",
    "        fill=True,\n",
    "        fill_color='#3186cc',\n",
    "        fill_opacity=0.7,\n",
    "        parse_html=False).add_to(map_toronto)\n",
    "\n",
    "map_toronto"
   ]
  },
  {
   "cell_type": "code",
   "execution_count": null,
   "metadata": {
    "ExecuteTime": {
     "end_time": "2019-08-31T11:30:07.269935Z",
     "start_time": "2019-08-31T11:30:07.265934Z"
    }
   },
   "outputs": [],
   "source": []
  },
  {
   "cell_type": "code",
   "execution_count": 29,
   "metadata": {
    "ExecuteTime": {
     "end_time": "2019-08-31T16:52:36.397241Z",
     "start_time": "2019-08-31T16:52:36.317417Z"
    }
   },
   "outputs": [
    {
     "name": "stdout",
     "output_type": "stream",
     "text": [
      "38 boroughs that contain the word Toronto.\n"
     ]
    }
   ],
   "source": [
    "toronto_Borough = pd.DataFrame(columns=['Borough', 'Neighborhood', 'Latitude', 'Longitude'])\n",
    "j = 0\n",
    "for i in range(0, neighborhoods.shape[0]):\n",
    "    if 'Toronto' in neighborhoods.iloc[i][0]:\n",
    "        j = j + 1\n",
    "        toronto_Borough = pd.concat([toronto_Borough, pd.DataFrame(neighborhoods.iloc[i][:]).T], ignore_index=True)\n",
    "        #toronto_Borough.append(pd.DataFrame(neighborhoods.iloc[0][:]).T)\n",
    "    #else:\n",
    "        #neighborhoods['isToronto'] = 'NULL'\n",
    "print(j, 'boroughs that contain the word Toronto.')"
   ]
  },
  {
   "cell_type": "code",
   "execution_count": 30,
   "metadata": {
    "ExecuteTime": {
     "end_time": "2019-08-31T16:52:36.409206Z",
     "start_time": "2019-08-31T16:52:36.398240Z"
    }
   },
   "outputs": [
    {
     "data": {
      "text/html": [
       "<div>\n",
       "<style scoped>\n",
       "    .dataframe tbody tr th:only-of-type {\n",
       "        vertical-align: middle;\n",
       "    }\n",
       "\n",
       "    .dataframe tbody tr th {\n",
       "        vertical-align: top;\n",
       "    }\n",
       "\n",
       "    .dataframe thead th {\n",
       "        text-align: right;\n",
       "    }\n",
       "</style>\n",
       "<table border=\"1\" class=\"dataframe\">\n",
       "  <thead>\n",
       "    <tr style=\"text-align: right;\">\n",
       "      <th></th>\n",
       "      <th>Borough</th>\n",
       "      <th>Neighborhood</th>\n",
       "      <th>Latitude</th>\n",
       "      <th>Longitude</th>\n",
       "    </tr>\n",
       "  </thead>\n",
       "  <tbody>\n",
       "    <tr>\n",
       "      <th>0</th>\n",
       "      <td>East Toronto</td>\n",
       "      <td>The Beaches</td>\n",
       "      <td>43.6764</td>\n",
       "      <td>-79.293</td>\n",
       "    </tr>\n",
       "    <tr>\n",
       "      <th>1</th>\n",
       "      <td>East Toronto</td>\n",
       "      <td>The Danforth West, Riverdale</td>\n",
       "      <td>43.6796</td>\n",
       "      <td>-79.3522</td>\n",
       "    </tr>\n",
       "    <tr>\n",
       "      <th>2</th>\n",
       "      <td>East Toronto</td>\n",
       "      <td>The Beaches West, India Bazaar</td>\n",
       "      <td>43.669</td>\n",
       "      <td>-79.3156</td>\n",
       "    </tr>\n",
       "    <tr>\n",
       "      <th>3</th>\n",
       "      <td>East Toronto</td>\n",
       "      <td>Studio District</td>\n",
       "      <td>43.6595</td>\n",
       "      <td>-79.3409</td>\n",
       "    </tr>\n",
       "    <tr>\n",
       "      <th>4</th>\n",
       "      <td>Central Toronto</td>\n",
       "      <td>Lawrence Park</td>\n",
       "      <td>43.728</td>\n",
       "      <td>-79.3888</td>\n",
       "    </tr>\n",
       "    <tr>\n",
       "      <th>5</th>\n",
       "      <td>Central Toronto</td>\n",
       "      <td>Davisville North</td>\n",
       "      <td>43.7128</td>\n",
       "      <td>-79.3902</td>\n",
       "    </tr>\n",
       "    <tr>\n",
       "      <th>6</th>\n",
       "      <td>Central Toronto</td>\n",
       "      <td>North Toronto West</td>\n",
       "      <td>43.7154</td>\n",
       "      <td>-79.4057</td>\n",
       "    </tr>\n",
       "    <tr>\n",
       "      <th>7</th>\n",
       "      <td>Central Toronto</td>\n",
       "      <td>Davisville</td>\n",
       "      <td>43.7043</td>\n",
       "      <td>-79.3888</td>\n",
       "    </tr>\n",
       "    <tr>\n",
       "      <th>8</th>\n",
       "      <td>Central Toronto</td>\n",
       "      <td>Moore Park, Summerhill East</td>\n",
       "      <td>43.6896</td>\n",
       "      <td>-79.3832</td>\n",
       "    </tr>\n",
       "    <tr>\n",
       "      <th>9</th>\n",
       "      <td>Central Toronto</td>\n",
       "      <td>Deer Park, Forest Hill SE, Rathnelly, South Hi...</td>\n",
       "      <td>43.6864</td>\n",
       "      <td>-79.4</td>\n",
       "    </tr>\n",
       "    <tr>\n",
       "      <th>10</th>\n",
       "      <td>Downtown Toronto</td>\n",
       "      <td>Rosedale</td>\n",
       "      <td>43.6796</td>\n",
       "      <td>-79.3775</td>\n",
       "    </tr>\n",
       "    <tr>\n",
       "      <th>11</th>\n",
       "      <td>Downtown Toronto</td>\n",
       "      <td>Cabbagetown, St. James Town</td>\n",
       "      <td>43.668</td>\n",
       "      <td>-79.3677</td>\n",
       "    </tr>\n",
       "    <tr>\n",
       "      <th>12</th>\n",
       "      <td>Downtown Toronto</td>\n",
       "      <td>Church and Wellesley</td>\n",
       "      <td>43.6659</td>\n",
       "      <td>-79.3832</td>\n",
       "    </tr>\n",
       "    <tr>\n",
       "      <th>13</th>\n",
       "      <td>Downtown Toronto</td>\n",
       "      <td>Harbourfront, Regent Park</td>\n",
       "      <td>43.6543</td>\n",
       "      <td>-79.3606</td>\n",
       "    </tr>\n",
       "    <tr>\n",
       "      <th>14</th>\n",
       "      <td>Downtown Toronto</td>\n",
       "      <td>Ryerson, Garden District</td>\n",
       "      <td>43.6572</td>\n",
       "      <td>-79.3789</td>\n",
       "    </tr>\n",
       "    <tr>\n",
       "      <th>15</th>\n",
       "      <td>Downtown Toronto</td>\n",
       "      <td>St. James Town</td>\n",
       "      <td>43.6515</td>\n",
       "      <td>-79.3754</td>\n",
       "    </tr>\n",
       "    <tr>\n",
       "      <th>16</th>\n",
       "      <td>Downtown Toronto</td>\n",
       "      <td>Berczy Park</td>\n",
       "      <td>43.6448</td>\n",
       "      <td>-79.3733</td>\n",
       "    </tr>\n",
       "    <tr>\n",
       "      <th>17</th>\n",
       "      <td>Downtown Toronto</td>\n",
       "      <td>Central Bay Street</td>\n",
       "      <td>43.658</td>\n",
       "      <td>-79.3874</td>\n",
       "    </tr>\n",
       "    <tr>\n",
       "      <th>18</th>\n",
       "      <td>Downtown Toronto</td>\n",
       "      <td>Adelaide, King, Richmond</td>\n",
       "      <td>43.6506</td>\n",
       "      <td>-79.3846</td>\n",
       "    </tr>\n",
       "    <tr>\n",
       "      <th>19</th>\n",
       "      <td>Downtown Toronto</td>\n",
       "      <td>Harbourfront East, Toronto Islands, Union Station</td>\n",
       "      <td>43.6408</td>\n",
       "      <td>-79.3818</td>\n",
       "    </tr>\n",
       "    <tr>\n",
       "      <th>20</th>\n",
       "      <td>Downtown Toronto</td>\n",
       "      <td>Design Exchange, Toronto Dominion Centre</td>\n",
       "      <td>43.6472</td>\n",
       "      <td>-79.3816</td>\n",
       "    </tr>\n",
       "    <tr>\n",
       "      <th>21</th>\n",
       "      <td>Downtown Toronto</td>\n",
       "      <td>Commerce Court, Victoria Hotel</td>\n",
       "      <td>43.6482</td>\n",
       "      <td>-79.3798</td>\n",
       "    </tr>\n",
       "    <tr>\n",
       "      <th>22</th>\n",
       "      <td>Central Toronto</td>\n",
       "      <td>Roselawn</td>\n",
       "      <td>43.7117</td>\n",
       "      <td>-79.4169</td>\n",
       "    </tr>\n",
       "    <tr>\n",
       "      <th>23</th>\n",
       "      <td>Central Toronto</td>\n",
       "      <td>Forest Hill North, Forest Hill West</td>\n",
       "      <td>43.6969</td>\n",
       "      <td>-79.4113</td>\n",
       "    </tr>\n",
       "    <tr>\n",
       "      <th>24</th>\n",
       "      <td>Central Toronto</td>\n",
       "      <td>The Annex, North Midtown, Yorkville</td>\n",
       "      <td>43.6727</td>\n",
       "      <td>-79.4057</td>\n",
       "    </tr>\n",
       "    <tr>\n",
       "      <th>25</th>\n",
       "      <td>Downtown Toronto</td>\n",
       "      <td>Harbord, University of Toronto</td>\n",
       "      <td>43.6627</td>\n",
       "      <td>-79.4</td>\n",
       "    </tr>\n",
       "    <tr>\n",
       "      <th>26</th>\n",
       "      <td>Downtown Toronto</td>\n",
       "      <td>Chinatown, Grange Park, Kensington Market</td>\n",
       "      <td>43.6532</td>\n",
       "      <td>-79.4</td>\n",
       "    </tr>\n",
       "    <tr>\n",
       "      <th>27</th>\n",
       "      <td>Downtown Toronto</td>\n",
       "      <td>CN Tower, Bathurst Quay, Island airport, Harbo...</td>\n",
       "      <td>43.6289</td>\n",
       "      <td>-79.3944</td>\n",
       "    </tr>\n",
       "    <tr>\n",
       "      <th>28</th>\n",
       "      <td>Downtown Toronto</td>\n",
       "      <td>Stn A PO Boxes 25 The Esplanade</td>\n",
       "      <td>43.6464</td>\n",
       "      <td>-79.3748</td>\n",
       "    </tr>\n",
       "    <tr>\n",
       "      <th>29</th>\n",
       "      <td>Downtown Toronto</td>\n",
       "      <td>First Canadian Place, Underground city</td>\n",
       "      <td>43.6484</td>\n",
       "      <td>-79.3823</td>\n",
       "    </tr>\n",
       "    <tr>\n",
       "      <th>30</th>\n",
       "      <td>Downtown Toronto</td>\n",
       "      <td>Christie</td>\n",
       "      <td>43.6695</td>\n",
       "      <td>-79.4226</td>\n",
       "    </tr>\n",
       "    <tr>\n",
       "      <th>31</th>\n",
       "      <td>West Toronto</td>\n",
       "      <td>Dovercourt Village, Dufferin</td>\n",
       "      <td>43.669</td>\n",
       "      <td>-79.4423</td>\n",
       "    </tr>\n",
       "    <tr>\n",
       "      <th>32</th>\n",
       "      <td>West Toronto</td>\n",
       "      <td>Little Portugal, Trinity</td>\n",
       "      <td>43.6479</td>\n",
       "      <td>-79.4197</td>\n",
       "    </tr>\n",
       "    <tr>\n",
       "      <th>33</th>\n",
       "      <td>West Toronto</td>\n",
       "      <td>Brockton, Exhibition Place, Parkdale Village</td>\n",
       "      <td>43.6368</td>\n",
       "      <td>-79.4282</td>\n",
       "    </tr>\n",
       "    <tr>\n",
       "      <th>34</th>\n",
       "      <td>West Toronto</td>\n",
       "      <td>High Park, The Junction South</td>\n",
       "      <td>43.6616</td>\n",
       "      <td>-79.4648</td>\n",
       "    </tr>\n",
       "    <tr>\n",
       "      <th>35</th>\n",
       "      <td>West Toronto</td>\n",
       "      <td>Parkdale, Roncesvalles</td>\n",
       "      <td>43.649</td>\n",
       "      <td>-79.4563</td>\n",
       "    </tr>\n",
       "    <tr>\n",
       "      <th>36</th>\n",
       "      <td>West Toronto</td>\n",
       "      <td>Runnymede, Swansea</td>\n",
       "      <td>43.6516</td>\n",
       "      <td>-79.4844</td>\n",
       "    </tr>\n",
       "    <tr>\n",
       "      <th>37</th>\n",
       "      <td>East Toronto</td>\n",
       "      <td>Business Reply Mail Processing Centre 969 Eastern</td>\n",
       "      <td>43.6627</td>\n",
       "      <td>-79.3216</td>\n",
       "    </tr>\n",
       "  </tbody>\n",
       "</table>\n",
       "</div>"
      ],
      "text/plain": [
       "             Borough                                       Neighborhood  \\\n",
       "0       East Toronto                                        The Beaches   \n",
       "1       East Toronto                       The Danforth West, Riverdale   \n",
       "2       East Toronto                     The Beaches West, India Bazaar   \n",
       "3       East Toronto                                    Studio District   \n",
       "4    Central Toronto                                      Lawrence Park   \n",
       "5    Central Toronto                                   Davisville North   \n",
       "6    Central Toronto                                 North Toronto West   \n",
       "7    Central Toronto                                         Davisville   \n",
       "8    Central Toronto                        Moore Park, Summerhill East   \n",
       "9    Central Toronto  Deer Park, Forest Hill SE, Rathnelly, South Hi...   \n",
       "10  Downtown Toronto                                           Rosedale   \n",
       "11  Downtown Toronto                        Cabbagetown, St. James Town   \n",
       "12  Downtown Toronto                               Church and Wellesley   \n",
       "13  Downtown Toronto                          Harbourfront, Regent Park   \n",
       "14  Downtown Toronto                           Ryerson, Garden District   \n",
       "15  Downtown Toronto                                     St. James Town   \n",
       "16  Downtown Toronto                                        Berczy Park   \n",
       "17  Downtown Toronto                                 Central Bay Street   \n",
       "18  Downtown Toronto                           Adelaide, King, Richmond   \n",
       "19  Downtown Toronto  Harbourfront East, Toronto Islands, Union Station   \n",
       "20  Downtown Toronto           Design Exchange, Toronto Dominion Centre   \n",
       "21  Downtown Toronto                     Commerce Court, Victoria Hotel   \n",
       "22   Central Toronto                                           Roselawn   \n",
       "23   Central Toronto                Forest Hill North, Forest Hill West   \n",
       "24   Central Toronto                The Annex, North Midtown, Yorkville   \n",
       "25  Downtown Toronto                     Harbord, University of Toronto   \n",
       "26  Downtown Toronto          Chinatown, Grange Park, Kensington Market   \n",
       "27  Downtown Toronto  CN Tower, Bathurst Quay, Island airport, Harbo...   \n",
       "28  Downtown Toronto                    Stn A PO Boxes 25 The Esplanade   \n",
       "29  Downtown Toronto             First Canadian Place, Underground city   \n",
       "30  Downtown Toronto                                           Christie   \n",
       "31      West Toronto                       Dovercourt Village, Dufferin   \n",
       "32      West Toronto                           Little Portugal, Trinity   \n",
       "33      West Toronto       Brockton, Exhibition Place, Parkdale Village   \n",
       "34      West Toronto                      High Park, The Junction South   \n",
       "35      West Toronto                             Parkdale, Roncesvalles   \n",
       "36      West Toronto                                 Runnymede, Swansea   \n",
       "37      East Toronto  Business Reply Mail Processing Centre 969 Eastern   \n",
       "\n",
       "   Latitude Longitude  \n",
       "0   43.6764   -79.293  \n",
       "1   43.6796  -79.3522  \n",
       "2    43.669  -79.3156  \n",
       "3   43.6595  -79.3409  \n",
       "4    43.728  -79.3888  \n",
       "5   43.7128  -79.3902  \n",
       "6   43.7154  -79.4057  \n",
       "7   43.7043  -79.3888  \n",
       "8   43.6896  -79.3832  \n",
       "9   43.6864     -79.4  \n",
       "10  43.6796  -79.3775  \n",
       "11   43.668  -79.3677  \n",
       "12  43.6659  -79.3832  \n",
       "13  43.6543  -79.3606  \n",
       "14  43.6572  -79.3789  \n",
       "15  43.6515  -79.3754  \n",
       "16  43.6448  -79.3733  \n",
       "17   43.658  -79.3874  \n",
       "18  43.6506  -79.3846  \n",
       "19  43.6408  -79.3818  \n",
       "20  43.6472  -79.3816  \n",
       "21  43.6482  -79.3798  \n",
       "22  43.7117  -79.4169  \n",
       "23  43.6969  -79.4113  \n",
       "24  43.6727  -79.4057  \n",
       "25  43.6627     -79.4  \n",
       "26  43.6532     -79.4  \n",
       "27  43.6289  -79.3944  \n",
       "28  43.6464  -79.3748  \n",
       "29  43.6484  -79.3823  \n",
       "30  43.6695  -79.4226  \n",
       "31   43.669  -79.4423  \n",
       "32  43.6479  -79.4197  \n",
       "33  43.6368  -79.4282  \n",
       "34  43.6616  -79.4648  \n",
       "35   43.649  -79.4563  \n",
       "36  43.6516  -79.4844  \n",
       "37  43.6627  -79.3216  "
      ]
     },
     "execution_count": 30,
     "metadata": {},
     "output_type": "execute_result"
    }
   ],
   "source": [
    "toronto_Borough"
   ]
  },
  {
   "cell_type": "markdown",
   "metadata": {},
   "source": [
    "Let's visualizat Toronto the neighborhoods (The boroughs that contain the word Toronto)"
   ]
  },
  {
   "cell_type": "code",
   "execution_count": 31,
   "metadata": {
    "ExecuteTime": {
     "end_time": "2019-08-31T16:52:36.473002Z",
     "start_time": "2019-08-31T16:52:36.410170Z"
    },
    "scrolled": true
   },
   "outputs": [
    {
     "data": {
      "text/html": [
       "<div style=\"width:100%;\"><div style=\"position:relative;width:100%;height:0;padding-bottom:60%;\"><iframe src=\"data:text/html;charset=utf-8;base64,PCFET0NUWVBFIGh0bWw+CjxoZWFkPiAgICAKICAgIDxtZXRhIGh0dHAtZXF1aXY9ImNvbnRlbnQtdHlwZSIgY29udGVudD0idGV4dC9odG1sOyBjaGFyc2V0PVVURi04IiAvPgogICAgCiAgICAgICAgPHNjcmlwdD4KICAgICAgICAgICAgTF9OT19UT1VDSCA9IGZhbHNlOwogICAgICAgICAgICBMX0RJU0FCTEVfM0QgPSBmYWxzZTsKICAgICAgICA8L3NjcmlwdD4KICAgIAogICAgPHNjcmlwdCBzcmM9Imh0dHBzOi8vY2RuLmpzZGVsaXZyLm5ldC9ucG0vbGVhZmxldEAxLjUuMS9kaXN0L2xlYWZsZXQuanMiPjwvc2NyaXB0PgogICAgPHNjcmlwdCBzcmM9Imh0dHBzOi8vY29kZS5qcXVlcnkuY29tL2pxdWVyeS0xLjEyLjQubWluLmpzIj48L3NjcmlwdD4KICAgIDxzY3JpcHQgc3JjPSJodHRwczovL21heGNkbi5ib290c3RyYXBjZG4uY29tL2Jvb3RzdHJhcC8zLjIuMC9qcy9ib290c3RyYXAubWluLmpzIj48L3NjcmlwdD4KICAgIDxzY3JpcHQgc3JjPSJodHRwczovL2NkbmpzLmNsb3VkZmxhcmUuY29tL2FqYXgvbGlicy9MZWFmbGV0LmF3ZXNvbWUtbWFya2Vycy8yLjAuMi9sZWFmbGV0LmF3ZXNvbWUtbWFya2Vycy5qcyI+PC9zY3JpcHQ+CiAgICA8bGluayByZWw9InN0eWxlc2hlZXQiIGhyZWY9Imh0dHBzOi8vY2RuLmpzZGVsaXZyLm5ldC9ucG0vbGVhZmxldEAxLjUuMS9kaXN0L2xlYWZsZXQuY3NzIi8+CiAgICA8bGluayByZWw9InN0eWxlc2hlZXQiIGhyZWY9Imh0dHBzOi8vbWF4Y2RuLmJvb3RzdHJhcGNkbi5jb20vYm9vdHN0cmFwLzMuMi4wL2Nzcy9ib290c3RyYXAubWluLmNzcyIvPgogICAgPGxpbmsgcmVsPSJzdHlsZXNoZWV0IiBocmVmPSJodHRwczovL21heGNkbi5ib290c3RyYXBjZG4uY29tL2Jvb3RzdHJhcC8zLjIuMC9jc3MvYm9vdHN0cmFwLXRoZW1lLm1pbi5jc3MiLz4KICAgIDxsaW5rIHJlbD0ic3R5bGVzaGVldCIgaHJlZj0iaHR0cHM6Ly9tYXhjZG4uYm9vdHN0cmFwY2RuLmNvbS9mb250LWF3ZXNvbWUvNC42LjMvY3NzL2ZvbnQtYXdlc29tZS5taW4uY3NzIi8+CiAgICA8bGluayByZWw9InN0eWxlc2hlZXQiIGhyZWY9Imh0dHBzOi8vY2RuanMuY2xvdWRmbGFyZS5jb20vYWpheC9saWJzL0xlYWZsZXQuYXdlc29tZS1tYXJrZXJzLzIuMC4yL2xlYWZsZXQuYXdlc29tZS1tYXJrZXJzLmNzcyIvPgogICAgPGxpbmsgcmVsPSJzdHlsZXNoZWV0IiBocmVmPSJodHRwczovL3Jhd2Nkbi5naXRoYWNrLmNvbS9weXRob24tdmlzdWFsaXphdGlvbi9mb2xpdW0vbWFzdGVyL2ZvbGl1bS90ZW1wbGF0ZXMvbGVhZmxldC5hd2Vzb21lLnJvdGF0ZS5jc3MiLz4KICAgIDxzdHlsZT5odG1sLCBib2R5IHt3aWR0aDogMTAwJTtoZWlnaHQ6IDEwMCU7bWFyZ2luOiAwO3BhZGRpbmc6IDA7fTwvc3R5bGU+CiAgICA8c3R5bGU+I21hcCB7cG9zaXRpb246YWJzb2x1dGU7dG9wOjA7Ym90dG9tOjA7cmlnaHQ6MDtsZWZ0OjA7fTwvc3R5bGU+CiAgICAKICAgICAgICAgICAgPG1ldGEgbmFtZT0idmlld3BvcnQiIGNvbnRlbnQ9IndpZHRoPWRldmljZS13aWR0aCwKICAgICAgICAgICAgICAgIGluaXRpYWwtc2NhbGU9MS4wLCBtYXhpbXVtLXNjYWxlPTEuMCwgdXNlci1zY2FsYWJsZT1ubyIgLz4KICAgICAgICAgICAgPHN0eWxlPgogICAgICAgICAgICAgICAgI21hcF82ZWY2ZWU5ZTVkZDU0MmM0YWYyOWM5YzI2NTZhOTFlMSB7CiAgICAgICAgICAgICAgICAgICAgcG9zaXRpb246IHJlbGF0aXZlOwogICAgICAgICAgICAgICAgICAgIHdpZHRoOiAxMDAuMCU7CiAgICAgICAgICAgICAgICAgICAgaGVpZ2h0OiAxMDAuMCU7CiAgICAgICAgICAgICAgICAgICAgbGVmdDogMC4wJTsKICAgICAgICAgICAgICAgICAgICB0b3A6IDAuMCU7CiAgICAgICAgICAgICAgICB9CiAgICAgICAgICAgIDwvc3R5bGU+CiAgICAgICAgCjwvaGVhZD4KPGJvZHk+ICAgIAogICAgCiAgICAgICAgICAgIDxkaXYgY2xhc3M9ImZvbGl1bS1tYXAiIGlkPSJtYXBfNmVmNmVlOWU1ZGQ1NDJjNGFmMjljOWMyNjU2YTkxZTEiID48L2Rpdj4KICAgICAgICAKPC9ib2R5Pgo8c2NyaXB0PiAgICAKICAgIAogICAgICAgICAgICB2YXIgbWFwXzZlZjZlZTllNWRkNTQyYzRhZjI5YzljMjY1NmE5MWUxID0gTC5tYXAoCiAgICAgICAgICAgICAgICAibWFwXzZlZjZlZTllNWRkNTQyYzRhZjI5YzljMjY1NmE5MWUxIiwKICAgICAgICAgICAgICAgIHsKICAgICAgICAgICAgICAgICAgICBjZW50ZXI6IFs0My42NTM5NjMsIC03OS4zODcyMDddLAogICAgICAgICAgICAgICAgICAgIGNyczogTC5DUlMuRVBTRzM4NTcsCiAgICAgICAgICAgICAgICAgICAgem9vbTogMTEsCiAgICAgICAgICAgICAgICAgICAgem9vbUNvbnRyb2w6IHRydWUsCiAgICAgICAgICAgICAgICAgICAgcHJlZmVyQ2FudmFzOiBmYWxzZSwKICAgICAgICAgICAgICAgIH0KICAgICAgICAgICAgKTsKCiAgICAgICAgICAgIAoKICAgICAgICAKICAgIAogICAgICAgICAgICB2YXIgdGlsZV9sYXllcl8wNzE3ZDI1NjZhODE0YzFlOGRhOTg1YjBkOTc2NGEwMiA9IEwudGlsZUxheWVyKAogICAgICAgICAgICAgICAgImh0dHBzOi8ve3N9LnRpbGUub3BlbnN0cmVldG1hcC5vcmcve3p9L3t4fS97eX0ucG5nIiwKICAgICAgICAgICAgICAgIHsiYXR0cmlidXRpb24iOiAiRGF0YSBieSBcdTAwMjZjb3B5OyBcdTAwM2NhIGhyZWY9XCJodHRwOi8vb3BlbnN0cmVldG1hcC5vcmdcIlx1MDAzZU9wZW5TdHJlZXRNYXBcdTAwM2MvYVx1MDAzZSwgdW5kZXIgXHUwMDNjYSBocmVmPVwiaHR0cDovL3d3dy5vcGVuc3RyZWV0bWFwLm9yZy9jb3B5cmlnaHRcIlx1MDAzZU9EYkxcdTAwM2MvYVx1MDAzZS4iLCAiZGV0ZWN0UmV0aW5hIjogZmFsc2UsICJtYXhOYXRpdmVab29tIjogMTgsICJtYXhab29tIjogMTgsICJtaW5ab29tIjogMCwgIm5vV3JhcCI6IGZhbHNlLCAib3BhY2l0eSI6IDEsICJzdWJkb21haW5zIjogImFiYyIsICJ0bXMiOiBmYWxzZX0KICAgICAgICAgICAgKS5hZGRUbyhtYXBfNmVmNmVlOWU1ZGQ1NDJjNGFmMjljOWMyNjU2YTkxZTEpOwogICAgICAgIAogICAgCiAgICAgICAgICAgIHZhciBjaXJjbGVfbWFya2VyX2ZjYjcxOTM5NjIwYjRkYmQ4Njk4N2FkYzU2N2MxYzViID0gTC5jaXJjbGVNYXJrZXIoCiAgICAgICAgICAgICAgICBbNDMuNjc2MzU3Mzk5OTk5OTksIC03OS4yOTMwMzEyXSwKICAgICAgICAgICAgICAgIHsiYnViYmxpbmdNb3VzZUV2ZW50cyI6IHRydWUsICJjb2xvciI6ICJyZWQiLCAiZGFzaEFycmF5IjogbnVsbCwgImRhc2hPZmZzZXQiOiBudWxsLCAiZmlsbCI6IHRydWUsICJmaWxsQ29sb3IiOiAiIzMxODZjYyIsICJmaWxsT3BhY2l0eSI6IDAuNywgImZpbGxSdWxlIjogImV2ZW5vZGQiLCAibGluZUNhcCI6ICJyb3VuZCIsICJsaW5lSm9pbiI6ICJyb3VuZCIsICJvcGFjaXR5IjogMS4wLCAicmFkaXVzIjogNSwgInN0cm9rZSI6IHRydWUsICJ3ZWlnaHQiOiAzfQogICAgICAgICAgICApLmFkZFRvKG1hcF82ZWY2ZWU5ZTVkZDU0MmM0YWYyOWM5YzI2NTZhOTFlMSk7CiAgICAgICAgCiAgICAKICAgICAgICB2YXIgcG9wdXBfM2YzZGJlYTk3NjFlNDAxOGFhYzUxMmE0OTYyODNlMzEgPSBMLnBvcHVwKHsibWF4V2lkdGgiOiAiMTAwJSJ9KTsKCiAgICAgICAgCiAgICAgICAgICAgIHZhciBodG1sXzFiOGEzNzAzMGI4ZTQwMGViMWVkZWUxNmM5NjA2YWFlID0gJChgPGRpdiBpZD0iaHRtbF8xYjhhMzcwMzBiOGU0MDBlYjFlZGVlMTZjOTYwNmFhZSIgc3R5bGU9IndpZHRoOiAxMDAuMCU7IGhlaWdodDogMTAwLjAlOyI+VGhlIEJlYWNoZXM8L2Rpdj5gKVswXTsKICAgICAgICAgICAgcG9wdXBfM2YzZGJlYTk3NjFlNDAxOGFhYzUxMmE0OTYyODNlMzEuc2V0Q29udGVudChodG1sXzFiOGEzNzAzMGI4ZTQwMGViMWVkZWUxNmM5NjA2YWFlKTsKICAgICAgICAKCiAgICAgICAgY2lyY2xlX21hcmtlcl9mY2I3MTkzOTYyMGI0ZGJkODY5ODdhZGM1NjdjMWM1Yi5iaW5kUG9wdXAocG9wdXBfM2YzZGJlYTk3NjFlNDAxOGFhYzUxMmE0OTYyODNlMzEpCiAgICAgICAgOwoKICAgICAgICAKICAgIAogICAgCiAgICAgICAgICAgIHZhciBjaXJjbGVfbWFya2VyX2U3YTFlMWJjNmNhMDQyMmE5ZDNiNWQxODI4ZTNmMjZkID0gTC5jaXJjbGVNYXJrZXIoCiAgICAgICAgICAgICAgICBbNDMuNjc5NTU3MSwgLTc5LjM1MjE4OF0sCiAgICAgICAgICAgICAgICB7ImJ1YmJsaW5nTW91c2VFdmVudHMiOiB0cnVlLCAiY29sb3IiOiAicmVkIiwgImRhc2hBcnJheSI6IG51bGwsICJkYXNoT2Zmc2V0IjogbnVsbCwgImZpbGwiOiB0cnVlLCAiZmlsbENvbG9yIjogIiMzMTg2Y2MiLCAiZmlsbE9wYWNpdHkiOiAwLjcsICJmaWxsUnVsZSI6ICJldmVub2RkIiwgImxpbmVDYXAiOiAicm91bmQiLCAibGluZUpvaW4iOiAicm91bmQiLCAib3BhY2l0eSI6IDEuMCwgInJhZGl1cyI6IDUsICJzdHJva2UiOiB0cnVlLCAid2VpZ2h0IjogM30KICAgICAgICAgICAgKS5hZGRUbyhtYXBfNmVmNmVlOWU1ZGQ1NDJjNGFmMjljOWMyNjU2YTkxZTEpOwogICAgICAgIAogICAgCiAgICAgICAgdmFyIHBvcHVwX2Y3MjExNzRjYTI4ZDQ4NmE4ODliMjhhNDlkNDg0ZTIwID0gTC5wb3B1cCh7Im1heFdpZHRoIjogIjEwMCUifSk7CgogICAgICAgIAogICAgICAgICAgICB2YXIgaHRtbF8yYzE1YzI2OGUwNTU0NjE2YWViYjA1ZmVhYmMyMTE3YiA9ICQoYDxkaXYgaWQ9Imh0bWxfMmMxNWMyNjhlMDU1NDYxNmFlYmIwNWZlYWJjMjExN2IiIHN0eWxlPSJ3aWR0aDogMTAwLjAlOyBoZWlnaHQ6IDEwMC4wJTsiPlRoZSBEYW5mb3J0aCBXZXN0LCBSaXZlcmRhbGU8L2Rpdj5gKVswXTsKICAgICAgICAgICAgcG9wdXBfZjcyMTE3NGNhMjhkNDg2YTg4OWIyOGE0OWQ0ODRlMjAuc2V0Q29udGVudChodG1sXzJjMTVjMjY4ZTA1NTQ2MTZhZWJiMDVmZWFiYzIxMTdiKTsKICAgICAgICAKCiAgICAgICAgY2lyY2xlX21hcmtlcl9lN2ExZTFiYzZjYTA0MjJhOWQzYjVkMTgyOGUzZjI2ZC5iaW5kUG9wdXAocG9wdXBfZjcyMTE3NGNhMjhkNDg2YTg4OWIyOGE0OWQ0ODRlMjApCiAgICAgICAgOwoKICAgICAgICAKICAgIAogICAgCiAgICAgICAgICAgIHZhciBjaXJjbGVfbWFya2VyXzQ5MGZmNGQ5MjRhYTRjNmQ5NDFhMTIyMjg2YmE2ZmVmID0gTC5jaXJjbGVNYXJrZXIoCiAgICAgICAgICAgICAgICBbNDMuNjY4OTk4NSwgLTc5LjMxNTU3MTU5OTk5OTk4XSwKICAgICAgICAgICAgICAgIHsiYnViYmxpbmdNb3VzZUV2ZW50cyI6IHRydWUsICJjb2xvciI6ICJyZWQiLCAiZGFzaEFycmF5IjogbnVsbCwgImRhc2hPZmZzZXQiOiBudWxsLCAiZmlsbCI6IHRydWUsICJmaWxsQ29sb3IiOiAiIzMxODZjYyIsICJmaWxsT3BhY2l0eSI6IDAuNywgImZpbGxSdWxlIjogImV2ZW5vZGQiLCAibGluZUNhcCI6ICJyb3VuZCIsICJsaW5lSm9pbiI6ICJyb3VuZCIsICJvcGFjaXR5IjogMS4wLCAicmFkaXVzIjogNSwgInN0cm9rZSI6IHRydWUsICJ3ZWlnaHQiOiAzfQogICAgICAgICAgICApLmFkZFRvKG1hcF82ZWY2ZWU5ZTVkZDU0MmM0YWYyOWM5YzI2NTZhOTFlMSk7CiAgICAgICAgCiAgICAKICAgICAgICB2YXIgcG9wdXBfYzlhZTQwZjI2NjM5NDZmN2IyYjBiMjUwZjM4MmUyOWQgPSBMLnBvcHVwKHsibWF4V2lkdGgiOiAiMTAwJSJ9KTsKCiAgICAgICAgCiAgICAgICAgICAgIHZhciBodG1sXzc3OGIyNmRlMzhkZTQ0NmM4ODM4MzJkODI2NjYyNDIzID0gJChgPGRpdiBpZD0iaHRtbF83NzhiMjZkZTM4ZGU0NDZjODgzODMyZDgyNjY2MjQyMyIgc3R5bGU9IndpZHRoOiAxMDAuMCU7IGhlaWdodDogMTAwLjAlOyI+VGhlIEJlYWNoZXMgV2VzdCwgSW5kaWEgQmF6YWFyPC9kaXY+YClbMF07CiAgICAgICAgICAgIHBvcHVwX2M5YWU0MGYyNjYzOTQ2ZjdiMmIwYjI1MGYzODJlMjlkLnNldENvbnRlbnQoaHRtbF83NzhiMjZkZTM4ZGU0NDZjODgzODMyZDgyNjY2MjQyMyk7CiAgICAgICAgCgogICAgICAgIGNpcmNsZV9tYXJrZXJfNDkwZmY0ZDkyNGFhNGM2ZDk0MWExMjIyODZiYTZmZWYuYmluZFBvcHVwKHBvcHVwX2M5YWU0MGYyNjYzOTQ2ZjdiMmIwYjI1MGYzODJlMjlkKQogICAgICAgIDsKCiAgICAgICAgCiAgICAKICAgIAogICAgICAgICAgICB2YXIgY2lyY2xlX21hcmtlcl8zZDcxMDA0OTM0NDI0NzhjOGViY2Q0ODkzYTdhOGU3MyA9IEwuY2lyY2xlTWFya2VyKAogICAgICAgICAgICAgICAgWzQzLjY1OTUyNTUsIC03OS4zNDA5MjNdLAogICAgICAgICAgICAgICAgeyJidWJibGluZ01vdXNlRXZlbnRzIjogdHJ1ZSwgImNvbG9yIjogInJlZCIsICJkYXNoQXJyYXkiOiBudWxsLCAiZGFzaE9mZnNldCI6IG51bGwsICJmaWxsIjogdHJ1ZSwgImZpbGxDb2xvciI6ICIjMzE4NmNjIiwgImZpbGxPcGFjaXR5IjogMC43LCAiZmlsbFJ1bGUiOiAiZXZlbm9kZCIsICJsaW5lQ2FwIjogInJvdW5kIiwgImxpbmVKb2luIjogInJvdW5kIiwgIm9wYWNpdHkiOiAxLjAsICJyYWRpdXMiOiA1LCAic3Ryb2tlIjogdHJ1ZSwgIndlaWdodCI6IDN9CiAgICAgICAgICAgICkuYWRkVG8obWFwXzZlZjZlZTllNWRkNTQyYzRhZjI5YzljMjY1NmE5MWUxKTsKICAgICAgICAKICAgIAogICAgICAgIHZhciBwb3B1cF9kMmU3MmFhYTdjMDE0YzdmOTBhMzUyMTU1MzYzMTdjNSA9IEwucG9wdXAoeyJtYXhXaWR0aCI6ICIxMDAlIn0pOwoKICAgICAgICAKICAgICAgICAgICAgdmFyIGh0bWxfMGM2YzdlYWY3OTI5NDMwNzllMGVkNjQwZDk4ZjRjNTUgPSAkKGA8ZGl2IGlkPSJodG1sXzBjNmM3ZWFmNzkyOTQzMDc5ZTBlZDY0MGQ5OGY0YzU1IiBzdHlsZT0id2lkdGg6IDEwMC4wJTsgaGVpZ2h0OiAxMDAuMCU7Ij5TdHVkaW8gRGlzdHJpY3Q8L2Rpdj5gKVswXTsKICAgICAgICAgICAgcG9wdXBfZDJlNzJhYWE3YzAxNGM3ZjkwYTM1MjE1NTM2MzE3YzUuc2V0Q29udGVudChodG1sXzBjNmM3ZWFmNzkyOTQzMDc5ZTBlZDY0MGQ5OGY0YzU1KTsKICAgICAgICAKCiAgICAgICAgY2lyY2xlX21hcmtlcl8zZDcxMDA0OTM0NDI0NzhjOGViY2Q0ODkzYTdhOGU3My5iaW5kUG9wdXAocG9wdXBfZDJlNzJhYWE3YzAxNGM3ZjkwYTM1MjE1NTM2MzE3YzUpCiAgICAgICAgOwoKICAgICAgICAKICAgIAogICAgCiAgICAgICAgICAgIHZhciBjaXJjbGVfbWFya2VyXzNmNTI0MDBlYmEzNTRiZWI4MDBhZDg4MGRhYTFlYzhhID0gTC5jaXJjbGVNYXJrZXIoCiAgICAgICAgICAgICAgICBbNDMuNzI4MDIwNSwgLTc5LjM4ODc5MDFdLAogICAgICAgICAgICAgICAgeyJidWJibGluZ01vdXNlRXZlbnRzIjogdHJ1ZSwgImNvbG9yIjogInJlZCIsICJkYXNoQXJyYXkiOiBudWxsLCAiZGFzaE9mZnNldCI6IG51bGwsICJmaWxsIjogdHJ1ZSwgImZpbGxDb2xvciI6ICIjMzE4NmNjIiwgImZpbGxPcGFjaXR5IjogMC43LCAiZmlsbFJ1bGUiOiAiZXZlbm9kZCIsICJsaW5lQ2FwIjogInJvdW5kIiwgImxpbmVKb2luIjogInJvdW5kIiwgIm9wYWNpdHkiOiAxLjAsICJyYWRpdXMiOiA1LCAic3Ryb2tlIjogdHJ1ZSwgIndlaWdodCI6IDN9CiAgICAgICAgICAgICkuYWRkVG8obWFwXzZlZjZlZTllNWRkNTQyYzRhZjI5YzljMjY1NmE5MWUxKTsKICAgICAgICAKICAgIAogICAgICAgIHZhciBwb3B1cF81ZGE2NDI4YzhmYTM0NTM2OGU4MWMwZTQ0ZDRkYTkwNCA9IEwucG9wdXAoeyJtYXhXaWR0aCI6ICIxMDAlIn0pOwoKICAgICAgICAKICAgICAgICAgICAgdmFyIGh0bWxfZDA2ZDA4MzdkZjc1NGUzZGJjNjJiYzY3MWM1ZWQ2NTMgPSAkKGA8ZGl2IGlkPSJodG1sX2QwNmQwODM3ZGY3NTRlM2RiYzYyYmM2NzFjNWVkNjUzIiBzdHlsZT0id2lkdGg6IDEwMC4wJTsgaGVpZ2h0OiAxMDAuMCU7Ij5MYXdyZW5jZSBQYXJrPC9kaXY+YClbMF07CiAgICAgICAgICAgIHBvcHVwXzVkYTY0MjhjOGZhMzQ1MzY4ZTgxYzBlNDRkNGRhOTA0LnNldENvbnRlbnQoaHRtbF9kMDZkMDgzN2RmNzU0ZTNkYmM2MmJjNjcxYzVlZDY1Myk7CiAgICAgICAgCgogICAgICAgIGNpcmNsZV9tYXJrZXJfM2Y1MjQwMGViYTM1NGJlYjgwMGFkODgwZGFhMWVjOGEuYmluZFBvcHVwKHBvcHVwXzVkYTY0MjhjOGZhMzQ1MzY4ZTgxYzBlNDRkNGRhOTA0KQogICAgICAgIDsKCiAgICAgICAgCiAgICAKICAgIAogICAgICAgICAgICB2YXIgY2lyY2xlX21hcmtlcl85ZjIyMDViNmExZmM0Y2Y3Yjg0ZTAwNDdkN2JjYjU4OSA9IEwuY2lyY2xlTWFya2VyKAogICAgICAgICAgICAgICAgWzQzLjcxMjc1MTEsIC03OS4zOTAxOTc1XSwKICAgICAgICAgICAgICAgIHsiYnViYmxpbmdNb3VzZUV2ZW50cyI6IHRydWUsICJjb2xvciI6ICJyZWQiLCAiZGFzaEFycmF5IjogbnVsbCwgImRhc2hPZmZzZXQiOiBudWxsLCAiZmlsbCI6IHRydWUsICJmaWxsQ29sb3IiOiAiIzMxODZjYyIsICJmaWxsT3BhY2l0eSI6IDAuNywgImZpbGxSdWxlIjogImV2ZW5vZGQiLCAibGluZUNhcCI6ICJyb3VuZCIsICJsaW5lSm9pbiI6ICJyb3VuZCIsICJvcGFjaXR5IjogMS4wLCAicmFkaXVzIjogNSwgInN0cm9rZSI6IHRydWUsICJ3ZWlnaHQiOiAzfQogICAgICAgICAgICApLmFkZFRvKG1hcF82ZWY2ZWU5ZTVkZDU0MmM0YWYyOWM5YzI2NTZhOTFlMSk7CiAgICAgICAgCiAgICAKICAgICAgICB2YXIgcG9wdXBfM2JkNjQ2MjNiODBiNGI0OGI2NzliZTQzM2U0M2VkNDcgPSBMLnBvcHVwKHsibWF4V2lkdGgiOiAiMTAwJSJ9KTsKCiAgICAgICAgCiAgICAgICAgICAgIHZhciBodG1sX2Q1NzAxMDZkNTVjODRlMWRiMzhlNWI1MjI0NjY2NWI0ID0gJChgPGRpdiBpZD0iaHRtbF9kNTcwMTA2ZDU1Yzg0ZTFkYjM4ZTViNTIyNDY2NjViNCIgc3R5bGU9IndpZHRoOiAxMDAuMCU7IGhlaWdodDogMTAwLjAlOyI+RGF2aXN2aWxsZSBOb3J0aDwvZGl2PmApWzBdOwogICAgICAgICAgICBwb3B1cF8zYmQ2NDYyM2I4MGI0YjQ4YjY3OWJlNDMzZTQzZWQ0Ny5zZXRDb250ZW50KGh0bWxfZDU3MDEwNmQ1NWM4NGUxZGIzOGU1YjUyMjQ2NjY1YjQpOwogICAgICAgIAoKICAgICAgICBjaXJjbGVfbWFya2VyXzlmMjIwNWI2YTFmYzRjZjdiODRlMDA0N2Q3YmNiNTg5LmJpbmRQb3B1cChwb3B1cF8zYmQ2NDYyM2I4MGI0YjQ4YjY3OWJlNDMzZTQzZWQ0NykKICAgICAgICA7CgogICAgICAgIAogICAgCiAgICAKICAgICAgICAgICAgdmFyIGNpcmNsZV9tYXJrZXJfYjE3ZjRiNGMxOGYzNDQ4NGEwZDNmMjljOWYyMTMxOWUgPSBMLmNpcmNsZU1hcmtlcigKICAgICAgICAgICAgICAgIFs0My43MTUzODM0LCAtNzkuNDA1Njc4NDAwMDAwMDFdLAogICAgICAgICAgICAgICAgeyJidWJibGluZ01vdXNlRXZlbnRzIjogdHJ1ZSwgImNvbG9yIjogInJlZCIsICJkYXNoQXJyYXkiOiBudWxsLCAiZGFzaE9mZnNldCI6IG51bGwsICJmaWxsIjogdHJ1ZSwgImZpbGxDb2xvciI6ICIjMzE4NmNjIiwgImZpbGxPcGFjaXR5IjogMC43LCAiZmlsbFJ1bGUiOiAiZXZlbm9kZCIsICJsaW5lQ2FwIjogInJvdW5kIiwgImxpbmVKb2luIjogInJvdW5kIiwgIm9wYWNpdHkiOiAxLjAsICJyYWRpdXMiOiA1LCAic3Ryb2tlIjogdHJ1ZSwgIndlaWdodCI6IDN9CiAgICAgICAgICAgICkuYWRkVG8obWFwXzZlZjZlZTllNWRkNTQyYzRhZjI5YzljMjY1NmE5MWUxKTsKICAgICAgICAKICAgIAogICAgICAgIHZhciBwb3B1cF9jMDJmNTBlMmVlNzE0YTkxOTRlNzVlOGE2ZGM4Mjk3MyA9IEwucG9wdXAoeyJtYXhXaWR0aCI6ICIxMDAlIn0pOwoKICAgICAgICAKICAgICAgICAgICAgdmFyIGh0bWxfY2VlY2U1NzdlZTI0NDY0ZGFhY2ZlOGY0ODA5OTU0ZTggPSAkKGA8ZGl2IGlkPSJodG1sX2NlZWNlNTc3ZWUyNDQ2NGRhYWNmZThmNDgwOTk1NGU4IiBzdHlsZT0id2lkdGg6IDEwMC4wJTsgaGVpZ2h0OiAxMDAuMCU7Ij5Ob3J0aCBUb3JvbnRvIFdlc3Q8L2Rpdj5gKVswXTsKICAgICAgICAgICAgcG9wdXBfYzAyZjUwZTJlZTcxNGE5MTk0ZTc1ZThhNmRjODI5NzMuc2V0Q29udGVudChodG1sX2NlZWNlNTc3ZWUyNDQ2NGRhYWNmZThmNDgwOTk1NGU4KTsKICAgICAgICAKCiAgICAgICAgY2lyY2xlX21hcmtlcl9iMTdmNGI0YzE4ZjM0NDg0YTBkM2YyOWM5ZjIxMzE5ZS5iaW5kUG9wdXAocG9wdXBfYzAyZjUwZTJlZTcxNGE5MTk0ZTc1ZThhNmRjODI5NzMpCiAgICAgICAgOwoKICAgICAgICAKICAgIAogICAgCiAgICAgICAgICAgIHZhciBjaXJjbGVfbWFya2VyXzI1OTMzMzUwOGViYTRiZmJhMWJhZDQxN2VlMGE3MzI5ID0gTC5jaXJjbGVNYXJrZXIoCiAgICAgICAgICAgICAgICBbNDMuNzA0MzI0NCwgLTc5LjM4ODc5MDFdLAogICAgICAgICAgICAgICAgeyJidWJibGluZ01vdXNlRXZlbnRzIjogdHJ1ZSwgImNvbG9yIjogInJlZCIsICJkYXNoQXJyYXkiOiBudWxsLCAiZGFzaE9mZnNldCI6IG51bGwsICJmaWxsIjogdHJ1ZSwgImZpbGxDb2xvciI6ICIjMzE4NmNjIiwgImZpbGxPcGFjaXR5IjogMC43LCAiZmlsbFJ1bGUiOiAiZXZlbm9kZCIsICJsaW5lQ2FwIjogInJvdW5kIiwgImxpbmVKb2luIjogInJvdW5kIiwgIm9wYWNpdHkiOiAxLjAsICJyYWRpdXMiOiA1LCAic3Ryb2tlIjogdHJ1ZSwgIndlaWdodCI6IDN9CiAgICAgICAgICAgICkuYWRkVG8obWFwXzZlZjZlZTllNWRkNTQyYzRhZjI5YzljMjY1NmE5MWUxKTsKICAgICAgICAKICAgIAogICAgICAgIHZhciBwb3B1cF9iZTE0YzM5Y2ZhNzY0Nzg3YTQ2NDRlYmU0YjY0YTVjYiA9IEwucG9wdXAoeyJtYXhXaWR0aCI6ICIxMDAlIn0pOwoKICAgICAgICAKICAgICAgICAgICAgdmFyIGh0bWxfZGY4NmFlZGY0ZjBmNDk2MWE3ODQxZjU2ZTg4NDM0M2EgPSAkKGA8ZGl2IGlkPSJodG1sX2RmODZhZWRmNGYwZjQ5NjFhNzg0MWY1NmU4ODQzNDNhIiBzdHlsZT0id2lkdGg6IDEwMC4wJTsgaGVpZ2h0OiAxMDAuMCU7Ij5EYXZpc3ZpbGxlPC9kaXY+YClbMF07CiAgICAgICAgICAgIHBvcHVwX2JlMTRjMzljZmE3NjQ3ODdhNDY0NGViZTRiNjRhNWNiLnNldENvbnRlbnQoaHRtbF9kZjg2YWVkZjRmMGY0OTYxYTc4NDFmNTZlODg0MzQzYSk7CiAgICAgICAgCgogICAgICAgIGNpcmNsZV9tYXJrZXJfMjU5MzMzNTA4ZWJhNGJmYmExYmFkNDE3ZWUwYTczMjkuYmluZFBvcHVwKHBvcHVwX2JlMTRjMzljZmE3NjQ3ODdhNDY0NGViZTRiNjRhNWNiKQogICAgICAgIDsKCiAgICAgICAgCiAgICAKICAgIAogICAgICAgICAgICB2YXIgY2lyY2xlX21hcmtlcl9mZGU0NGZlMTI0ODk0MGU0YWFhYjAxMDNkZDE1ZDcyYiA9IEwuY2lyY2xlTWFya2VyKAogICAgICAgICAgICAgICAgWzQzLjY4OTU3NDMsIC03OS4zODMxNTk5MDAwMDAwMV0sCiAgICAgICAgICAgICAgICB7ImJ1YmJsaW5nTW91c2VFdmVudHMiOiB0cnVlLCAiY29sb3IiOiAicmVkIiwgImRhc2hBcnJheSI6IG51bGwsICJkYXNoT2Zmc2V0IjogbnVsbCwgImZpbGwiOiB0cnVlLCAiZmlsbENvbG9yIjogIiMzMTg2Y2MiLCAiZmlsbE9wYWNpdHkiOiAwLjcsICJmaWxsUnVsZSI6ICJldmVub2RkIiwgImxpbmVDYXAiOiAicm91bmQiLCAibGluZUpvaW4iOiAicm91bmQiLCAib3BhY2l0eSI6IDEuMCwgInJhZGl1cyI6IDUsICJzdHJva2UiOiB0cnVlLCAid2VpZ2h0IjogM30KICAgICAgICAgICAgKS5hZGRUbyhtYXBfNmVmNmVlOWU1ZGQ1NDJjNGFmMjljOWMyNjU2YTkxZTEpOwogICAgICAgIAogICAgCiAgICAgICAgdmFyIHBvcHVwXzc3MTEzNmY5Y2M4NTQxNjc5ZGQyNGViZTI2MzRmZTIwID0gTC5wb3B1cCh7Im1heFdpZHRoIjogIjEwMCUifSk7CgogICAgICAgIAogICAgICAgICAgICB2YXIgaHRtbF81ZTJjMDA3ODVlOTE0Zjc1YjRiNzdkYzc4YjZmZjY5ZSA9ICQoYDxkaXYgaWQ9Imh0bWxfNWUyYzAwNzg1ZTkxNGY3NWI0Yjc3ZGM3OGI2ZmY2OWUiIHN0eWxlPSJ3aWR0aDogMTAwLjAlOyBoZWlnaHQ6IDEwMC4wJTsiPk1vb3JlIFBhcmssIFN1bW1lcmhpbGwgRWFzdDwvZGl2PmApWzBdOwogICAgICAgICAgICBwb3B1cF83NzExMzZmOWNjODU0MTY3OWRkMjRlYmUyNjM0ZmUyMC5zZXRDb250ZW50KGh0bWxfNWUyYzAwNzg1ZTkxNGY3NWI0Yjc3ZGM3OGI2ZmY2OWUpOwogICAgICAgIAoKICAgICAgICBjaXJjbGVfbWFya2VyX2ZkZTQ0ZmUxMjQ4OTQwZTRhYWFiMDEwM2RkMTVkNzJiLmJpbmRQb3B1cChwb3B1cF83NzExMzZmOWNjODU0MTY3OWRkMjRlYmUyNjM0ZmUyMCkKICAgICAgICA7CgogICAgICAgIAogICAgCiAgICAKICAgICAgICAgICAgdmFyIGNpcmNsZV9tYXJrZXJfOWMxYmQ0NzI1MTJlNDBhODkwNjZkNDg3ZTNhM2M5YmUgPSBMLmNpcmNsZU1hcmtlcigKICAgICAgICAgICAgICAgIFs0My42ODY0MTIyOTk5OTk5OSwgLTc5LjQwMDA0OTNdLAogICAgICAgICAgICAgICAgeyJidWJibGluZ01vdXNlRXZlbnRzIjogdHJ1ZSwgImNvbG9yIjogInJlZCIsICJkYXNoQXJyYXkiOiBudWxsLCAiZGFzaE9mZnNldCI6IG51bGwsICJmaWxsIjogdHJ1ZSwgImZpbGxDb2xvciI6ICIjMzE4NmNjIiwgImZpbGxPcGFjaXR5IjogMC43LCAiZmlsbFJ1bGUiOiAiZXZlbm9kZCIsICJsaW5lQ2FwIjogInJvdW5kIiwgImxpbmVKb2luIjogInJvdW5kIiwgIm9wYWNpdHkiOiAxLjAsICJyYWRpdXMiOiA1LCAic3Ryb2tlIjogdHJ1ZSwgIndlaWdodCI6IDN9CiAgICAgICAgICAgICkuYWRkVG8obWFwXzZlZjZlZTllNWRkNTQyYzRhZjI5YzljMjY1NmE5MWUxKTsKICAgICAgICAKICAgIAogICAgICAgIHZhciBwb3B1cF9iYzI4NjkwOTgxYTQ0NmUzOWRkMDg3ZThmYzdiM2ExZSA9IEwucG9wdXAoeyJtYXhXaWR0aCI6ICIxMDAlIn0pOwoKICAgICAgICAKICAgICAgICAgICAgdmFyIGh0bWxfYjQ5ZDljZDdiMzJjNDM0Mjg4NmMxY2VlNDViNGM5MDYgPSAkKGA8ZGl2IGlkPSJodG1sX2I0OWQ5Y2Q3YjMyYzQzNDI4ODZjMWNlZTQ1YjRjOTA2IiBzdHlsZT0id2lkdGg6IDEwMC4wJTsgaGVpZ2h0OiAxMDAuMCU7Ij5EZWVyIFBhcmssIEZvcmVzdCBIaWxsIFNFLCBSYXRobmVsbHksIFNvdXRoIEhpbGwsIFN1bW1lcmhpbGwgV2VzdDwvZGl2PmApWzBdOwogICAgICAgICAgICBwb3B1cF9iYzI4NjkwOTgxYTQ0NmUzOWRkMDg3ZThmYzdiM2ExZS5zZXRDb250ZW50KGh0bWxfYjQ5ZDljZDdiMzJjNDM0Mjg4NmMxY2VlNDViNGM5MDYpOwogICAgICAgIAoKICAgICAgICBjaXJjbGVfbWFya2VyXzljMWJkNDcyNTEyZTQwYTg5MDY2ZDQ4N2UzYTNjOWJlLmJpbmRQb3B1cChwb3B1cF9iYzI4NjkwOTgxYTQ0NmUzOWRkMDg3ZThmYzdiM2ExZSkKICAgICAgICA7CgogICAgICAgIAogICAgCiAgICAKICAgICAgICAgICAgdmFyIGNpcmNsZV9tYXJrZXJfMDRkY2I2MDc1MWFlNGVjMGE4ZTYwMDFhNzU0ZTNkYjcgPSBMLmNpcmNsZU1hcmtlcigKICAgICAgICAgICAgICAgIFs0My42Nzk1NjI2LCAtNzkuMzc3NTI5NDAwMDAwMDFdLAogICAgICAgICAgICAgICAgeyJidWJibGluZ01vdXNlRXZlbnRzIjogdHJ1ZSwgImNvbG9yIjogInJlZCIsICJkYXNoQXJyYXkiOiBudWxsLCAiZGFzaE9mZnNldCI6IG51bGwsICJmaWxsIjogdHJ1ZSwgImZpbGxDb2xvciI6ICIjMzE4NmNjIiwgImZpbGxPcGFjaXR5IjogMC43LCAiZmlsbFJ1bGUiOiAiZXZlbm9kZCIsICJsaW5lQ2FwIjogInJvdW5kIiwgImxpbmVKb2luIjogInJvdW5kIiwgIm9wYWNpdHkiOiAxLjAsICJyYWRpdXMiOiA1LCAic3Ryb2tlIjogdHJ1ZSwgIndlaWdodCI6IDN9CiAgICAgICAgICAgICkuYWRkVG8obWFwXzZlZjZlZTllNWRkNTQyYzRhZjI5YzljMjY1NmE5MWUxKTsKICAgICAgICAKICAgIAogICAgICAgIHZhciBwb3B1cF9iMmUxMGZjNGIxODA0ZTMyYTg5MzUzNTJmYTMyYzMwOCA9IEwucG9wdXAoeyJtYXhXaWR0aCI6ICIxMDAlIn0pOwoKICAgICAgICAKICAgICAgICAgICAgdmFyIGh0bWxfMjc4ZWEyOGQ5NGFkNDg1ZmJmOTI5Yzc4Yjg1MTQ2ZTkgPSAkKGA8ZGl2IGlkPSJodG1sXzI3OGVhMjhkOTRhZDQ4NWZiZjkyOWM3OGI4NTE0NmU5IiBzdHlsZT0id2lkdGg6IDEwMC4wJTsgaGVpZ2h0OiAxMDAuMCU7Ij5Sb3NlZGFsZTwvZGl2PmApWzBdOwogICAgICAgICAgICBwb3B1cF9iMmUxMGZjNGIxODA0ZTMyYTg5MzUzNTJmYTMyYzMwOC5zZXRDb250ZW50KGh0bWxfMjc4ZWEyOGQ5NGFkNDg1ZmJmOTI5Yzc4Yjg1MTQ2ZTkpOwogICAgICAgIAoKICAgICAgICBjaXJjbGVfbWFya2VyXzA0ZGNiNjA3NTFhZTRlYzBhOGU2MDAxYTc1NGUzZGI3LmJpbmRQb3B1cChwb3B1cF9iMmUxMGZjNGIxODA0ZTMyYTg5MzUzNTJmYTMyYzMwOCkKICAgICAgICA7CgogICAgICAgIAogICAgCiAgICAKICAgICAgICAgICAgdmFyIGNpcmNsZV9tYXJrZXJfY2FjZTQxYTRiM2IyNGU2OTgyNzg1NTdhNmRmMWRiY2YgPSBMLmNpcmNsZU1hcmtlcigKICAgICAgICAgICAgICAgIFs0My42Njc5NjcsIC03OS4zNjc2NzUzXSwKICAgICAgICAgICAgICAgIHsiYnViYmxpbmdNb3VzZUV2ZW50cyI6IHRydWUsICJjb2xvciI6ICJyZWQiLCAiZGFzaEFycmF5IjogbnVsbCwgImRhc2hPZmZzZXQiOiBudWxsLCAiZmlsbCI6IHRydWUsICJmaWxsQ29sb3IiOiAiIzMxODZjYyIsICJmaWxsT3BhY2l0eSI6IDAuNywgImZpbGxSdWxlIjogImV2ZW5vZGQiLCAibGluZUNhcCI6ICJyb3VuZCIsICJsaW5lSm9pbiI6ICJyb3VuZCIsICJvcGFjaXR5IjogMS4wLCAicmFkaXVzIjogNSwgInN0cm9rZSI6IHRydWUsICJ3ZWlnaHQiOiAzfQogICAgICAgICAgICApLmFkZFRvKG1hcF82ZWY2ZWU5ZTVkZDU0MmM0YWYyOWM5YzI2NTZhOTFlMSk7CiAgICAgICAgCiAgICAKICAgICAgICB2YXIgcG9wdXBfNTQ1NjIyYjg2MmIzNDY0YmEzNTZkNzQxNmM5NjJiMGQgPSBMLnBvcHVwKHsibWF4V2lkdGgiOiAiMTAwJSJ9KTsKCiAgICAgICAgCiAgICAgICAgICAgIHZhciBodG1sXzU5YmRjMzU0NDU5MzQ4MmE5ZDBmYjY1N2E1YjY3NjQwID0gJChgPGRpdiBpZD0iaHRtbF81OWJkYzM1NDQ1OTM0ODJhOWQwZmI2NTdhNWI2NzY0MCIgc3R5bGU9IndpZHRoOiAxMDAuMCU7IGhlaWdodDogMTAwLjAlOyI+Q2FiYmFnZXRvd24sIFN0LiBKYW1lcyBUb3duPC9kaXY+YClbMF07CiAgICAgICAgICAgIHBvcHVwXzU0NTYyMmI4NjJiMzQ2NGJhMzU2ZDc0MTZjOTYyYjBkLnNldENvbnRlbnQoaHRtbF81OWJkYzM1NDQ1OTM0ODJhOWQwZmI2NTdhNWI2NzY0MCk7CiAgICAgICAgCgogICAgICAgIGNpcmNsZV9tYXJrZXJfY2FjZTQxYTRiM2IyNGU2OTgyNzg1NTdhNmRmMWRiY2YuYmluZFBvcHVwKHBvcHVwXzU0NTYyMmI4NjJiMzQ2NGJhMzU2ZDc0MTZjOTYyYjBkKQogICAgICAgIDsKCiAgICAgICAgCiAgICAKICAgIAogICAgICAgICAgICB2YXIgY2lyY2xlX21hcmtlcl9kM2M0MTE4YTAwMDM0NzYzYmYxYThhNjcyN2IwYjBkOSA9IEwuY2lyY2xlTWFya2VyKAogICAgICAgICAgICAgICAgWzQzLjY2NTg1OTksIC03OS4zODMxNTk5MDAwMDAwMV0sCiAgICAgICAgICAgICAgICB7ImJ1YmJsaW5nTW91c2VFdmVudHMiOiB0cnVlLCAiY29sb3IiOiAicmVkIiwgImRhc2hBcnJheSI6IG51bGwsICJkYXNoT2Zmc2V0IjogbnVsbCwgImZpbGwiOiB0cnVlLCAiZmlsbENvbG9yIjogIiMzMTg2Y2MiLCAiZmlsbE9wYWNpdHkiOiAwLjcsICJmaWxsUnVsZSI6ICJldmVub2RkIiwgImxpbmVDYXAiOiAicm91bmQiLCAibGluZUpvaW4iOiAicm91bmQiLCAib3BhY2l0eSI6IDEuMCwgInJhZGl1cyI6IDUsICJzdHJva2UiOiB0cnVlLCAid2VpZ2h0IjogM30KICAgICAgICAgICAgKS5hZGRUbyhtYXBfNmVmNmVlOWU1ZGQ1NDJjNGFmMjljOWMyNjU2YTkxZTEpOwogICAgICAgIAogICAgCiAgICAgICAgdmFyIHBvcHVwX2Y3NzM4ZjVkMTkzNTRiNmE4OTYzYjA3MjdlZDY3MTYyID0gTC5wb3B1cCh7Im1heFdpZHRoIjogIjEwMCUifSk7CgogICAgICAgIAogICAgICAgICAgICB2YXIgaHRtbF82ZDU4Y2EzMGFhNmU0NmNlOWQwYzFjMTc1NjM3MmY3YiA9ICQoYDxkaXYgaWQ9Imh0bWxfNmQ1OGNhMzBhYTZlNDZjZTlkMGMxYzE3NTYzNzJmN2IiIHN0eWxlPSJ3aWR0aDogMTAwLjAlOyBoZWlnaHQ6IDEwMC4wJTsiPkNodXJjaCBhbmQgV2VsbGVzbGV5PC9kaXY+YClbMF07CiAgICAgICAgICAgIHBvcHVwX2Y3NzM4ZjVkMTkzNTRiNmE4OTYzYjA3MjdlZDY3MTYyLnNldENvbnRlbnQoaHRtbF82ZDU4Y2EzMGFhNmU0NmNlOWQwYzFjMTc1NjM3MmY3Yik7CiAgICAgICAgCgogICAgICAgIGNpcmNsZV9tYXJrZXJfZDNjNDExOGEwMDAzNDc2M2JmMWE4YTY3MjdiMGIwZDkuYmluZFBvcHVwKHBvcHVwX2Y3NzM4ZjVkMTkzNTRiNmE4OTYzYjA3MjdlZDY3MTYyKQogICAgICAgIDsKCiAgICAgICAgCiAgICAKICAgIAogICAgICAgICAgICB2YXIgY2lyY2xlX21hcmtlcl80NjViZDE3Y2ZkOWE0YTE0YWY0NDU3MTUwYTI3MjVmYiA9IEwuY2lyY2xlTWFya2VyKAogICAgICAgICAgICAgICAgWzQzLjY1NDI1OTksIC03OS4zNjA2MzU5XSwKICAgICAgICAgICAgICAgIHsiYnViYmxpbmdNb3VzZUV2ZW50cyI6IHRydWUsICJjb2xvciI6ICJyZWQiLCAiZGFzaEFycmF5IjogbnVsbCwgImRhc2hPZmZzZXQiOiBudWxsLCAiZmlsbCI6IHRydWUsICJmaWxsQ29sb3IiOiAiIzMxODZjYyIsICJmaWxsT3BhY2l0eSI6IDAuNywgImZpbGxSdWxlIjogImV2ZW5vZGQiLCAibGluZUNhcCI6ICJyb3VuZCIsICJsaW5lSm9pbiI6ICJyb3VuZCIsICJvcGFjaXR5IjogMS4wLCAicmFkaXVzIjogNSwgInN0cm9rZSI6IHRydWUsICJ3ZWlnaHQiOiAzfQogICAgICAgICAgICApLmFkZFRvKG1hcF82ZWY2ZWU5ZTVkZDU0MmM0YWYyOWM5YzI2NTZhOTFlMSk7CiAgICAgICAgCiAgICAKICAgICAgICB2YXIgcG9wdXBfMzFkMjZkM2FiYjU2NGIwMmJjYTU2N2NiN2JjNGE0NTcgPSBMLnBvcHVwKHsibWF4V2lkdGgiOiAiMTAwJSJ9KTsKCiAgICAgICAgCiAgICAgICAgICAgIHZhciBodG1sXzNiNWFlN2VlMjliMjRmYTdiZTFkZDQ1MGY3OTUwYmIyID0gJChgPGRpdiBpZD0iaHRtbF8zYjVhZTdlZTI5YjI0ZmE3YmUxZGQ0NTBmNzk1MGJiMiIgc3R5bGU9IndpZHRoOiAxMDAuMCU7IGhlaWdodDogMTAwLjAlOyI+SGFyYm91cmZyb250LCBSZWdlbnQgUGFyazwvZGl2PmApWzBdOwogICAgICAgICAgICBwb3B1cF8zMWQyNmQzYWJiNTY0YjAyYmNhNTY3Y2I3YmM0YTQ1Ny5zZXRDb250ZW50KGh0bWxfM2I1YWU3ZWUyOWIyNGZhN2JlMWRkNDUwZjc5NTBiYjIpOwogICAgICAgIAoKICAgICAgICBjaXJjbGVfbWFya2VyXzQ2NWJkMTdjZmQ5YTRhMTRhZjQ0NTcxNTBhMjcyNWZiLmJpbmRQb3B1cChwb3B1cF8zMWQyNmQzYWJiNTY0YjAyYmNhNTY3Y2I3YmM0YTQ1NykKICAgICAgICA7CgogICAgICAgIAogICAgCiAgICAKICAgICAgICAgICAgdmFyIGNpcmNsZV9tYXJrZXJfZDA4NGQ1MjAyNjVmNDE0MmE4YzUxMDVjYWM3MDI1M2YgPSBMLmNpcmNsZU1hcmtlcigKICAgICAgICAgICAgICAgIFs0My42NTcxNjE4LCAtNzkuMzc4OTM3MDk5OTk5OTldLAogICAgICAgICAgICAgICAgeyJidWJibGluZ01vdXNlRXZlbnRzIjogdHJ1ZSwgImNvbG9yIjogInJlZCIsICJkYXNoQXJyYXkiOiBudWxsLCAiZGFzaE9mZnNldCI6IG51bGwsICJmaWxsIjogdHJ1ZSwgImZpbGxDb2xvciI6ICIjMzE4NmNjIiwgImZpbGxPcGFjaXR5IjogMC43LCAiZmlsbFJ1bGUiOiAiZXZlbm9kZCIsICJsaW5lQ2FwIjogInJvdW5kIiwgImxpbmVKb2luIjogInJvdW5kIiwgIm9wYWNpdHkiOiAxLjAsICJyYWRpdXMiOiA1LCAic3Ryb2tlIjogdHJ1ZSwgIndlaWdodCI6IDN9CiAgICAgICAgICAgICkuYWRkVG8obWFwXzZlZjZlZTllNWRkNTQyYzRhZjI5YzljMjY1NmE5MWUxKTsKICAgICAgICAKICAgIAogICAgICAgIHZhciBwb3B1cF83OTY4OTJlZmM5YzU0NGE4YjQwM2IyYmY3YTU5M2YwZCA9IEwucG9wdXAoeyJtYXhXaWR0aCI6ICIxMDAlIn0pOwoKICAgICAgICAKICAgICAgICAgICAgdmFyIGh0bWxfOTllNzZjZmU4MzMzNDliNmJlNzg1OTg0YmRjMjVhZjkgPSAkKGA8ZGl2IGlkPSJodG1sXzk5ZTc2Y2ZlODMzMzQ5YjZiZTc4NTk4NGJkYzI1YWY5IiBzdHlsZT0id2lkdGg6IDEwMC4wJTsgaGVpZ2h0OiAxMDAuMCU7Ij5SeWVyc29uLCBHYXJkZW4gRGlzdHJpY3Q8L2Rpdj5gKVswXTsKICAgICAgICAgICAgcG9wdXBfNzk2ODkyZWZjOWM1NDRhOGI0MDNiMmJmN2E1OTNmMGQuc2V0Q29udGVudChodG1sXzk5ZTc2Y2ZlODMzMzQ5YjZiZTc4NTk4NGJkYzI1YWY5KTsKICAgICAgICAKCiAgICAgICAgY2lyY2xlX21hcmtlcl9kMDg0ZDUyMDI2NWY0MTQyYThjNTEwNWNhYzcwMjUzZi5iaW5kUG9wdXAocG9wdXBfNzk2ODkyZWZjOWM1NDRhOGI0MDNiMmJmN2E1OTNmMGQpCiAgICAgICAgOwoKICAgICAgICAKICAgIAogICAgCiAgICAgICAgICAgIHZhciBjaXJjbGVfbWFya2VyXzUwZmYxNWFhZDM5NjRjZjBhZmFlYTBkMjcwMDI2ZjIxID0gTC5jaXJjbGVNYXJrZXIoCiAgICAgICAgICAgICAgICBbNDMuNjUxNDkzOSwgLTc5LjM3NTQxNzldLAogICAgICAgICAgICAgICAgeyJidWJibGluZ01vdXNlRXZlbnRzIjogdHJ1ZSwgImNvbG9yIjogInJlZCIsICJkYXNoQXJyYXkiOiBudWxsLCAiZGFzaE9mZnNldCI6IG51bGwsICJmaWxsIjogdHJ1ZSwgImZpbGxDb2xvciI6ICIjMzE4NmNjIiwgImZpbGxPcGFjaXR5IjogMC43LCAiZmlsbFJ1bGUiOiAiZXZlbm9kZCIsICJsaW5lQ2FwIjogInJvdW5kIiwgImxpbmVKb2luIjogInJvdW5kIiwgIm9wYWNpdHkiOiAxLjAsICJyYWRpdXMiOiA1LCAic3Ryb2tlIjogdHJ1ZSwgIndlaWdodCI6IDN9CiAgICAgICAgICAgICkuYWRkVG8obWFwXzZlZjZlZTllNWRkNTQyYzRhZjI5YzljMjY1NmE5MWUxKTsKICAgICAgICAKICAgIAogICAgICAgIHZhciBwb3B1cF80YWRhZDg2OTg3ZDE0ZWE3YTU1ZWJhMWEyOTk4MmFhYyA9IEwucG9wdXAoeyJtYXhXaWR0aCI6ICIxMDAlIn0pOwoKICAgICAgICAKICAgICAgICAgICAgdmFyIGh0bWxfMTlkNTVmNTNhYzg5NGE4Mzg5ZjExZjEzMjE2ZTVjMjQgPSAkKGA8ZGl2IGlkPSJodG1sXzE5ZDU1ZjUzYWM4OTRhODM4OWYxMWYxMzIxNmU1YzI0IiBzdHlsZT0id2lkdGg6IDEwMC4wJTsgaGVpZ2h0OiAxMDAuMCU7Ij5TdC4gSmFtZXMgVG93bjwvZGl2PmApWzBdOwogICAgICAgICAgICBwb3B1cF80YWRhZDg2OTg3ZDE0ZWE3YTU1ZWJhMWEyOTk4MmFhYy5zZXRDb250ZW50KGh0bWxfMTlkNTVmNTNhYzg5NGE4Mzg5ZjExZjEzMjE2ZTVjMjQpOwogICAgICAgIAoKICAgICAgICBjaXJjbGVfbWFya2VyXzUwZmYxNWFhZDM5NjRjZjBhZmFlYTBkMjcwMDI2ZjIxLmJpbmRQb3B1cChwb3B1cF80YWRhZDg2OTg3ZDE0ZWE3YTU1ZWJhMWEyOTk4MmFhYykKICAgICAgICA7CgogICAgICAgIAogICAgCiAgICAKICAgICAgICAgICAgdmFyIGNpcmNsZV9tYXJrZXJfOTVjYzdlNjgyMmY5NDc3MmI0ZjM4NWEwODZjOWNlMzYgPSBMLmNpcmNsZU1hcmtlcigKICAgICAgICAgICAgICAgIFs0My42NDQ3NzA3OTk5OTk5OTYsIC03OS4zNzMzMDY0XSwKICAgICAgICAgICAgICAgIHsiYnViYmxpbmdNb3VzZUV2ZW50cyI6IHRydWUsICJjb2xvciI6ICJyZWQiLCAiZGFzaEFycmF5IjogbnVsbCwgImRhc2hPZmZzZXQiOiBudWxsLCAiZmlsbCI6IHRydWUsICJmaWxsQ29sb3IiOiAiIzMxODZjYyIsICJmaWxsT3BhY2l0eSI6IDAuNywgImZpbGxSdWxlIjogImV2ZW5vZGQiLCAibGluZUNhcCI6ICJyb3VuZCIsICJsaW5lSm9pbiI6ICJyb3VuZCIsICJvcGFjaXR5IjogMS4wLCAicmFkaXVzIjogNSwgInN0cm9rZSI6IHRydWUsICJ3ZWlnaHQiOiAzfQogICAgICAgICAgICApLmFkZFRvKG1hcF82ZWY2ZWU5ZTVkZDU0MmM0YWYyOWM5YzI2NTZhOTFlMSk7CiAgICAgICAgCiAgICAKICAgICAgICB2YXIgcG9wdXBfYzk1NmVlY2I5YzQxNDExMDkwMzA0YWUxZTRjMzgwMTEgPSBMLnBvcHVwKHsibWF4V2lkdGgiOiAiMTAwJSJ9KTsKCiAgICAgICAgCiAgICAgICAgICAgIHZhciBodG1sXzgyOGYwZmZhYTNjYzQ0NTc5M2IyNTBiYWYwNjZkYTExID0gJChgPGRpdiBpZD0iaHRtbF84MjhmMGZmYWEzY2M0NDU3OTNiMjUwYmFmMDY2ZGExMSIgc3R5bGU9IndpZHRoOiAxMDAuMCU7IGhlaWdodDogMTAwLjAlOyI+QmVyY3p5IFBhcms8L2Rpdj5gKVswXTsKICAgICAgICAgICAgcG9wdXBfYzk1NmVlY2I5YzQxNDExMDkwMzA0YWUxZTRjMzgwMTEuc2V0Q29udGVudChodG1sXzgyOGYwZmZhYTNjYzQ0NTc5M2IyNTBiYWYwNjZkYTExKTsKICAgICAgICAKCiAgICAgICAgY2lyY2xlX21hcmtlcl85NWNjN2U2ODIyZjk0NzcyYjRmMzg1YTA4NmM5Y2UzNi5iaW5kUG9wdXAocG9wdXBfYzk1NmVlY2I5YzQxNDExMDkwMzA0YWUxZTRjMzgwMTEpCiAgICAgICAgOwoKICAgICAgICAKICAgIAogICAgCiAgICAgICAgICAgIHZhciBjaXJjbGVfbWFya2VyX2VkYzRmYTY1NGQzYTRhNjJhYTkzZGE1ODk3NTkzMTVhID0gTC5jaXJjbGVNYXJrZXIoCiAgICAgICAgICAgICAgICBbNDMuNjU3OTUyNCwgLTc5LjM4NzM4MjZdLAogICAgICAgICAgICAgICAgeyJidWJibGluZ01vdXNlRXZlbnRzIjogdHJ1ZSwgImNvbG9yIjogInJlZCIsICJkYXNoQXJyYXkiOiBudWxsLCAiZGFzaE9mZnNldCI6IG51bGwsICJmaWxsIjogdHJ1ZSwgImZpbGxDb2xvciI6ICIjMzE4NmNjIiwgImZpbGxPcGFjaXR5IjogMC43LCAiZmlsbFJ1bGUiOiAiZXZlbm9kZCIsICJsaW5lQ2FwIjogInJvdW5kIiwgImxpbmVKb2luIjogInJvdW5kIiwgIm9wYWNpdHkiOiAxLjAsICJyYWRpdXMiOiA1LCAic3Ryb2tlIjogdHJ1ZSwgIndlaWdodCI6IDN9CiAgICAgICAgICAgICkuYWRkVG8obWFwXzZlZjZlZTllNWRkNTQyYzRhZjI5YzljMjY1NmE5MWUxKTsKICAgICAgICAKICAgIAogICAgICAgIHZhciBwb3B1cF85MWJlZWUxOTA5YzE0OWJhOGI5ZTcyZWFlNDNhZWIxYiA9IEwucG9wdXAoeyJtYXhXaWR0aCI6ICIxMDAlIn0pOwoKICAgICAgICAKICAgICAgICAgICAgdmFyIGh0bWxfNGMxMGJhYjg2YzAzNDA1Y2I3OWVmZWUxNzJmZWYzNzIgPSAkKGA8ZGl2IGlkPSJodG1sXzRjMTBiYWI4NmMwMzQwNWNiNzllZmVlMTcyZmVmMzcyIiBzdHlsZT0id2lkdGg6IDEwMC4wJTsgaGVpZ2h0OiAxMDAuMCU7Ij5DZW50cmFsIEJheSBTdHJlZXQ8L2Rpdj5gKVswXTsKICAgICAgICAgICAgcG9wdXBfOTFiZWVlMTkwOWMxNDliYThiOWU3MmVhZTQzYWViMWIuc2V0Q29udGVudChodG1sXzRjMTBiYWI4NmMwMzQwNWNiNzllZmVlMTcyZmVmMzcyKTsKICAgICAgICAKCiAgICAgICAgY2lyY2xlX21hcmtlcl9lZGM0ZmE2NTRkM2E0YTYyYWE5M2RhNTg5NzU5MzE1YS5iaW5kUG9wdXAocG9wdXBfOTFiZWVlMTkwOWMxNDliYThiOWU3MmVhZTQzYWViMWIpCiAgICAgICAgOwoKICAgICAgICAKICAgIAogICAgCiAgICAgICAgICAgIHZhciBjaXJjbGVfbWFya2VyXzdjNmFhYjBmMDBiNzRhYWZiODRmNWQyMjhkZDgyY2Q5ID0gTC5jaXJjbGVNYXJrZXIoCiAgICAgICAgICAgICAgICBbNDMuNjUwNTcxMjAwMDAwMDEsIC03OS4zODQ1Njc1XSwKICAgICAgICAgICAgICAgIHsiYnViYmxpbmdNb3VzZUV2ZW50cyI6IHRydWUsICJjb2xvciI6ICJyZWQiLCAiZGFzaEFycmF5IjogbnVsbCwgImRhc2hPZmZzZXQiOiBudWxsLCAiZmlsbCI6IHRydWUsICJmaWxsQ29sb3IiOiAiIzMxODZjYyIsICJmaWxsT3BhY2l0eSI6IDAuNywgImZpbGxSdWxlIjogImV2ZW5vZGQiLCAibGluZUNhcCI6ICJyb3VuZCIsICJsaW5lSm9pbiI6ICJyb3VuZCIsICJvcGFjaXR5IjogMS4wLCAicmFkaXVzIjogNSwgInN0cm9rZSI6IHRydWUsICJ3ZWlnaHQiOiAzfQogICAgICAgICAgICApLmFkZFRvKG1hcF82ZWY2ZWU5ZTVkZDU0MmM0YWYyOWM5YzI2NTZhOTFlMSk7CiAgICAgICAgCiAgICAKICAgICAgICB2YXIgcG9wdXBfMzFmMDJjYWIxYmVkNDE2ZmEyYjYzNjBkMGJlYWY1ZTYgPSBMLnBvcHVwKHsibWF4V2lkdGgiOiAiMTAwJSJ9KTsKCiAgICAgICAgCiAgICAgICAgICAgIHZhciBodG1sXzgwNDQ5MmVlNTUyNTQ4MjE5NDQ1MTdjMWI0ZWVlN2I4ID0gJChgPGRpdiBpZD0iaHRtbF84MDQ0OTJlZTU1MjU0ODIxOTQ0NTE3YzFiNGVlZTdiOCIgc3R5bGU9IndpZHRoOiAxMDAuMCU7IGhlaWdodDogMTAwLjAlOyI+QWRlbGFpZGUsIEtpbmcsIFJpY2htb25kPC9kaXY+YClbMF07CiAgICAgICAgICAgIHBvcHVwXzMxZjAyY2FiMWJlZDQxNmZhMmI2MzYwZDBiZWFmNWU2LnNldENvbnRlbnQoaHRtbF84MDQ0OTJlZTU1MjU0ODIxOTQ0NTE3YzFiNGVlZTdiOCk7CiAgICAgICAgCgogICAgICAgIGNpcmNsZV9tYXJrZXJfN2M2YWFiMGYwMGI3NGFhZmI4NGY1ZDIyOGRkODJjZDkuYmluZFBvcHVwKHBvcHVwXzMxZjAyY2FiMWJlZDQxNmZhMmI2MzYwZDBiZWFmNWU2KQogICAgICAgIDsKCiAgICAgICAgCiAgICAKICAgIAogICAgICAgICAgICB2YXIgY2lyY2xlX21hcmtlcl9lZTExNmYxNmY2MTE0NzhhOGNmYTBiNGQ5NmRhNzU2ZiA9IEwuY2lyY2xlTWFya2VyKAogICAgICAgICAgICAgICAgWzQzLjY0MDgxNTcsIC03OS4zODE3NTIyOTk5OTk5OV0sCiAgICAgICAgICAgICAgICB7ImJ1YmJsaW5nTW91c2VFdmVudHMiOiB0cnVlLCAiY29sb3IiOiAicmVkIiwgImRhc2hBcnJheSI6IG51bGwsICJkYXNoT2Zmc2V0IjogbnVsbCwgImZpbGwiOiB0cnVlLCAiZmlsbENvbG9yIjogIiMzMTg2Y2MiLCAiZmlsbE9wYWNpdHkiOiAwLjcsICJmaWxsUnVsZSI6ICJldmVub2RkIiwgImxpbmVDYXAiOiAicm91bmQiLCAibGluZUpvaW4iOiAicm91bmQiLCAib3BhY2l0eSI6IDEuMCwgInJhZGl1cyI6IDUsICJzdHJva2UiOiB0cnVlLCAid2VpZ2h0IjogM30KICAgICAgICAgICAgKS5hZGRUbyhtYXBfNmVmNmVlOWU1ZGQ1NDJjNGFmMjljOWMyNjU2YTkxZTEpOwogICAgICAgIAogICAgCiAgICAgICAgdmFyIHBvcHVwXzUxZGUzZTk3ZDE5YTQ0OTU4NjRkMmE5MDNjYzc5MzBjID0gTC5wb3B1cCh7Im1heFdpZHRoIjogIjEwMCUifSk7CgogICAgICAgIAogICAgICAgICAgICB2YXIgaHRtbF8yOGM4Zjg1YzhkZjY0NjY0YTY2MmQwNGJjZDdlYTJiZSA9ICQoYDxkaXYgaWQ9Imh0bWxfMjhjOGY4NWM4ZGY2NDY2NGE2NjJkMDRiY2Q3ZWEyYmUiIHN0eWxlPSJ3aWR0aDogMTAwLjAlOyBoZWlnaHQ6IDEwMC4wJTsiPkhhcmJvdXJmcm9udCBFYXN0LCBUb3JvbnRvIElzbGFuZHMsIFVuaW9uIFN0YXRpb248L2Rpdj5gKVswXTsKICAgICAgICAgICAgcG9wdXBfNTFkZTNlOTdkMTlhNDQ5NTg2NGQyYTkwM2NjNzkzMGMuc2V0Q29udGVudChodG1sXzI4YzhmODVjOGRmNjQ2NjRhNjYyZDA0YmNkN2VhMmJlKTsKICAgICAgICAKCiAgICAgICAgY2lyY2xlX21hcmtlcl9lZTExNmYxNmY2MTE0NzhhOGNmYTBiNGQ5NmRhNzU2Zi5iaW5kUG9wdXAocG9wdXBfNTFkZTNlOTdkMTlhNDQ5NTg2NGQyYTkwM2NjNzkzMGMpCiAgICAgICAgOwoKICAgICAgICAKICAgIAogICAgCiAgICAgICAgICAgIHZhciBjaXJjbGVfbWFya2VyXzdjYTI3MzU0Mjc5ODQxZWI4NzcyOTY1YWRhMjg1ZjdmID0gTC5jaXJjbGVNYXJrZXIoCiAgICAgICAgICAgICAgICBbNDMuNjQ3MTc2OCwgLTc5LjM4MTU3NjQwMDAwMDAxXSwKICAgICAgICAgICAgICAgIHsiYnViYmxpbmdNb3VzZUV2ZW50cyI6IHRydWUsICJjb2xvciI6ICJyZWQiLCAiZGFzaEFycmF5IjogbnVsbCwgImRhc2hPZmZzZXQiOiBudWxsLCAiZmlsbCI6IHRydWUsICJmaWxsQ29sb3IiOiAiIzMxODZjYyIsICJmaWxsT3BhY2l0eSI6IDAuNywgImZpbGxSdWxlIjogImV2ZW5vZGQiLCAibGluZUNhcCI6ICJyb3VuZCIsICJsaW5lSm9pbiI6ICJyb3VuZCIsICJvcGFjaXR5IjogMS4wLCAicmFkaXVzIjogNSwgInN0cm9rZSI6IHRydWUsICJ3ZWlnaHQiOiAzfQogICAgICAgICAgICApLmFkZFRvKG1hcF82ZWY2ZWU5ZTVkZDU0MmM0YWYyOWM5YzI2NTZhOTFlMSk7CiAgICAgICAgCiAgICAKICAgICAgICB2YXIgcG9wdXBfNzNiNjRkODI1ZTM5NDc2M2FhMWEyZjUwNTgwMTQ4YTkgPSBMLnBvcHVwKHsibWF4V2lkdGgiOiAiMTAwJSJ9KTsKCiAgICAgICAgCiAgICAgICAgICAgIHZhciBodG1sX2I5MmJhNTBlZjkwMDQ0N2E5ZmVjYzQ5ZWVhNmE1Y2E1ID0gJChgPGRpdiBpZD0iaHRtbF9iOTJiYTUwZWY5MDA0NDdhOWZlY2M0OWVlYTZhNWNhNSIgc3R5bGU9IndpZHRoOiAxMDAuMCU7IGhlaWdodDogMTAwLjAlOyI+RGVzaWduIEV4Y2hhbmdlLCBUb3JvbnRvIERvbWluaW9uIENlbnRyZTwvZGl2PmApWzBdOwogICAgICAgICAgICBwb3B1cF83M2I2NGQ4MjVlMzk0NzYzYWExYTJmNTA1ODAxNDhhOS5zZXRDb250ZW50KGh0bWxfYjkyYmE1MGVmOTAwNDQ3YTlmZWNjNDllZWE2YTVjYTUpOwogICAgICAgIAoKICAgICAgICBjaXJjbGVfbWFya2VyXzdjYTI3MzU0Mjc5ODQxZWI4NzcyOTY1YWRhMjg1ZjdmLmJpbmRQb3B1cChwb3B1cF83M2I2NGQ4MjVlMzk0NzYzYWExYTJmNTA1ODAxNDhhOSkKICAgICAgICA7CgogICAgICAgIAogICAgCiAgICAKICAgICAgICAgICAgdmFyIGNpcmNsZV9tYXJrZXJfNDFjMjc2MjViMWMzNGM0M2FmYmRkN2NmZDJlYzQ5NGIgPSBMLmNpcmNsZU1hcmtlcigKICAgICAgICAgICAgICAgIFs0My42NDgxOTg1LCAtNzkuMzc5ODE2OTAwMDAwMDFdLAogICAgICAgICAgICAgICAgeyJidWJibGluZ01vdXNlRXZlbnRzIjogdHJ1ZSwgImNvbG9yIjogInJlZCIsICJkYXNoQXJyYXkiOiBudWxsLCAiZGFzaE9mZnNldCI6IG51bGwsICJmaWxsIjogdHJ1ZSwgImZpbGxDb2xvciI6ICIjMzE4NmNjIiwgImZpbGxPcGFjaXR5IjogMC43LCAiZmlsbFJ1bGUiOiAiZXZlbm9kZCIsICJsaW5lQ2FwIjogInJvdW5kIiwgImxpbmVKb2luIjogInJvdW5kIiwgIm9wYWNpdHkiOiAxLjAsICJyYWRpdXMiOiA1LCAic3Ryb2tlIjogdHJ1ZSwgIndlaWdodCI6IDN9CiAgICAgICAgICAgICkuYWRkVG8obWFwXzZlZjZlZTllNWRkNTQyYzRhZjI5YzljMjY1NmE5MWUxKTsKICAgICAgICAKICAgIAogICAgICAgIHZhciBwb3B1cF9iMzk4YmUxMzA5ZWU0YTQ4OGRjNzA0NDU5NzEwMzhmOCA9IEwucG9wdXAoeyJtYXhXaWR0aCI6ICIxMDAlIn0pOwoKICAgICAgICAKICAgICAgICAgICAgdmFyIGh0bWxfNDI3ZWZlZjY2YmVkNDNlYjg1YzQzYWI4NTYxZTZmYTEgPSAkKGA8ZGl2IGlkPSJodG1sXzQyN2VmZWY2NmJlZDQzZWI4NWM0M2FiODU2MWU2ZmExIiBzdHlsZT0id2lkdGg6IDEwMC4wJTsgaGVpZ2h0OiAxMDAuMCU7Ij5Db21tZXJjZSBDb3VydCwgVmljdG9yaWEgSG90ZWw8L2Rpdj5gKVswXTsKICAgICAgICAgICAgcG9wdXBfYjM5OGJlMTMwOWVlNGE0ODhkYzcwNDQ1OTcxMDM4Zjguc2V0Q29udGVudChodG1sXzQyN2VmZWY2NmJlZDQzZWI4NWM0M2FiODU2MWU2ZmExKTsKICAgICAgICAKCiAgICAgICAgY2lyY2xlX21hcmtlcl80MWMyNzYyNWIxYzM0YzQzYWZiZGQ3Y2ZkMmVjNDk0Yi5iaW5kUG9wdXAocG9wdXBfYjM5OGJlMTMwOWVlNGE0ODhkYzcwNDQ1OTcxMDM4ZjgpCiAgICAgICAgOwoKICAgICAgICAKICAgIAogICAgCiAgICAgICAgICAgIHZhciBjaXJjbGVfbWFya2VyX2E1YjllN2U2ODlkZjRlOTlhYzYyMDRkNjQwNWU5MTIzID0gTC5jaXJjbGVNYXJrZXIoCiAgICAgICAgICAgICAgICBbNDMuNzExNjk0OCwgLTc5LjQxNjkzNTU5OTk5OTk5XSwKICAgICAgICAgICAgICAgIHsiYnViYmxpbmdNb3VzZUV2ZW50cyI6IHRydWUsICJjb2xvciI6ICJyZWQiLCAiZGFzaEFycmF5IjogbnVsbCwgImRhc2hPZmZzZXQiOiBudWxsLCAiZmlsbCI6IHRydWUsICJmaWxsQ29sb3IiOiAiIzMxODZjYyIsICJmaWxsT3BhY2l0eSI6IDAuNywgImZpbGxSdWxlIjogImV2ZW5vZGQiLCAibGluZUNhcCI6ICJyb3VuZCIsICJsaW5lSm9pbiI6ICJyb3VuZCIsICJvcGFjaXR5IjogMS4wLCAicmFkaXVzIjogNSwgInN0cm9rZSI6IHRydWUsICJ3ZWlnaHQiOiAzfQogICAgICAgICAgICApLmFkZFRvKG1hcF82ZWY2ZWU5ZTVkZDU0MmM0YWYyOWM5YzI2NTZhOTFlMSk7CiAgICAgICAgCiAgICAKICAgICAgICB2YXIgcG9wdXBfMjI2ZmM2NjA3ZjI3NDAzMjliOTA1MGY1M2UyNDdhOTMgPSBMLnBvcHVwKHsibWF4V2lkdGgiOiAiMTAwJSJ9KTsKCiAgICAgICAgCiAgICAgICAgICAgIHZhciBodG1sXzIzYmQ1MGI2ODFhYjQ4MGQ5MzlkODE2MmNiNjY0MzExID0gJChgPGRpdiBpZD0iaHRtbF8yM2JkNTBiNjgxYWI0ODBkOTM5ZDgxNjJjYjY2NDMxMSIgc3R5bGU9IndpZHRoOiAxMDAuMCU7IGhlaWdodDogMTAwLjAlOyI+Um9zZWxhd248L2Rpdj5gKVswXTsKICAgICAgICAgICAgcG9wdXBfMjI2ZmM2NjA3ZjI3NDAzMjliOTA1MGY1M2UyNDdhOTMuc2V0Q29udGVudChodG1sXzIzYmQ1MGI2ODFhYjQ4MGQ5MzlkODE2MmNiNjY0MzExKTsKICAgICAgICAKCiAgICAgICAgY2lyY2xlX21hcmtlcl9hNWI5ZTdlNjg5ZGY0ZTk5YWM2MjA0ZDY0MDVlOTEyMy5iaW5kUG9wdXAocG9wdXBfMjI2ZmM2NjA3ZjI3NDAzMjliOTA1MGY1M2UyNDdhOTMpCiAgICAgICAgOwoKICAgICAgICAKICAgIAogICAgCiAgICAgICAgICAgIHZhciBjaXJjbGVfbWFya2VyXzNjMTNjZjU3YzQ5NDRhNzhiNWM4NzU3ZDdlMjdjODE4ID0gTC5jaXJjbGVNYXJrZXIoCiAgICAgICAgICAgICAgICBbNDMuNjk2OTQ3NiwgLTc5LjQxMTMwNzIwMDAwMDAxXSwKICAgICAgICAgICAgICAgIHsiYnViYmxpbmdNb3VzZUV2ZW50cyI6IHRydWUsICJjb2xvciI6ICJyZWQiLCAiZGFzaEFycmF5IjogbnVsbCwgImRhc2hPZmZzZXQiOiBudWxsLCAiZmlsbCI6IHRydWUsICJmaWxsQ29sb3IiOiAiIzMxODZjYyIsICJmaWxsT3BhY2l0eSI6IDAuNywgImZpbGxSdWxlIjogImV2ZW5vZGQiLCAibGluZUNhcCI6ICJyb3VuZCIsICJsaW5lSm9pbiI6ICJyb3VuZCIsICJvcGFjaXR5IjogMS4wLCAicmFkaXVzIjogNSwgInN0cm9rZSI6IHRydWUsICJ3ZWlnaHQiOiAzfQogICAgICAgICAgICApLmFkZFRvKG1hcF82ZWY2ZWU5ZTVkZDU0MmM0YWYyOWM5YzI2NTZhOTFlMSk7CiAgICAgICAgCiAgICAKICAgICAgICB2YXIgcG9wdXBfNzkyZDcxZTE3OGM4NGIyOWIyZTVmYzVkYTIzNTY1Y2IgPSBMLnBvcHVwKHsibWF4V2lkdGgiOiAiMTAwJSJ9KTsKCiAgICAgICAgCiAgICAgICAgICAgIHZhciBodG1sXzZiZGRlOGNlNTA3ZjQ1YzdiODljZTVhYzE4MGQwM2QyID0gJChgPGRpdiBpZD0iaHRtbF82YmRkZThjZTUwN2Y0NWM3Yjg5Y2U1YWMxODBkMDNkMiIgc3R5bGU9IndpZHRoOiAxMDAuMCU7IGhlaWdodDogMTAwLjAlOyI+Rm9yZXN0IEhpbGwgTm9ydGgsIEZvcmVzdCBIaWxsIFdlc3Q8L2Rpdj5gKVswXTsKICAgICAgICAgICAgcG9wdXBfNzkyZDcxZTE3OGM4NGIyOWIyZTVmYzVkYTIzNTY1Y2Iuc2V0Q29udGVudChodG1sXzZiZGRlOGNlNTA3ZjQ1YzdiODljZTVhYzE4MGQwM2QyKTsKICAgICAgICAKCiAgICAgICAgY2lyY2xlX21hcmtlcl8zYzEzY2Y1N2M0OTQ0YTc4YjVjODc1N2Q3ZTI3YzgxOC5iaW5kUG9wdXAocG9wdXBfNzkyZDcxZTE3OGM4NGIyOWIyZTVmYzVkYTIzNTY1Y2IpCiAgICAgICAgOwoKICAgICAgICAKICAgIAogICAgCiAgICAgICAgICAgIHZhciBjaXJjbGVfbWFya2VyXzRkMmQ5YmY2MDE3NzQxOTJhZGM5NDNjZjFiMjg0YmU2ID0gTC5jaXJjbGVNYXJrZXIoCiAgICAgICAgICAgICAgICBbNDMuNjcyNzA5NywgLTc5LjQwNTY3ODQwMDAwMDAxXSwKICAgICAgICAgICAgICAgIHsiYnViYmxpbmdNb3VzZUV2ZW50cyI6IHRydWUsICJjb2xvciI6ICJyZWQiLCAiZGFzaEFycmF5IjogbnVsbCwgImRhc2hPZmZzZXQiOiBudWxsLCAiZmlsbCI6IHRydWUsICJmaWxsQ29sb3IiOiAiIzMxODZjYyIsICJmaWxsT3BhY2l0eSI6IDAuNywgImZpbGxSdWxlIjogImV2ZW5vZGQiLCAibGluZUNhcCI6ICJyb3VuZCIsICJsaW5lSm9pbiI6ICJyb3VuZCIsICJvcGFjaXR5IjogMS4wLCAicmFkaXVzIjogNSwgInN0cm9rZSI6IHRydWUsICJ3ZWlnaHQiOiAzfQogICAgICAgICAgICApLmFkZFRvKG1hcF82ZWY2ZWU5ZTVkZDU0MmM0YWYyOWM5YzI2NTZhOTFlMSk7CiAgICAgICAgCiAgICAKICAgICAgICB2YXIgcG9wdXBfMjY3NTdlNjJjMjc5NGE2NWFkM2NjZWQyNzk3M2EzNDkgPSBMLnBvcHVwKHsibWF4V2lkdGgiOiAiMTAwJSJ9KTsKCiAgICAgICAgCiAgICAgICAgICAgIHZhciBodG1sXzkxODA4N2E3YjY1NjQ2ZTU5MGIyZmI4OTFlN2Q4ODY0ID0gJChgPGRpdiBpZD0iaHRtbF85MTgwODdhN2I2NTY0NmU1OTBiMmZiODkxZTdkODg2NCIgc3R5bGU9IndpZHRoOiAxMDAuMCU7IGhlaWdodDogMTAwLjAlOyI+VGhlIEFubmV4LCBOb3J0aCBNaWR0b3duLCBZb3JrdmlsbGU8L2Rpdj5gKVswXTsKICAgICAgICAgICAgcG9wdXBfMjY3NTdlNjJjMjc5NGE2NWFkM2NjZWQyNzk3M2EzNDkuc2V0Q29udGVudChodG1sXzkxODA4N2E3YjY1NjQ2ZTU5MGIyZmI4OTFlN2Q4ODY0KTsKICAgICAgICAKCiAgICAgICAgY2lyY2xlX21hcmtlcl80ZDJkOWJmNjAxNzc0MTkyYWRjOTQzY2YxYjI4NGJlNi5iaW5kUG9wdXAocG9wdXBfMjY3NTdlNjJjMjc5NGE2NWFkM2NjZWQyNzk3M2EzNDkpCiAgICAgICAgOwoKICAgICAgICAKICAgIAogICAgCiAgICAgICAgICAgIHZhciBjaXJjbGVfbWFya2VyXzg5MWEzOTI3NWQwNTQ2ZWU4MzgzNDMwZjlkYjZjMmJkID0gTC5jaXJjbGVNYXJrZXIoCiAgICAgICAgICAgICAgICBbNDMuNjYyNjk1NiwgLTc5LjQwMDA0OTNdLAogICAgICAgICAgICAgICAgeyJidWJibGluZ01vdXNlRXZlbnRzIjogdHJ1ZSwgImNvbG9yIjogInJlZCIsICJkYXNoQXJyYXkiOiBudWxsLCAiZGFzaE9mZnNldCI6IG51bGwsICJmaWxsIjogdHJ1ZSwgImZpbGxDb2xvciI6ICIjMzE4NmNjIiwgImZpbGxPcGFjaXR5IjogMC43LCAiZmlsbFJ1bGUiOiAiZXZlbm9kZCIsICJsaW5lQ2FwIjogInJvdW5kIiwgImxpbmVKb2luIjogInJvdW5kIiwgIm9wYWNpdHkiOiAxLjAsICJyYWRpdXMiOiA1LCAic3Ryb2tlIjogdHJ1ZSwgIndlaWdodCI6IDN9CiAgICAgICAgICAgICkuYWRkVG8obWFwXzZlZjZlZTllNWRkNTQyYzRhZjI5YzljMjY1NmE5MWUxKTsKICAgICAgICAKICAgIAogICAgICAgIHZhciBwb3B1cF9mMTRhYTA4ZjBiOTM0MWJjYTQ2NzdlMGRiMDVmNzhjMSA9IEwucG9wdXAoeyJtYXhXaWR0aCI6ICIxMDAlIn0pOwoKICAgICAgICAKICAgICAgICAgICAgdmFyIGh0bWxfNTFkODNjOGUwZTRjNDVhNmFkZDU2ZmQwNjUyMjY1MDcgPSAkKGA8ZGl2IGlkPSJodG1sXzUxZDgzYzhlMGU0YzQ1YTZhZGQ1NmZkMDY1MjI2NTA3IiBzdHlsZT0id2lkdGg6IDEwMC4wJTsgaGVpZ2h0OiAxMDAuMCU7Ij5IYXJib3JkLCBVbml2ZXJzaXR5IG9mIFRvcm9udG88L2Rpdj5gKVswXTsKICAgICAgICAgICAgcG9wdXBfZjE0YWEwOGYwYjkzNDFiY2E0Njc3ZTBkYjA1Zjc4YzEuc2V0Q29udGVudChodG1sXzUxZDgzYzhlMGU0YzQ1YTZhZGQ1NmZkMDY1MjI2NTA3KTsKICAgICAgICAKCiAgICAgICAgY2lyY2xlX21hcmtlcl84OTFhMzkyNzVkMDU0NmVlODM4MzQzMGY5ZGI2YzJiZC5iaW5kUG9wdXAocG9wdXBfZjE0YWEwOGYwYjkzNDFiY2E0Njc3ZTBkYjA1Zjc4YzEpCiAgICAgICAgOwoKICAgICAgICAKICAgIAogICAgCiAgICAgICAgICAgIHZhciBjaXJjbGVfbWFya2VyXzZjYWFjMDRlMzYwNjRlYTJiNTAxZmRhZTRjY2FiM2VjID0gTC5jaXJjbGVNYXJrZXIoCiAgICAgICAgICAgICAgICBbNDMuNjUzMjA1NywgLTc5LjQwMDA0OTNdLAogICAgICAgICAgICAgICAgeyJidWJibGluZ01vdXNlRXZlbnRzIjogdHJ1ZSwgImNvbG9yIjogInJlZCIsICJkYXNoQXJyYXkiOiBudWxsLCAiZGFzaE9mZnNldCI6IG51bGwsICJmaWxsIjogdHJ1ZSwgImZpbGxDb2xvciI6ICIjMzE4NmNjIiwgImZpbGxPcGFjaXR5IjogMC43LCAiZmlsbFJ1bGUiOiAiZXZlbm9kZCIsICJsaW5lQ2FwIjogInJvdW5kIiwgImxpbmVKb2luIjogInJvdW5kIiwgIm9wYWNpdHkiOiAxLjAsICJyYWRpdXMiOiA1LCAic3Ryb2tlIjogdHJ1ZSwgIndlaWdodCI6IDN9CiAgICAgICAgICAgICkuYWRkVG8obWFwXzZlZjZlZTllNWRkNTQyYzRhZjI5YzljMjY1NmE5MWUxKTsKICAgICAgICAKICAgIAogICAgICAgIHZhciBwb3B1cF8xMDM3YmY0OGI5MmI0MDE4ODk5ZDRmYmM4YWEwODQ0OCA9IEwucG9wdXAoeyJtYXhXaWR0aCI6ICIxMDAlIn0pOwoKICAgICAgICAKICAgICAgICAgICAgdmFyIGh0bWxfOGVhNDlmOTIyMzFjNGYwZjkyZWNmY2M4Y2IzOTJlMjEgPSAkKGA8ZGl2IGlkPSJodG1sXzhlYTQ5ZjkyMjMxYzRmMGY5MmVjZmNjOGNiMzkyZTIxIiBzdHlsZT0id2lkdGg6IDEwMC4wJTsgaGVpZ2h0OiAxMDAuMCU7Ij5DaGluYXRvd24sIEdyYW5nZSBQYXJrLCBLZW5zaW5ndG9uIE1hcmtldDwvZGl2PmApWzBdOwogICAgICAgICAgICBwb3B1cF8xMDM3YmY0OGI5MmI0MDE4ODk5ZDRmYmM4YWEwODQ0OC5zZXRDb250ZW50KGh0bWxfOGVhNDlmOTIyMzFjNGYwZjkyZWNmY2M4Y2IzOTJlMjEpOwogICAgICAgIAoKICAgICAgICBjaXJjbGVfbWFya2VyXzZjYWFjMDRlMzYwNjRlYTJiNTAxZmRhZTRjY2FiM2VjLmJpbmRQb3B1cChwb3B1cF8xMDM3YmY0OGI5MmI0MDE4ODk5ZDRmYmM4YWEwODQ0OCkKICAgICAgICA7CgogICAgICAgIAogICAgCiAgICAKICAgICAgICAgICAgdmFyIGNpcmNsZV9tYXJrZXJfNTE2YzBiMDdmYjY4NDdlOTlkZDZkODlhY2YyNGEyNDEgPSBMLmNpcmNsZU1hcmtlcigKICAgICAgICAgICAgICAgIFs0My42Mjg5NDY3LCAtNzkuMzk0NDE5OV0sCiAgICAgICAgICAgICAgICB7ImJ1YmJsaW5nTW91c2VFdmVudHMiOiB0cnVlLCAiY29sb3IiOiAicmVkIiwgImRhc2hBcnJheSI6IG51bGwsICJkYXNoT2Zmc2V0IjogbnVsbCwgImZpbGwiOiB0cnVlLCAiZmlsbENvbG9yIjogIiMzMTg2Y2MiLCAiZmlsbE9wYWNpdHkiOiAwLjcsICJmaWxsUnVsZSI6ICJldmVub2RkIiwgImxpbmVDYXAiOiAicm91bmQiLCAibGluZUpvaW4iOiAicm91bmQiLCAib3BhY2l0eSI6IDEuMCwgInJhZGl1cyI6IDUsICJzdHJva2UiOiB0cnVlLCAid2VpZ2h0IjogM30KICAgICAgICAgICAgKS5hZGRUbyhtYXBfNmVmNmVlOWU1ZGQ1NDJjNGFmMjljOWMyNjU2YTkxZTEpOwogICAgICAgIAogICAgCiAgICAgICAgdmFyIHBvcHVwX2Q5ZTgwODZkNWE4ZDRmMjliNGEyYTFlZDk4MjJlMzExID0gTC5wb3B1cCh7Im1heFdpZHRoIjogIjEwMCUifSk7CgogICAgICAgIAogICAgICAgICAgICB2YXIgaHRtbF8yNjJiZjE4NTkxMWE0MTIzODU2ZmY0OTEzMTgwZDQ3MCA9ICQoYDxkaXYgaWQ9Imh0bWxfMjYyYmYxODU5MTFhNDEyMzg1NmZmNDkxMzE4MGQ0NzAiIHN0eWxlPSJ3aWR0aDogMTAwLjAlOyBoZWlnaHQ6IDEwMC4wJTsiPkNOIFRvd2VyLCBCYXRodXJzdCBRdWF5LCBJc2xhbmQgYWlycG9ydCwgSGFyYm91cmZyb250IFdlc3QsIEtpbmcgYW5kIFNwYWRpbmEsIFJhaWx3YXkgTGFuZHMsIFNvdXRoIE5pYWdhcmE8L2Rpdj5gKVswXTsKICAgICAgICAgICAgcG9wdXBfZDllODA4NmQ1YThkNGYyOWI0YTJhMWVkOTgyMmUzMTEuc2V0Q29udGVudChodG1sXzI2MmJmMTg1OTExYTQxMjM4NTZmZjQ5MTMxODBkNDcwKTsKICAgICAgICAKCiAgICAgICAgY2lyY2xlX21hcmtlcl81MTZjMGIwN2ZiNjg0N2U5OWRkNmQ4OWFjZjI0YTI0MS5iaW5kUG9wdXAocG9wdXBfZDllODA4NmQ1YThkNGYyOWI0YTJhMWVkOTgyMmUzMTEpCiAgICAgICAgOwoKICAgICAgICAKICAgIAogICAgCiAgICAgICAgICAgIHZhciBjaXJjbGVfbWFya2VyX2FjNjliOGFiM2FlNzRiNzFhODQ3NWExMzJhOTNjMGJhID0gTC5jaXJjbGVNYXJrZXIoCiAgICAgICAgICAgICAgICBbNDMuNjQ2NDM1MiwgLTc5LjM3NDg0NTk5OTk5OTk5XSwKICAgICAgICAgICAgICAgIHsiYnViYmxpbmdNb3VzZUV2ZW50cyI6IHRydWUsICJjb2xvciI6ICJyZWQiLCAiZGFzaEFycmF5IjogbnVsbCwgImRhc2hPZmZzZXQiOiBudWxsLCAiZmlsbCI6IHRydWUsICJmaWxsQ29sb3IiOiAiIzMxODZjYyIsICJmaWxsT3BhY2l0eSI6IDAuNywgImZpbGxSdWxlIjogImV2ZW5vZGQiLCAibGluZUNhcCI6ICJyb3VuZCIsICJsaW5lSm9pbiI6ICJyb3VuZCIsICJvcGFjaXR5IjogMS4wLCAicmFkaXVzIjogNSwgInN0cm9rZSI6IHRydWUsICJ3ZWlnaHQiOiAzfQogICAgICAgICAgICApLmFkZFRvKG1hcF82ZWY2ZWU5ZTVkZDU0MmM0YWYyOWM5YzI2NTZhOTFlMSk7CiAgICAgICAgCiAgICAKICAgICAgICB2YXIgcG9wdXBfNmQyNWIwZTU1ZTNlNDE3Y2I1ZWU1ZWJmMGY4NDk1ZGUgPSBMLnBvcHVwKHsibWF4V2lkdGgiOiAiMTAwJSJ9KTsKCiAgICAgICAgCiAgICAgICAgICAgIHZhciBodG1sXzNlYWFjYTRiOTJiODRjYjliMmU0OGViNWZmNzMzZWRjID0gJChgPGRpdiBpZD0iaHRtbF8zZWFhY2E0YjkyYjg0Y2I5YjJlNDhlYjVmZjczM2VkYyIgc3R5bGU9IndpZHRoOiAxMDAuMCU7IGhlaWdodDogMTAwLjAlOyI+U3RuIEEgUE8gQm94ZXMgMjUgVGhlIEVzcGxhbmFkZTwvZGl2PmApWzBdOwogICAgICAgICAgICBwb3B1cF82ZDI1YjBlNTVlM2U0MTdjYjVlZTVlYmYwZjg0OTVkZS5zZXRDb250ZW50KGh0bWxfM2VhYWNhNGI5MmI4NGNiOWIyZTQ4ZWI1ZmY3MzNlZGMpOwogICAgICAgIAoKICAgICAgICBjaXJjbGVfbWFya2VyX2FjNjliOGFiM2FlNzRiNzFhODQ3NWExMzJhOTNjMGJhLmJpbmRQb3B1cChwb3B1cF82ZDI1YjBlNTVlM2U0MTdjYjVlZTVlYmYwZjg0OTVkZSkKICAgICAgICA7CgogICAgICAgIAogICAgCiAgICAKICAgICAgICAgICAgdmFyIGNpcmNsZV9tYXJrZXJfMzE1NTAyMGUxYjY1NDk5ODg0NmU1Yzk0MjNkNjk5NjIgPSBMLmNpcmNsZU1hcmtlcigKICAgICAgICAgICAgICAgIFs0My42NDg0MjkyLCAtNzkuMzgyMjgwMl0sCiAgICAgICAgICAgICAgICB7ImJ1YmJsaW5nTW91c2VFdmVudHMiOiB0cnVlLCAiY29sb3IiOiAicmVkIiwgImRhc2hBcnJheSI6IG51bGwsICJkYXNoT2Zmc2V0IjogbnVsbCwgImZpbGwiOiB0cnVlLCAiZmlsbENvbG9yIjogIiMzMTg2Y2MiLCAiZmlsbE9wYWNpdHkiOiAwLjcsICJmaWxsUnVsZSI6ICJldmVub2RkIiwgImxpbmVDYXAiOiAicm91bmQiLCAibGluZUpvaW4iOiAicm91bmQiLCAib3BhY2l0eSI6IDEuMCwgInJhZGl1cyI6IDUsICJzdHJva2UiOiB0cnVlLCAid2VpZ2h0IjogM30KICAgICAgICAgICAgKS5hZGRUbyhtYXBfNmVmNmVlOWU1ZGQ1NDJjNGFmMjljOWMyNjU2YTkxZTEpOwogICAgICAgIAogICAgCiAgICAgICAgdmFyIHBvcHVwX2JmZmRhYTNiZDJhNjQyNmY5ODZkNDIzMzc3YWYzOTJlID0gTC5wb3B1cCh7Im1heFdpZHRoIjogIjEwMCUifSk7CgogICAgICAgIAogICAgICAgICAgICB2YXIgaHRtbF85YTY0NWM1N2I5NjU0NzY3Yjk1N2RkZmI4M2FiOGMzOCA9ICQoYDxkaXYgaWQ9Imh0bWxfOWE2NDVjNTdiOTY1NDc2N2I5NTdkZGZiODNhYjhjMzgiIHN0eWxlPSJ3aWR0aDogMTAwLjAlOyBoZWlnaHQ6IDEwMC4wJTsiPkZpcnN0IENhbmFkaWFuIFBsYWNlLCBVbmRlcmdyb3VuZCBjaXR5PC9kaXY+YClbMF07CiAgICAgICAgICAgIHBvcHVwX2JmZmRhYTNiZDJhNjQyNmY5ODZkNDIzMzc3YWYzOTJlLnNldENvbnRlbnQoaHRtbF85YTY0NWM1N2I5NjU0NzY3Yjk1N2RkZmI4M2FiOGMzOCk7CiAgICAgICAgCgogICAgICAgIGNpcmNsZV9tYXJrZXJfMzE1NTAyMGUxYjY1NDk5ODg0NmU1Yzk0MjNkNjk5NjIuYmluZFBvcHVwKHBvcHVwX2JmZmRhYTNiZDJhNjQyNmY5ODZkNDIzMzc3YWYzOTJlKQogICAgICAgIDsKCiAgICAgICAgCiAgICAKICAgIAogICAgICAgICAgICB2YXIgY2lyY2xlX21hcmtlcl8yNGQyMjBhZTkzNjM0MGM0ODA2YWMyNThhM2NhNTFmMyA9IEwuY2lyY2xlTWFya2VyKAogICAgICAgICAgICAgICAgWzQzLjY2OTU0MiwgLTc5LjQyMjU2MzddLAogICAgICAgICAgICAgICAgeyJidWJibGluZ01vdXNlRXZlbnRzIjogdHJ1ZSwgImNvbG9yIjogInJlZCIsICJkYXNoQXJyYXkiOiBudWxsLCAiZGFzaE9mZnNldCI6IG51bGwsICJmaWxsIjogdHJ1ZSwgImZpbGxDb2xvciI6ICIjMzE4NmNjIiwgImZpbGxPcGFjaXR5IjogMC43LCAiZmlsbFJ1bGUiOiAiZXZlbm9kZCIsICJsaW5lQ2FwIjogInJvdW5kIiwgImxpbmVKb2luIjogInJvdW5kIiwgIm9wYWNpdHkiOiAxLjAsICJyYWRpdXMiOiA1LCAic3Ryb2tlIjogdHJ1ZSwgIndlaWdodCI6IDN9CiAgICAgICAgICAgICkuYWRkVG8obWFwXzZlZjZlZTllNWRkNTQyYzRhZjI5YzljMjY1NmE5MWUxKTsKICAgICAgICAKICAgIAogICAgICAgIHZhciBwb3B1cF9hZDE2NTM0MmMzMzk0MGMwODAzZTQ0NGExNTk3NTA1ZCA9IEwucG9wdXAoeyJtYXhXaWR0aCI6ICIxMDAlIn0pOwoKICAgICAgICAKICAgICAgICAgICAgdmFyIGh0bWxfNDMwOGZlMTM4MzM5NGYyMzhlNGY0Mjk0MmYxYTZkZDUgPSAkKGA8ZGl2IGlkPSJodG1sXzQzMDhmZTEzODMzOTRmMjM4ZTRmNDI5NDJmMWE2ZGQ1IiBzdHlsZT0id2lkdGg6IDEwMC4wJTsgaGVpZ2h0OiAxMDAuMCU7Ij5DaHJpc3RpZTwvZGl2PmApWzBdOwogICAgICAgICAgICBwb3B1cF9hZDE2NTM0MmMzMzk0MGMwODAzZTQ0NGExNTk3NTA1ZC5zZXRDb250ZW50KGh0bWxfNDMwOGZlMTM4MzM5NGYyMzhlNGY0Mjk0MmYxYTZkZDUpOwogICAgICAgIAoKICAgICAgICBjaXJjbGVfbWFya2VyXzI0ZDIyMGFlOTM2MzQwYzQ4MDZhYzI1OGEzY2E1MWYzLmJpbmRQb3B1cChwb3B1cF9hZDE2NTM0MmMzMzk0MGMwODAzZTQ0NGExNTk3NTA1ZCkKICAgICAgICA7CgogICAgICAgIAogICAgCiAgICAKICAgICAgICAgICAgdmFyIGNpcmNsZV9tYXJrZXJfZGRiZTVhN2JlNzNlNGMyNTg1ZWQ5OGJiNmQzOGQ3N2IgPSBMLmNpcmNsZU1hcmtlcigKICAgICAgICAgICAgICAgIFs0My42NjkwMDUxMDAwMDAwMSwgLTc5LjQ0MjI1OTNdLAogICAgICAgICAgICAgICAgeyJidWJibGluZ01vdXNlRXZlbnRzIjogdHJ1ZSwgImNvbG9yIjogInJlZCIsICJkYXNoQXJyYXkiOiBudWxsLCAiZGFzaE9mZnNldCI6IG51bGwsICJmaWxsIjogdHJ1ZSwgImZpbGxDb2xvciI6ICIjMzE4NmNjIiwgImZpbGxPcGFjaXR5IjogMC43LCAiZmlsbFJ1bGUiOiAiZXZlbm9kZCIsICJsaW5lQ2FwIjogInJvdW5kIiwgImxpbmVKb2luIjogInJvdW5kIiwgIm9wYWNpdHkiOiAxLjAsICJyYWRpdXMiOiA1LCAic3Ryb2tlIjogdHJ1ZSwgIndlaWdodCI6IDN9CiAgICAgICAgICAgICkuYWRkVG8obWFwXzZlZjZlZTllNWRkNTQyYzRhZjI5YzljMjY1NmE5MWUxKTsKICAgICAgICAKICAgIAogICAgICAgIHZhciBwb3B1cF8wMWM2YTg3ZTczOTE0NzgzYTZjMGQxYzYyNDVlNmNkMiA9IEwucG9wdXAoeyJtYXhXaWR0aCI6ICIxMDAlIn0pOwoKICAgICAgICAKICAgICAgICAgICAgdmFyIGh0bWxfMTA3NjVmNTA3ZDFmNGE5NTlmYjQyODkwYWU2YThhMWQgPSAkKGA8ZGl2IGlkPSJodG1sXzEwNzY1ZjUwN2QxZjRhOTU5ZmI0Mjg5MGFlNmE4YTFkIiBzdHlsZT0id2lkdGg6IDEwMC4wJTsgaGVpZ2h0OiAxMDAuMCU7Ij5Eb3ZlcmNvdXJ0IFZpbGxhZ2UsIER1ZmZlcmluPC9kaXY+YClbMF07CiAgICAgICAgICAgIHBvcHVwXzAxYzZhODdlNzM5MTQ3ODNhNmMwZDFjNjI0NWU2Y2QyLnNldENvbnRlbnQoaHRtbF8xMDc2NWY1MDdkMWY0YTk1OWZiNDI4OTBhZTZhOGExZCk7CiAgICAgICAgCgogICAgICAgIGNpcmNsZV9tYXJrZXJfZGRiZTVhN2JlNzNlNGMyNTg1ZWQ5OGJiNmQzOGQ3N2IuYmluZFBvcHVwKHBvcHVwXzAxYzZhODdlNzM5MTQ3ODNhNmMwZDFjNjI0NWU2Y2QyKQogICAgICAgIDsKCiAgICAgICAgCiAgICAKICAgIAogICAgICAgICAgICB2YXIgY2lyY2xlX21hcmtlcl8zYTYzM2YxMmM1YTg0ZGY1YWY1MjZmMjU0OTViZjg1YyA9IEwuY2lyY2xlTWFya2VyKAogICAgICAgICAgICAgICAgWzQzLjY0NzkyNjcwMDAwMDAwNiwgLTc5LjQxOTc0OTddLAogICAgICAgICAgICAgICAgeyJidWJibGluZ01vdXNlRXZlbnRzIjogdHJ1ZSwgImNvbG9yIjogInJlZCIsICJkYXNoQXJyYXkiOiBudWxsLCAiZGFzaE9mZnNldCI6IG51bGwsICJmaWxsIjogdHJ1ZSwgImZpbGxDb2xvciI6ICIjMzE4NmNjIiwgImZpbGxPcGFjaXR5IjogMC43LCAiZmlsbFJ1bGUiOiAiZXZlbm9kZCIsICJsaW5lQ2FwIjogInJvdW5kIiwgImxpbmVKb2luIjogInJvdW5kIiwgIm9wYWNpdHkiOiAxLjAsICJyYWRpdXMiOiA1LCAic3Ryb2tlIjogdHJ1ZSwgIndlaWdodCI6IDN9CiAgICAgICAgICAgICkuYWRkVG8obWFwXzZlZjZlZTllNWRkNTQyYzRhZjI5YzljMjY1NmE5MWUxKTsKICAgICAgICAKICAgIAogICAgICAgIHZhciBwb3B1cF9kNDdlNjRhNWQ5OWI0OTlkODExZGE1Y2NhMzdlNGIyMyA9IEwucG9wdXAoeyJtYXhXaWR0aCI6ICIxMDAlIn0pOwoKICAgICAgICAKICAgICAgICAgICAgdmFyIGh0bWxfM2Y2YTExNjMzN2Y2NDE3ZTkyNmI0ODNhMTg4ZTU4OWYgPSAkKGA8ZGl2IGlkPSJodG1sXzNmNmExMTYzMzdmNjQxN2U5MjZiNDgzYTE4OGU1ODlmIiBzdHlsZT0id2lkdGg6IDEwMC4wJTsgaGVpZ2h0OiAxMDAuMCU7Ij5MaXR0bGUgUG9ydHVnYWwsIFRyaW5pdHk8L2Rpdj5gKVswXTsKICAgICAgICAgICAgcG9wdXBfZDQ3ZTY0YTVkOTliNDk5ZDgxMWRhNWNjYTM3ZTRiMjMuc2V0Q29udGVudChodG1sXzNmNmExMTYzMzdmNjQxN2U5MjZiNDgzYTE4OGU1ODlmKTsKICAgICAgICAKCiAgICAgICAgY2lyY2xlX21hcmtlcl8zYTYzM2YxMmM1YTg0ZGY1YWY1MjZmMjU0OTViZjg1Yy5iaW5kUG9wdXAocG9wdXBfZDQ3ZTY0YTVkOTliNDk5ZDgxMWRhNWNjYTM3ZTRiMjMpCiAgICAgICAgOwoKICAgICAgICAKICAgIAogICAgCiAgICAgICAgICAgIHZhciBjaXJjbGVfbWFya2VyXzk0ZWI1YjNiNjUwODQxOTQ4YzFhZTJhYjVjOGM1MTk1ID0gTC5jaXJjbGVNYXJrZXIoCiAgICAgICAgICAgICAgICBbNDMuNjM2ODQ3MiwgLTc5LjQyODE5MTQwMDAwMDAyXSwKICAgICAgICAgICAgICAgIHsiYnViYmxpbmdNb3VzZUV2ZW50cyI6IHRydWUsICJjb2xvciI6ICJyZWQiLCAiZGFzaEFycmF5IjogbnVsbCwgImRhc2hPZmZzZXQiOiBudWxsLCAiZmlsbCI6IHRydWUsICJmaWxsQ29sb3IiOiAiIzMxODZjYyIsICJmaWxsT3BhY2l0eSI6IDAuNywgImZpbGxSdWxlIjogImV2ZW5vZGQiLCAibGluZUNhcCI6ICJyb3VuZCIsICJsaW5lSm9pbiI6ICJyb3VuZCIsICJvcGFjaXR5IjogMS4wLCAicmFkaXVzIjogNSwgInN0cm9rZSI6IHRydWUsICJ3ZWlnaHQiOiAzfQogICAgICAgICAgICApLmFkZFRvKG1hcF82ZWY2ZWU5ZTVkZDU0MmM0YWYyOWM5YzI2NTZhOTFlMSk7CiAgICAgICAgCiAgICAKICAgICAgICB2YXIgcG9wdXBfN2EwNDZiZDc2ZjUwNDQxYTg2ZmViMWU2OGVmODU2YmQgPSBMLnBvcHVwKHsibWF4V2lkdGgiOiAiMTAwJSJ9KTsKCiAgICAgICAgCiAgICAgICAgICAgIHZhciBodG1sXzEyMDQ0OWI3YmFlNTRkYmI5NDdlMzZjM2YwMDJlMDc4ID0gJChgPGRpdiBpZD0iaHRtbF8xMjA0NDliN2JhZTU0ZGJiOTQ3ZTM2YzNmMDAyZTA3OCIgc3R5bGU9IndpZHRoOiAxMDAuMCU7IGhlaWdodDogMTAwLjAlOyI+QnJvY2t0b24sIEV4aGliaXRpb24gUGxhY2UsIFBhcmtkYWxlIFZpbGxhZ2U8L2Rpdj5gKVswXTsKICAgICAgICAgICAgcG9wdXBfN2EwNDZiZDc2ZjUwNDQxYTg2ZmViMWU2OGVmODU2YmQuc2V0Q29udGVudChodG1sXzEyMDQ0OWI3YmFlNTRkYmI5NDdlMzZjM2YwMDJlMDc4KTsKICAgICAgICAKCiAgICAgICAgY2lyY2xlX21hcmtlcl85NGViNWIzYjY1MDg0MTk0OGMxYWUyYWI1YzhjNTE5NS5iaW5kUG9wdXAocG9wdXBfN2EwNDZiZDc2ZjUwNDQxYTg2ZmViMWU2OGVmODU2YmQpCiAgICAgICAgOwoKICAgICAgICAKICAgIAogICAgCiAgICAgICAgICAgIHZhciBjaXJjbGVfbWFya2VyXzgzZWZiYTU0YTM0MjRmYTVhOGY2YTc1ZDZkZGMzMTU0ID0gTC5jaXJjbGVNYXJrZXIoCiAgICAgICAgICAgICAgICBbNDMuNjYxNjA4MywgLTc5LjQ2NDc2MzI5OTk5OTk5XSwKICAgICAgICAgICAgICAgIHsiYnViYmxpbmdNb3VzZUV2ZW50cyI6IHRydWUsICJjb2xvciI6ICJyZWQiLCAiZGFzaEFycmF5IjogbnVsbCwgImRhc2hPZmZzZXQiOiBudWxsLCAiZmlsbCI6IHRydWUsICJmaWxsQ29sb3IiOiAiIzMxODZjYyIsICJmaWxsT3BhY2l0eSI6IDAuNywgImZpbGxSdWxlIjogImV2ZW5vZGQiLCAibGluZUNhcCI6ICJyb3VuZCIsICJsaW5lSm9pbiI6ICJyb3VuZCIsICJvcGFjaXR5IjogMS4wLCAicmFkaXVzIjogNSwgInN0cm9rZSI6IHRydWUsICJ3ZWlnaHQiOiAzfQogICAgICAgICAgICApLmFkZFRvKG1hcF82ZWY2ZWU5ZTVkZDU0MmM0YWYyOWM5YzI2NTZhOTFlMSk7CiAgICAgICAgCiAgICAKICAgICAgICB2YXIgcG9wdXBfZmY4ZGRkZjg3NWJhNDdjNDhjZjcxZGI3ZjFkOGEwMzIgPSBMLnBvcHVwKHsibWF4V2lkdGgiOiAiMTAwJSJ9KTsKCiAgICAgICAgCiAgICAgICAgICAgIHZhciBodG1sXzczNTE0YzRlODMyNjRhNDZhN2FhZmE3NDFkZmQ1ZWY1ID0gJChgPGRpdiBpZD0iaHRtbF83MzUxNGM0ZTgzMjY0YTQ2YTdhYWZhNzQxZGZkNWVmNSIgc3R5bGU9IndpZHRoOiAxMDAuMCU7IGhlaWdodDogMTAwLjAlOyI+SGlnaCBQYXJrLCBUaGUgSnVuY3Rpb24gU291dGg8L2Rpdj5gKVswXTsKICAgICAgICAgICAgcG9wdXBfZmY4ZGRkZjg3NWJhNDdjNDhjZjcxZGI3ZjFkOGEwMzIuc2V0Q29udGVudChodG1sXzczNTE0YzRlODMyNjRhNDZhN2FhZmE3NDFkZmQ1ZWY1KTsKICAgICAgICAKCiAgICAgICAgY2lyY2xlX21hcmtlcl84M2VmYmE1NGEzNDI0ZmE1YThmNmE3NWQ2ZGRjMzE1NC5iaW5kUG9wdXAocG9wdXBfZmY4ZGRkZjg3NWJhNDdjNDhjZjcxZGI3ZjFkOGEwMzIpCiAgICAgICAgOwoKICAgICAgICAKICAgIAogICAgCiAgICAgICAgICAgIHZhciBjaXJjbGVfbWFya2VyX2I0NDYxYTliM2Q1NjQyN2U4NjY3OGMzYzEyNGVhNWQ2ID0gTC5jaXJjbGVNYXJrZXIoCiAgICAgICAgICAgICAgICBbNDMuNjQ4OTU5NywgLTc5LjQ1NjMyNV0sCiAgICAgICAgICAgICAgICB7ImJ1YmJsaW5nTW91c2VFdmVudHMiOiB0cnVlLCAiY29sb3IiOiAicmVkIiwgImRhc2hBcnJheSI6IG51bGwsICJkYXNoT2Zmc2V0IjogbnVsbCwgImZpbGwiOiB0cnVlLCAiZmlsbENvbG9yIjogIiMzMTg2Y2MiLCAiZmlsbE9wYWNpdHkiOiAwLjcsICJmaWxsUnVsZSI6ICJldmVub2RkIiwgImxpbmVDYXAiOiAicm91bmQiLCAibGluZUpvaW4iOiAicm91bmQiLCAib3BhY2l0eSI6IDEuMCwgInJhZGl1cyI6IDUsICJzdHJva2UiOiB0cnVlLCAid2VpZ2h0IjogM30KICAgICAgICAgICAgKS5hZGRUbyhtYXBfNmVmNmVlOWU1ZGQ1NDJjNGFmMjljOWMyNjU2YTkxZTEpOwogICAgICAgIAogICAgCiAgICAgICAgdmFyIHBvcHVwXzBmZWEyZDRhMzQxZTQxYTQ5ZWNjOWZiZDczNmVjMjQ4ID0gTC5wb3B1cCh7Im1heFdpZHRoIjogIjEwMCUifSk7CgogICAgICAgIAogICAgICAgICAgICB2YXIgaHRtbF9iMmNmZTlmYjE4Y2E0ZjAyODJhM2VhM2RlZjhiNDAwYyA9ICQoYDxkaXYgaWQ9Imh0bWxfYjJjZmU5ZmIxOGNhNGYwMjgyYTNlYTNkZWY4YjQwMGMiIHN0eWxlPSJ3aWR0aDogMTAwLjAlOyBoZWlnaHQ6IDEwMC4wJTsiPlBhcmtkYWxlLCBSb25jZXN2YWxsZXM8L2Rpdj5gKVswXTsKICAgICAgICAgICAgcG9wdXBfMGZlYTJkNGEzNDFlNDFhNDllY2M5ZmJkNzM2ZWMyNDguc2V0Q29udGVudChodG1sX2IyY2ZlOWZiMThjYTRmMDI4MmEzZWEzZGVmOGI0MDBjKTsKICAgICAgICAKCiAgICAgICAgY2lyY2xlX21hcmtlcl9iNDQ2MWE5YjNkNTY0MjdlODY2NzhjM2MxMjRlYTVkNi5iaW5kUG9wdXAocG9wdXBfMGZlYTJkNGEzNDFlNDFhNDllY2M5ZmJkNzM2ZWMyNDgpCiAgICAgICAgOwoKICAgICAgICAKICAgIAogICAgCiAgICAgICAgICAgIHZhciBjaXJjbGVfbWFya2VyX2RhODY4MDYxYzEwODQ0YzA5YmVmMThjNDc2ODQ2NmM0ID0gTC5jaXJjbGVNYXJrZXIoCiAgICAgICAgICAgICAgICBbNDMuNjUxNTcwNiwgLTc5LjQ4NDQ0OTldLAogICAgICAgICAgICAgICAgeyJidWJibGluZ01vdXNlRXZlbnRzIjogdHJ1ZSwgImNvbG9yIjogInJlZCIsICJkYXNoQXJyYXkiOiBudWxsLCAiZGFzaE9mZnNldCI6IG51bGwsICJmaWxsIjogdHJ1ZSwgImZpbGxDb2xvciI6ICIjMzE4NmNjIiwgImZpbGxPcGFjaXR5IjogMC43LCAiZmlsbFJ1bGUiOiAiZXZlbm9kZCIsICJsaW5lQ2FwIjogInJvdW5kIiwgImxpbmVKb2luIjogInJvdW5kIiwgIm9wYWNpdHkiOiAxLjAsICJyYWRpdXMiOiA1LCAic3Ryb2tlIjogdHJ1ZSwgIndlaWdodCI6IDN9CiAgICAgICAgICAgICkuYWRkVG8obWFwXzZlZjZlZTllNWRkNTQyYzRhZjI5YzljMjY1NmE5MWUxKTsKICAgICAgICAKICAgIAogICAgICAgIHZhciBwb3B1cF8xYTQ0OGY5ODk3MTE0ZjI1YTc1OWI2MDk4NTgwM2U4MSA9IEwucG9wdXAoeyJtYXhXaWR0aCI6ICIxMDAlIn0pOwoKICAgICAgICAKICAgICAgICAgICAgdmFyIGh0bWxfN2M2YjVkY2JhNzhlNGJlNGFmODNhNWUzOTkwMTlhMDQgPSAkKGA8ZGl2IGlkPSJodG1sXzdjNmI1ZGNiYTc4ZTRiZTRhZjgzYTVlMzk5MDE5YTA0IiBzdHlsZT0id2lkdGg6IDEwMC4wJTsgaGVpZ2h0OiAxMDAuMCU7Ij5SdW5ueW1lZGUsIFN3YW5zZWE8L2Rpdj5gKVswXTsKICAgICAgICAgICAgcG9wdXBfMWE0NDhmOTg5NzExNGYyNWE3NTliNjA5ODU4MDNlODEuc2V0Q29udGVudChodG1sXzdjNmI1ZGNiYTc4ZTRiZTRhZjgzYTVlMzk5MDE5YTA0KTsKICAgICAgICAKCiAgICAgICAgY2lyY2xlX21hcmtlcl9kYTg2ODA2MWMxMDg0NGMwOWJlZjE4YzQ3Njg0NjZjNC5iaW5kUG9wdXAocG9wdXBfMWE0NDhmOTg5NzExNGYyNWE3NTliNjA5ODU4MDNlODEpCiAgICAgICAgOwoKICAgICAgICAKICAgIAogICAgCiAgICAgICAgICAgIHZhciBjaXJjbGVfbWFya2VyXzIzNzhiOGU0MTVlMDQ0YzZiYjU0YzE1N2ZiNmVlNGY4ID0gTC5jaXJjbGVNYXJrZXIoCiAgICAgICAgICAgICAgICBbNDMuNjYyNzQzOSwgLTc5LjMyMTU1OF0sCiAgICAgICAgICAgICAgICB7ImJ1YmJsaW5nTW91c2VFdmVudHMiOiB0cnVlLCAiY29sb3IiOiAicmVkIiwgImRhc2hBcnJheSI6IG51bGwsICJkYXNoT2Zmc2V0IjogbnVsbCwgImZpbGwiOiB0cnVlLCAiZmlsbENvbG9yIjogIiMzMTg2Y2MiLCAiZmlsbE9wYWNpdHkiOiAwLjcsICJmaWxsUnVsZSI6ICJldmVub2RkIiwgImxpbmVDYXAiOiAicm91bmQiLCAibGluZUpvaW4iOiAicm91bmQiLCAib3BhY2l0eSI6IDEuMCwgInJhZGl1cyI6IDUsICJzdHJva2UiOiB0cnVlLCAid2VpZ2h0IjogM30KICAgICAgICAgICAgKS5hZGRUbyhtYXBfNmVmNmVlOWU1ZGQ1NDJjNGFmMjljOWMyNjU2YTkxZTEpOwogICAgICAgIAogICAgCiAgICAgICAgdmFyIHBvcHVwXzQ2NDhmODRkYTAyZjQwYjBhODBmMGY2N2ZhMTg2YTBmID0gTC5wb3B1cCh7Im1heFdpZHRoIjogIjEwMCUifSk7CgogICAgICAgIAogICAgICAgICAgICB2YXIgaHRtbF84NTUwNTQxNTliMjY0MzM1YWM1NzVhNDU0MjFlODJhZCA9ICQoYDxkaXYgaWQ9Imh0bWxfODU1MDU0MTU5YjI2NDMzNWFjNTc1YTQ1NDIxZTgyYWQiIHN0eWxlPSJ3aWR0aDogMTAwLjAlOyBoZWlnaHQ6IDEwMC4wJTsiPkJ1c2luZXNzIFJlcGx5IE1haWwgUHJvY2Vzc2luZyBDZW50cmUgOTY5IEVhc3Rlcm48L2Rpdj5gKVswXTsKICAgICAgICAgICAgcG9wdXBfNDY0OGY4NGRhMDJmNDBiMGE4MGYwZjY3ZmExODZhMGYuc2V0Q29udGVudChodG1sXzg1NTA1NDE1OWIyNjQzMzVhYzU3NWE0NTQyMWU4MmFkKTsKICAgICAgICAKCiAgICAgICAgY2lyY2xlX21hcmtlcl8yMzc4YjhlNDE1ZTA0NGM2YmI1NGMxNTdmYjZlZTRmOC5iaW5kUG9wdXAocG9wdXBfNDY0OGY4NGRhMDJmNDBiMGE4MGYwZjY3ZmExODZhMGYpCiAgICAgICAgOwoKICAgICAgICAKICAgIAo8L3NjcmlwdD4=\" style=\"position:absolute;width:100%;height:100%;left:0;top:0;border:none !important;\" allowfullscreen webkitallowfullscreen mozallowfullscreen></iframe></div></div>"
      ],
      "text/plain": [
       "<folium.folium.Map at 0x265421e51c8>"
      ]
     },
     "execution_count": 31,
     "metadata": {},
     "output_type": "execute_result"
    }
   ],
   "source": [
    "# create map of Toronto (The boroughs that contain the word Toronto) using latitude and longitude values\n",
    "map_Toronto = folium.Map(location=[latitude, longitude], zoom_start=11)\n",
    "\n",
    "# add markers to map\n",
    "for lat, lng, label in zip(toronto_Borough['Latitude'], toronto_Borough['Longitude'], toronto_Borough['Neighborhood']):\n",
    "    label = folium.Popup(label, parse_html=True)\n",
    "    folium.CircleMarker(\n",
    "        [lat, lng],\n",
    "        radius=5,\n",
    "        popup=label,\n",
    "        color='red',\n",
    "        fill=True,\n",
    "        fill_color='#3186cc',\n",
    "        fill_opacity=0.7,\n",
    "        parse_html=False).add_to(map_Toronto)  \n",
    "    \n",
    "map_Toronto"
   ]
  },
  {
   "cell_type": "markdown",
   "metadata": {},
   "source": [
    " "
   ]
  },
  {
   "cell_type": "markdown",
   "metadata": {},
   "source": [
    "<p style=\"text-align: center;\"><span style=\"font-size: 18pt;\"><strong><span style=\"color: #ff0000;\">Thank You Very Much for Peer Classmate</span></strong></span></p>"
   ]
  },
  {
   "cell_type": "code",
   "execution_count": null,
   "metadata": {},
   "outputs": [],
   "source": []
  }
 ],
 "metadata": {
  "kernelspec": {
   "display_name": "Python 3",
   "language": "python",
   "name": "python3"
  },
  "language_info": {
   "codemirror_mode": {
    "name": "ipython",
    "version": 3
   },
   "file_extension": ".py",
   "mimetype": "text/x-python",
   "name": "python",
   "nbconvert_exporter": "python",
   "pygments_lexer": "ipython3",
   "version": "3.7.4"
  },
  "latex_envs": {
   "LaTeX_envs_menu_present": true,
   "autoclose": false,
   "autocomplete": true,
   "bibliofile": "biblio.bib",
   "cite_by": "apalike",
   "current_citInitial": 1,
   "eqLabelWithNumbers": true,
   "eqNumInitial": 1,
   "hotkeys": {
    "equation": "Ctrl-E",
    "itemize": "Ctrl-I"
   },
   "labels_anchors": false,
   "latex_user_defs": false,
   "report_style_numbering": false,
   "user_envs_cfg": false
  },
  "toc": {
   "base_numbering": 1,
   "nav_menu": {},
   "number_sections": true,
   "sideBar": true,
   "skip_h1_title": false,
   "title_cell": "Table of Contents",
   "title_sidebar": "Contents",
   "toc_cell": false,
   "toc_position": {},
   "toc_section_display": true,
   "toc_window_display": false
  }
 },
 "nbformat": 4,
 "nbformat_minor": 2
}
