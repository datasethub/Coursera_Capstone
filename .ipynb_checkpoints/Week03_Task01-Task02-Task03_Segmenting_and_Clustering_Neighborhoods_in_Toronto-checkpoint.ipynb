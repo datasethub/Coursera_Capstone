{
 "cells": [
  {
   "cell_type": "markdown",
   "metadata": {},
   "source": [
    "<p style=\"text-align: center;\"><span style=\"color: #0000ff;\"><strong><span style=\"font-size: 22pt;\">Segmenting and Clustering Neighborhoods in Toronto</span></strong></span></p>"
   ]
  },
  {
   "cell_type": "markdown",
   "metadata": {},
   "source": [
    " "
   ]
  },
  {
   "cell_type": "markdown",
   "metadata": {},
   "source": [
    "# TASK #1: Creating dataframe from the following Wikipedia page"
   ]
  },
  {
   "cell_type": "markdown",
   "metadata": {},
   "source": [
    "## Scraping the following Wikipedia page, https://en.wikipedia.org/wiki/List_of_postal_codes_of_Canada:_M"
   ]
  },
  {
   "cell_type": "code",
   "execution_count": 1,
   "metadata": {
    "ExecuteTime": {
     "end_time": "2019-08-31T17:00:46.972416Z",
     "start_time": "2019-08-31T17:00:46.387944Z"
    }
   },
   "outputs": [],
   "source": [
    "from bs4 import BeautifulSoup\n",
    "import requests\n",
    "\n",
    "source = requests.get(\"https://en.wikipedia.org/wiki/List_of_postal_codes_of_Canada:_M\").text\n",
    "soup = BeautifulSoup(source, 'html')"
   ]
  },
  {
   "cell_type": "markdown",
   "metadata": {},
   "source": []
  },
  {
   "cell_type": "code",
   "execution_count": 2,
   "metadata": {
    "ExecuteTime": {
     "end_time": "2019-08-31T17:00:46.978365Z",
     "start_time": "2019-08-31T17:00:46.974376Z"
    }
   },
   "outputs": [],
   "source": [
    "table_data = soup.tbody"
   ]
  },
  {
   "cell_type": "markdown",
   "metadata": {},
   "source": [
    "## To create the dataframe following the requirements of the post"
   ]
  },
  {
   "cell_type": "code",
   "execution_count": 3,
   "metadata": {
    "ExecuteTime": {
     "end_time": "2019-08-31T17:00:47.539862Z",
     "start_time": "2019-08-31T17:00:46.980358Z"
    }
   },
   "outputs": [],
   "source": [
    "import pandas as pd"
   ]
  },
  {
   "cell_type": "markdown",
   "metadata": {},
   "source": [
    "The Toronto's dataframe will consist of three columns: **PostalCode**, **Borough**, and **Neighborhood**"
   ]
  },
  {
   "cell_type": "code",
   "execution_count": 4,
   "metadata": {
    "ExecuteTime": {
     "end_time": "2019-08-31T17:00:47.547841Z",
     "start_time": "2019-08-31T17:00:47.540859Z"
    }
   },
   "outputs": [],
   "source": [
    "column_names = ['Postalcode', 'Borough', 'Neighborhood']\n",
    "toronto = pd.DataFrame(columns=column_names)"
   ]
  },
  {
   "cell_type": "code",
   "execution_count": 5,
   "metadata": {
    "ExecuteTime": {
     "end_time": "2019-08-31T17:00:47.566792Z",
     "start_time": "2019-08-31T17:00:47.549836Z"
    }
   },
   "outputs": [
    {
     "data": {
      "text/html": [
       "<div>\n",
       "<style scoped>\n",
       "    .dataframe tbody tr th:only-of-type {\n",
       "        vertical-align: middle;\n",
       "    }\n",
       "\n",
       "    .dataframe tbody tr th {\n",
       "        vertical-align: top;\n",
       "    }\n",
       "\n",
       "    .dataframe thead th {\n",
       "        text-align: right;\n",
       "    }\n",
       "</style>\n",
       "<table border=\"1\" class=\"dataframe\">\n",
       "  <thead>\n",
       "    <tr style=\"text-align: right;\">\n",
       "      <th></th>\n",
       "      <th>Postalcode</th>\n",
       "      <th>Borough</th>\n",
       "      <th>Neighborhood</th>\n",
       "    </tr>\n",
       "  </thead>\n",
       "  <tbody>\n",
       "  </tbody>\n",
       "</table>\n",
       "</div>"
      ],
      "text/plain": [
       "Empty DataFrame\n",
       "Columns: [Postalcode, Borough, Neighborhood]\n",
       "Index: []"
      ]
     },
     "execution_count": 5,
     "metadata": {},
     "output_type": "execute_result"
    }
   ],
   "source": [
    "toronto"
   ]
  },
  {
   "cell_type": "markdown",
   "metadata": {},
   "source": [
    " "
   ]
  },
  {
   "cell_type": "code",
   "execution_count": 6,
   "metadata": {
    "ExecuteTime": {
     "end_time": "2019-08-31T17:00:48.069492Z",
     "start_time": "2019-08-31T17:00:47.567789Z"
    }
   },
   "outputs": [],
   "source": [
    "postalcode, borough, neighborhood = 0, 0, 0\n",
    "\n",
    "for tr in table_data.find_all('tr'):\n",
    "    i = 0\n",
    "    for td in tr.find_all('td'):\n",
    "        if i == 0:\n",
    "            postalcode = td.text\n",
    "            i = i+1\n",
    "        elif i == 1:\n",
    "            borough = td.text\n",
    "            i = i + 1\n",
    "        elif i == 2:\n",
    "            neighborhood = td.text.strip('\\n')#.replace(']', '')\n",
    "    toronto = toronto.append({'Postalcode': postalcode, 'Borough': borough,\n",
    "                              'Neighborhood': neighborhood}, ignore_index=True)"
   ]
  },
  {
   "cell_type": "code",
   "execution_count": 7,
   "metadata": {
    "ExecuteTime": {
     "end_time": "2019-08-31T17:00:48.076428Z",
     "start_time": "2019-08-31T17:00:48.071442Z"
    }
   },
   "outputs": [
    {
     "data": {
      "text/plain": [
       "(289, 3)"
      ]
     },
     "execution_count": 7,
     "metadata": {},
     "output_type": "execute_result"
    }
   ],
   "source": [
    "toronto.shape"
   ]
  },
  {
   "cell_type": "code",
   "execution_count": 8,
   "metadata": {
    "ExecuteTime": {
     "end_time": "2019-08-31T17:00:48.091387Z",
     "start_time": "2019-08-31T17:00:48.079421Z"
    }
   },
   "outputs": [
    {
     "data": {
      "text/html": [
       "<div>\n",
       "<style scoped>\n",
       "    .dataframe tbody tr th:only-of-type {\n",
       "        vertical-align: middle;\n",
       "    }\n",
       "\n",
       "    .dataframe tbody tr th {\n",
       "        vertical-align: top;\n",
       "    }\n",
       "\n",
       "    .dataframe thead th {\n",
       "        text-align: right;\n",
       "    }\n",
       "</style>\n",
       "<table border=\"1\" class=\"dataframe\">\n",
       "  <thead>\n",
       "    <tr style=\"text-align: right;\">\n",
       "      <th></th>\n",
       "      <th>Postalcode</th>\n",
       "      <th>Borough</th>\n",
       "      <th>Neighborhood</th>\n",
       "    </tr>\n",
       "  </thead>\n",
       "  <tbody>\n",
       "    <tr>\n",
       "      <th>0</th>\n",
       "      <td>0</td>\n",
       "      <td>0</td>\n",
       "      <td>0</td>\n",
       "    </tr>\n",
       "    <tr>\n",
       "      <th>1</th>\n",
       "      <td>M1A</td>\n",
       "      <td>Not assigned</td>\n",
       "      <td>Not assigned</td>\n",
       "    </tr>\n",
       "    <tr>\n",
       "      <th>2</th>\n",
       "      <td>M2A</td>\n",
       "      <td>Not assigned</td>\n",
       "      <td>Not assigned</td>\n",
       "    </tr>\n",
       "    <tr>\n",
       "      <th>3</th>\n",
       "      <td>M3A</td>\n",
       "      <td>North York</td>\n",
       "      <td>Parkwoods</td>\n",
       "    </tr>\n",
       "    <tr>\n",
       "      <th>4</th>\n",
       "      <td>M4A</td>\n",
       "      <td>North York</td>\n",
       "      <td>Victoria Village</td>\n",
       "    </tr>\n",
       "    <tr>\n",
       "      <th>5</th>\n",
       "      <td>M5A</td>\n",
       "      <td>Downtown Toronto</td>\n",
       "      <td>Harbourfront</td>\n",
       "    </tr>\n",
       "    <tr>\n",
       "      <th>6</th>\n",
       "      <td>M5A</td>\n",
       "      <td>Downtown Toronto</td>\n",
       "      <td>Regent Park</td>\n",
       "    </tr>\n",
       "    <tr>\n",
       "      <th>7</th>\n",
       "      <td>M6A</td>\n",
       "      <td>North York</td>\n",
       "      <td>Lawrence Heights</td>\n",
       "    </tr>\n",
       "    <tr>\n",
       "      <th>8</th>\n",
       "      <td>M6A</td>\n",
       "      <td>North York</td>\n",
       "      <td>Lawrence Manor</td>\n",
       "    </tr>\n",
       "    <tr>\n",
       "      <th>9</th>\n",
       "      <td>M7A</td>\n",
       "      <td>Queen's Park</td>\n",
       "      <td>Not assigned</td>\n",
       "    </tr>\n",
       "    <tr>\n",
       "      <th>10</th>\n",
       "      <td>M8A</td>\n",
       "      <td>Not assigned</td>\n",
       "      <td>Not assigned</td>\n",
       "    </tr>\n",
       "    <tr>\n",
       "      <th>11</th>\n",
       "      <td>M9A</td>\n",
       "      <td>Etobicoke</td>\n",
       "      <td>Islington Avenue</td>\n",
       "    </tr>\n",
       "  </tbody>\n",
       "</table>\n",
       "</div>"
      ],
      "text/plain": [
       "   Postalcode           Borough      Neighborhood\n",
       "0           0                 0                 0\n",
       "1         M1A      Not assigned      Not assigned\n",
       "2         M2A      Not assigned      Not assigned\n",
       "3         M3A        North York         Parkwoods\n",
       "4         M4A        North York  Victoria Village\n",
       "5         M5A  Downtown Toronto      Harbourfront\n",
       "6         M5A  Downtown Toronto       Regent Park\n",
       "7         M6A        North York  Lawrence Heights\n",
       "8         M6A        North York    Lawrence Manor\n",
       "9         M7A      Queen's Park      Not assigned\n",
       "10        M8A      Not assigned      Not assigned\n",
       "11        M9A         Etobicoke  Islington Avenue"
      ]
     },
     "execution_count": 8,
     "metadata": {},
     "output_type": "execute_result"
    }
   ],
   "source": [
    "toronto.head(12)"
   ]
  },
  {
   "cell_type": "code",
   "execution_count": null,
   "metadata": {
    "ExecuteTime": {
     "end_time": "2019-08-31T04:50:16.755457Z",
     "start_time": "2019-08-31T04:50:16.747510Z"
    }
   },
   "outputs": [],
   "source": []
  },
  {
   "cell_type": "markdown",
   "metadata": {},
   "source": [
    "Only process the cells that have an assigned borough. Ignore cells with a borough that is ***Not assigned***."
   ]
  },
  {
   "cell_type": "code",
   "execution_count": 9,
   "metadata": {
    "ExecuteTime": {
     "end_time": "2019-08-31T17:00:48.101394Z",
     "start_time": "2019-08-31T17:00:48.093383Z"
    }
   },
   "outputs": [],
   "source": [
    "# clean dataframe \n",
    "toronto = toronto[toronto.Borough != 'Not assigned']\n",
    "toronto = toronto[toronto.Borough != 0]\n",
    "toronto.reset_index(drop = True, inplace = True)\n"
   ]
  },
  {
   "cell_type": "code",
   "execution_count": 10,
   "metadata": {
    "ExecuteTime": {
     "end_time": "2019-08-31T17:00:48.110384Z",
     "start_time": "2019-08-31T17:00:48.103356Z"
    }
   },
   "outputs": [
    {
     "data": {
      "text/plain": [
       "(211, 3)"
      ]
     },
     "execution_count": 10,
     "metadata": {},
     "output_type": "execute_result"
    }
   ],
   "source": [
    "toronto.shape"
   ]
  },
  {
   "cell_type": "code",
   "execution_count": 11,
   "metadata": {
    "ExecuteTime": {
     "end_time": "2019-08-31T17:00:48.121341Z",
     "start_time": "2019-08-31T17:00:48.111332Z"
    }
   },
   "outputs": [
    {
     "data": {
      "text/html": [
       "<div>\n",
       "<style scoped>\n",
       "    .dataframe tbody tr th:only-of-type {\n",
       "        vertical-align: middle;\n",
       "    }\n",
       "\n",
       "    .dataframe tbody tr th {\n",
       "        vertical-align: top;\n",
       "    }\n",
       "\n",
       "    .dataframe thead th {\n",
       "        text-align: right;\n",
       "    }\n",
       "</style>\n",
       "<table border=\"1\" class=\"dataframe\">\n",
       "  <thead>\n",
       "    <tr style=\"text-align: right;\">\n",
       "      <th></th>\n",
       "      <th>Postalcode</th>\n",
       "      <th>Borough</th>\n",
       "      <th>Neighborhood</th>\n",
       "    </tr>\n",
       "  </thead>\n",
       "  <tbody>\n",
       "    <tr>\n",
       "      <th>0</th>\n",
       "      <td>M3A</td>\n",
       "      <td>North York</td>\n",
       "      <td>Parkwoods</td>\n",
       "    </tr>\n",
       "    <tr>\n",
       "      <th>1</th>\n",
       "      <td>M4A</td>\n",
       "      <td>North York</td>\n",
       "      <td>Victoria Village</td>\n",
       "    </tr>\n",
       "    <tr>\n",
       "      <th>2</th>\n",
       "      <td>M5A</td>\n",
       "      <td>Downtown Toronto</td>\n",
       "      <td>Harbourfront</td>\n",
       "    </tr>\n",
       "    <tr>\n",
       "      <th>3</th>\n",
       "      <td>M5A</td>\n",
       "      <td>Downtown Toronto</td>\n",
       "      <td>Regent Park</td>\n",
       "    </tr>\n",
       "    <tr>\n",
       "      <th>4</th>\n",
       "      <td>M6A</td>\n",
       "      <td>North York</td>\n",
       "      <td>Lawrence Heights</td>\n",
       "    </tr>\n",
       "    <tr>\n",
       "      <th>5</th>\n",
       "      <td>M6A</td>\n",
       "      <td>North York</td>\n",
       "      <td>Lawrence Manor</td>\n",
       "    </tr>\n",
       "    <tr>\n",
       "      <th>6</th>\n",
       "      <td>M7A</td>\n",
       "      <td>Queen's Park</td>\n",
       "      <td>Not assigned</td>\n",
       "    </tr>\n",
       "    <tr>\n",
       "      <th>7</th>\n",
       "      <td>M9A</td>\n",
       "      <td>Etobicoke</td>\n",
       "      <td>Islington Avenue</td>\n",
       "    </tr>\n",
       "    <tr>\n",
       "      <th>8</th>\n",
       "      <td>M1B</td>\n",
       "      <td>Scarborough</td>\n",
       "      <td>Rouge</td>\n",
       "    </tr>\n",
       "    <tr>\n",
       "      <th>9</th>\n",
       "      <td>M1B</td>\n",
       "      <td>Scarborough</td>\n",
       "      <td>Malvern</td>\n",
       "    </tr>\n",
       "    <tr>\n",
       "      <th>10</th>\n",
       "      <td>M3B</td>\n",
       "      <td>North York</td>\n",
       "      <td>Don Mills North</td>\n",
       "    </tr>\n",
       "    <tr>\n",
       "      <th>11</th>\n",
       "      <td>M4B</td>\n",
       "      <td>East York</td>\n",
       "      <td>Woodbine Gardens</td>\n",
       "    </tr>\n",
       "  </tbody>\n",
       "</table>\n",
       "</div>"
      ],
      "text/plain": [
       "   Postalcode           Borough      Neighborhood\n",
       "0         M3A        North York         Parkwoods\n",
       "1         M4A        North York  Victoria Village\n",
       "2         M5A  Downtown Toronto      Harbourfront\n",
       "3         M5A  Downtown Toronto       Regent Park\n",
       "4         M6A        North York  Lawrence Heights\n",
       "5         M6A        North York    Lawrence Manor\n",
       "6         M7A      Queen's Park      Not assigned\n",
       "7         M9A         Etobicoke  Islington Avenue\n",
       "8         M1B       Scarborough             Rouge\n",
       "9         M1B       Scarborough           Malvern\n",
       "10        M3B        North York   Don Mills North\n",
       "11        M4B         East York  Woodbine Gardens"
      ]
     },
     "execution_count": 11,
     "metadata": {},
     "output_type": "execute_result"
    }
   ],
   "source": [
    "toronto.head(12)"
   ]
  },
  {
   "cell_type": "markdown",
   "metadata": {},
   "source": [
    "If a cell has a borough but a **Not assigned neighborhood**, then the neighborhood will be the same as the borough. So for the 9th cell in the table on the Wikipedia page, the value of the Borough and the Neighborhood columns will be **Queen's Park**."
   ]
  },
  {
   "cell_type": "code",
   "execution_count": 12,
   "metadata": {
    "ExecuteTime": {
     "end_time": "2019-08-31T17:00:48.152224Z",
     "start_time": "2019-08-31T17:00:48.122305Z"
    }
   },
   "outputs": [],
   "source": [
    "i = 0\n",
    "for i in range(0, toronto.shape[0]):\n",
    "    if toronto.iloc[i][2] == 'Not assigned':\n",
    "        \n",
    "        toronto.iloc[i][2] = toronto.iloc[i][1]\n",
    "        i = i+1"
   ]
  },
  {
   "cell_type": "code",
   "execution_count": 13,
   "metadata": {
    "ExecuteTime": {
     "end_time": "2019-08-31T17:00:48.164193Z",
     "start_time": "2019-08-31T17:00:48.154219Z"
    }
   },
   "outputs": [
    {
     "data": {
      "text/html": [
       "<div>\n",
       "<style scoped>\n",
       "    .dataframe tbody tr th:only-of-type {\n",
       "        vertical-align: middle;\n",
       "    }\n",
       "\n",
       "    .dataframe tbody tr th {\n",
       "        vertical-align: top;\n",
       "    }\n",
       "\n",
       "    .dataframe thead th {\n",
       "        text-align: right;\n",
       "    }\n",
       "</style>\n",
       "<table border=\"1\" class=\"dataframe\">\n",
       "  <thead>\n",
       "    <tr style=\"text-align: right;\">\n",
       "      <th></th>\n",
       "      <th>Postalcode</th>\n",
       "      <th>Borough</th>\n",
       "      <th>Neighborhood</th>\n",
       "    </tr>\n",
       "  </thead>\n",
       "  <tbody>\n",
       "    <tr>\n",
       "      <th>0</th>\n",
       "      <td>M3A</td>\n",
       "      <td>North York</td>\n",
       "      <td>Parkwoods</td>\n",
       "    </tr>\n",
       "    <tr>\n",
       "      <th>1</th>\n",
       "      <td>M4A</td>\n",
       "      <td>North York</td>\n",
       "      <td>Victoria Village</td>\n",
       "    </tr>\n",
       "    <tr>\n",
       "      <th>2</th>\n",
       "      <td>M5A</td>\n",
       "      <td>Downtown Toronto</td>\n",
       "      <td>Harbourfront</td>\n",
       "    </tr>\n",
       "    <tr>\n",
       "      <th>3</th>\n",
       "      <td>M5A</td>\n",
       "      <td>Downtown Toronto</td>\n",
       "      <td>Regent Park</td>\n",
       "    </tr>\n",
       "    <tr>\n",
       "      <th>4</th>\n",
       "      <td>M6A</td>\n",
       "      <td>North York</td>\n",
       "      <td>Lawrence Heights</td>\n",
       "    </tr>\n",
       "    <tr>\n",
       "      <th>5</th>\n",
       "      <td>M6A</td>\n",
       "      <td>North York</td>\n",
       "      <td>Lawrence Manor</td>\n",
       "    </tr>\n",
       "    <tr>\n",
       "      <th>6</th>\n",
       "      <td>M7A</td>\n",
       "      <td>Queen's Park</td>\n",
       "      <td>Queen's Park</td>\n",
       "    </tr>\n",
       "    <tr>\n",
       "      <th>7</th>\n",
       "      <td>M9A</td>\n",
       "      <td>Etobicoke</td>\n",
       "      <td>Islington Avenue</td>\n",
       "    </tr>\n",
       "    <tr>\n",
       "      <th>8</th>\n",
       "      <td>M1B</td>\n",
       "      <td>Scarborough</td>\n",
       "      <td>Rouge</td>\n",
       "    </tr>\n",
       "    <tr>\n",
       "      <th>9</th>\n",
       "      <td>M1B</td>\n",
       "      <td>Scarborough</td>\n",
       "      <td>Malvern</td>\n",
       "    </tr>\n",
       "    <tr>\n",
       "      <th>10</th>\n",
       "      <td>M3B</td>\n",
       "      <td>North York</td>\n",
       "      <td>Don Mills North</td>\n",
       "    </tr>\n",
       "    <tr>\n",
       "      <th>11</th>\n",
       "      <td>M4B</td>\n",
       "      <td>East York</td>\n",
       "      <td>Woodbine Gardens</td>\n",
       "    </tr>\n",
       "  </tbody>\n",
       "</table>\n",
       "</div>"
      ],
      "text/plain": [
       "   Postalcode           Borough      Neighborhood\n",
       "0         M3A        North York         Parkwoods\n",
       "1         M4A        North York  Victoria Village\n",
       "2         M5A  Downtown Toronto      Harbourfront\n",
       "3         M5A  Downtown Toronto       Regent Park\n",
       "4         M6A        North York  Lawrence Heights\n",
       "5         M6A        North York    Lawrence Manor\n",
       "6         M7A      Queen's Park      Queen's Park\n",
       "7         M9A         Etobicoke  Islington Avenue\n",
       "8         M1B       Scarborough             Rouge\n",
       "9         M1B       Scarborough           Malvern\n",
       "10        M3B        North York   Don Mills North\n",
       "11        M4B         East York  Woodbine Gardens"
      ]
     },
     "execution_count": 13,
     "metadata": {},
     "output_type": "execute_result"
    }
   ],
   "source": [
    "toronto.head(12)"
   ]
  },
  {
   "cell_type": "code",
   "execution_count": null,
   "metadata": {},
   "outputs": [],
   "source": []
  },
  {
   "cell_type": "markdown",
   "metadata": {},
   "source": [
    "More than one neighborhood can exist in one postal code area. For example, in the table on the Wikipedia page, you will notice that **M5A** is listed twice and has two neighborhoods: **Harbourfront** and **Regent Park**. "
   ]
  },
  {
   "cell_type": "code",
   "execution_count": 14,
   "metadata": {
    "ExecuteTime": {
     "end_time": "2019-08-31T17:00:48.187130Z",
     "start_time": "2019-08-31T17:00:48.166188Z"
    }
   },
   "outputs": [],
   "source": [
    "toronto = toronto.groupby(['Postalcode','Borough'])['Neighborhood'].apply(', '.join).reset_index()"
   ]
  },
  {
   "cell_type": "markdown",
   "metadata": {},
   "source": [
    "Using the **.shape** method to print the number of rows of your dataframe."
   ]
  },
  {
   "cell_type": "code",
   "execution_count": 15,
   "metadata": {
    "ExecuteTime": {
     "end_time": "2019-08-31T17:00:48.193114Z",
     "start_time": "2019-08-31T17:00:48.188127Z"
    }
   },
   "outputs": [
    {
     "data": {
      "text/plain": [
       "(103, 3)"
      ]
     },
     "execution_count": 15,
     "metadata": {},
     "output_type": "execute_result"
    }
   ],
   "source": [
    "toronto.shape"
   ]
  },
  {
   "cell_type": "markdown",
   "metadata": {},
   "source": [
    "# Results of Task #1"
   ]
  },
  {
   "cell_type": "code",
   "execution_count": 16,
   "metadata": {
    "ExecuteTime": {
     "end_time": "2019-08-31T17:00:48.210067Z",
     "start_time": "2019-08-31T17:00:48.195109Z"
    }
   },
   "outputs": [
    {
     "data": {
      "text/html": [
       "<div>\n",
       "<style scoped>\n",
       "    .dataframe tbody tr th:only-of-type {\n",
       "        vertical-align: middle;\n",
       "    }\n",
       "\n",
       "    .dataframe tbody tr th {\n",
       "        vertical-align: top;\n",
       "    }\n",
       "\n",
       "    .dataframe thead th {\n",
       "        text-align: right;\n",
       "    }\n",
       "</style>\n",
       "<table border=\"1\" class=\"dataframe\">\n",
       "  <thead>\n",
       "    <tr style=\"text-align: right;\">\n",
       "      <th></th>\n",
       "      <th>Postalcode</th>\n",
       "      <th>Borough</th>\n",
       "      <th>Neighborhood</th>\n",
       "    </tr>\n",
       "  </thead>\n",
       "  <tbody>\n",
       "    <tr>\n",
       "      <th>0</th>\n",
       "      <td>M1B</td>\n",
       "      <td>Scarborough</td>\n",
       "      <td>Rouge, Malvern</td>\n",
       "    </tr>\n",
       "    <tr>\n",
       "      <th>1</th>\n",
       "      <td>M1C</td>\n",
       "      <td>Scarborough</td>\n",
       "      <td>Highland Creek, Rouge Hill, Port Union</td>\n",
       "    </tr>\n",
       "    <tr>\n",
       "      <th>2</th>\n",
       "      <td>M1E</td>\n",
       "      <td>Scarborough</td>\n",
       "      <td>Guildwood, Morningside, West Hill</td>\n",
       "    </tr>\n",
       "    <tr>\n",
       "      <th>3</th>\n",
       "      <td>M1G</td>\n",
       "      <td>Scarborough</td>\n",
       "      <td>Woburn</td>\n",
       "    </tr>\n",
       "    <tr>\n",
       "      <th>4</th>\n",
       "      <td>M1H</td>\n",
       "      <td>Scarborough</td>\n",
       "      <td>Cedarbrae</td>\n",
       "    </tr>\n",
       "    <tr>\n",
       "      <th>5</th>\n",
       "      <td>M1J</td>\n",
       "      <td>Scarborough</td>\n",
       "      <td>Scarborough Village</td>\n",
       "    </tr>\n",
       "    <tr>\n",
       "      <th>6</th>\n",
       "      <td>M1K</td>\n",
       "      <td>Scarborough</td>\n",
       "      <td>East Birchmount Park, Ionview, Kennedy Park</td>\n",
       "    </tr>\n",
       "    <tr>\n",
       "      <th>7</th>\n",
       "      <td>M1L</td>\n",
       "      <td>Scarborough</td>\n",
       "      <td>Clairlea, Golden Mile, Oakridge</td>\n",
       "    </tr>\n",
       "    <tr>\n",
       "      <th>8</th>\n",
       "      <td>M1M</td>\n",
       "      <td>Scarborough</td>\n",
       "      <td>Cliffcrest, Cliffside, Scarborough Village West</td>\n",
       "    </tr>\n",
       "    <tr>\n",
       "      <th>9</th>\n",
       "      <td>M1N</td>\n",
       "      <td>Scarborough</td>\n",
       "      <td>Birch Cliff, Cliffside West</td>\n",
       "    </tr>\n",
       "    <tr>\n",
       "      <th>10</th>\n",
       "      <td>M1P</td>\n",
       "      <td>Scarborough</td>\n",
       "      <td>Dorset Park, Scarborough Town Centre, Wexford ...</td>\n",
       "    </tr>\n",
       "    <tr>\n",
       "      <th>11</th>\n",
       "      <td>M1R</td>\n",
       "      <td>Scarborough</td>\n",
       "      <td>Maryvale, Wexford</td>\n",
       "    </tr>\n",
       "  </tbody>\n",
       "</table>\n",
       "</div>"
      ],
      "text/plain": [
       "   Postalcode      Borough                                       Neighborhood\n",
       "0         M1B  Scarborough                                     Rouge, Malvern\n",
       "1         M1C  Scarborough             Highland Creek, Rouge Hill, Port Union\n",
       "2         M1E  Scarborough                  Guildwood, Morningside, West Hill\n",
       "3         M1G  Scarborough                                             Woburn\n",
       "4         M1H  Scarborough                                          Cedarbrae\n",
       "5         M1J  Scarborough                                Scarborough Village\n",
       "6         M1K  Scarborough        East Birchmount Park, Ionview, Kennedy Park\n",
       "7         M1L  Scarborough                    Clairlea, Golden Mile, Oakridge\n",
       "8         M1M  Scarborough    Cliffcrest, Cliffside, Scarborough Village West\n",
       "9         M1N  Scarborough                        Birch Cliff, Cliffside West\n",
       "10        M1P  Scarborough  Dorset Park, Scarborough Town Centre, Wexford ...\n",
       "11        M1R  Scarborough                                  Maryvale, Wexford"
      ]
     },
     "execution_count": 16,
     "metadata": {},
     "output_type": "execute_result"
    }
   ],
   "source": [
    "toronto.head(12)"
   ]
  },
  {
   "cell_type": "markdown",
   "metadata": {},
   "source": [
    "Or,"
   ]
  },
  {
   "cell_type": "code",
   "execution_count": 17,
   "metadata": {
    "ExecuteTime": {
     "end_time": "2019-08-31T17:00:48.222036Z",
     "start_time": "2019-08-31T17:00:48.211065Z"
    }
   },
   "outputs": [
    {
     "data": {
      "text/html": [
       "<div>\n",
       "<style scoped>\n",
       "    .dataframe tbody tr th:only-of-type {\n",
       "        vertical-align: middle;\n",
       "    }\n",
       "\n",
       "    .dataframe tbody tr th {\n",
       "        vertical-align: top;\n",
       "    }\n",
       "\n",
       "    .dataframe thead th {\n",
       "        text-align: right;\n",
       "    }\n",
       "</style>\n",
       "<table border=\"1\" class=\"dataframe\">\n",
       "  <thead>\n",
       "    <tr style=\"text-align: right;\">\n",
       "      <th></th>\n",
       "      <th>Postalcode</th>\n",
       "      <th>Borough</th>\n",
       "      <th>Neighborhood</th>\n",
       "    </tr>\n",
       "  </thead>\n",
       "  <tbody>\n",
       "    <tr>\n",
       "      <th>11</th>\n",
       "      <td>M1R</td>\n",
       "      <td>Scarborough</td>\n",
       "      <td>Maryvale, Wexford</td>\n",
       "    </tr>\n",
       "    <tr>\n",
       "      <th>85</th>\n",
       "      <td>M7A</td>\n",
       "      <td>Queen's Park</td>\n",
       "      <td>Queen's Park</td>\n",
       "    </tr>\n",
       "    <tr>\n",
       "      <th>89</th>\n",
       "      <td>M8W</td>\n",
       "      <td>Etobicoke</td>\n",
       "      <td>Alderwood, Long Branch</td>\n",
       "    </tr>\n",
       "    <tr>\n",
       "      <th>29</th>\n",
       "      <td>M3J</td>\n",
       "      <td>North York</td>\n",
       "      <td>Northwood Park, York University</td>\n",
       "    </tr>\n",
       "    <tr>\n",
       "      <th>92</th>\n",
       "      <td>M8Z</td>\n",
       "      <td>Etobicoke</td>\n",
       "      <td>Kingsway Park South West, Mimico NW, The Queen...</td>\n",
       "    </tr>\n",
       "    <tr>\n",
       "      <th>21</th>\n",
       "      <td>M2M</td>\n",
       "      <td>North York</td>\n",
       "      <td>Newtonbrook, Willowdale</td>\n",
       "    </tr>\n",
       "    <tr>\n",
       "      <th>83</th>\n",
       "      <td>M6R</td>\n",
       "      <td>West Toronto</td>\n",
       "      <td>Parkdale, Roncesvalles</td>\n",
       "    </tr>\n",
       "    <tr>\n",
       "      <th>41</th>\n",
       "      <td>M4K</td>\n",
       "      <td>East Toronto</td>\n",
       "      <td>The Danforth West, Riverdale</td>\n",
       "    </tr>\n",
       "    <tr>\n",
       "      <th>32</th>\n",
       "      <td>M3M</td>\n",
       "      <td>North York</td>\n",
       "      <td>Downsview Central</td>\n",
       "    </tr>\n",
       "    <tr>\n",
       "      <th>45</th>\n",
       "      <td>M4P</td>\n",
       "      <td>Central Toronto</td>\n",
       "      <td>Davisville North</td>\n",
       "    </tr>\n",
       "    <tr>\n",
       "      <th>0</th>\n",
       "      <td>M1B</td>\n",
       "      <td>Scarborough</td>\n",
       "      <td>Rouge, Malvern</td>\n",
       "    </tr>\n",
       "    <tr>\n",
       "      <th>97</th>\n",
       "      <td>M9M</td>\n",
       "      <td>North York</td>\n",
       "      <td>Emery, Humberlea</td>\n",
       "    </tr>\n",
       "  </tbody>\n",
       "</table>\n",
       "</div>"
      ],
      "text/plain": [
       "   Postalcode          Borough  \\\n",
       "11        M1R      Scarborough   \n",
       "85        M7A     Queen's Park   \n",
       "89        M8W        Etobicoke   \n",
       "29        M3J       North York   \n",
       "92        M8Z        Etobicoke   \n",
       "21        M2M       North York   \n",
       "83        M6R     West Toronto   \n",
       "41        M4K     East Toronto   \n",
       "32        M3M       North York   \n",
       "45        M4P  Central Toronto   \n",
       "0         M1B      Scarborough   \n",
       "97        M9M       North York   \n",
       "\n",
       "                                         Neighborhood  \n",
       "11                                  Maryvale, Wexford  \n",
       "85                                       Queen's Park  \n",
       "89                             Alderwood, Long Branch  \n",
       "29                    Northwood Park, York University  \n",
       "92  Kingsway Park South West, Mimico NW, The Queen...  \n",
       "21                            Newtonbrook, Willowdale  \n",
       "83                             Parkdale, Roncesvalles  \n",
       "41                       The Danforth West, Riverdale  \n",
       "32                                  Downsview Central  \n",
       "45                                   Davisville North  \n",
       "0                                      Rouge, Malvern  \n",
       "97                                   Emery, Humberlea  "
      ]
     },
     "execution_count": 17,
     "metadata": {},
     "output_type": "execute_result"
    }
   ],
   "source": [
    "toronto.sample(12)"
   ]
  },
  {
   "cell_type": "markdown",
   "metadata": {},
   "source": [
    "# TASK #2"
   ]
  },
  {
   "cell_type": "markdown",
   "metadata": {},
   "source": [
    "Given that this package can be very unreliable, in case you are not able to get the geographical coordinates of the neighborhoods using the Geocoder package, here is a link to a csv file that has the geographical coordinates of each postal code: http://cocl.us/Geospatial_data"
   ]
  },
  {
   "cell_type": "code",
   "execution_count": 18,
   "metadata": {
    "ExecuteTime": {
     "end_time": "2019-08-31T17:00:52.727709Z",
     "start_time": "2019-08-31T17:00:48.224031Z"
    }
   },
   "outputs": [],
   "source": [
    "postal_code = pd.read_csv('https://cocl.us/Geospatial_data')"
   ]
  },
  {
   "cell_type": "code",
   "execution_count": 19,
   "metadata": {
    "ExecuteTime": {
     "end_time": "2019-08-31T17:00:52.733041Z",
     "start_time": "2019-08-31T17:00:52.729089Z"
    }
   },
   "outputs": [],
   "source": [
    "postal_code.rename(columns={'Postal Code': 'Postalcode'}, inplace=True)"
   ]
  },
  {
   "cell_type": "code",
   "execution_count": 20,
   "metadata": {
    "ExecuteTime": {
     "end_time": "2019-08-31T17:00:52.747003Z",
     "start_time": "2019-08-31T17:00:52.735036Z"
    }
   },
   "outputs": [
    {
     "data": {
      "text/html": [
       "<div>\n",
       "<style scoped>\n",
       "    .dataframe tbody tr th:only-of-type {\n",
       "        vertical-align: middle;\n",
       "    }\n",
       "\n",
       "    .dataframe tbody tr th {\n",
       "        vertical-align: top;\n",
       "    }\n",
       "\n",
       "    .dataframe thead th {\n",
       "        text-align: right;\n",
       "    }\n",
       "</style>\n",
       "<table border=\"1\" class=\"dataframe\">\n",
       "  <thead>\n",
       "    <tr style=\"text-align: right;\">\n",
       "      <th></th>\n",
       "      <th>Postalcode</th>\n",
       "      <th>Latitude</th>\n",
       "      <th>Longitude</th>\n",
       "    </tr>\n",
       "  </thead>\n",
       "  <tbody>\n",
       "    <tr>\n",
       "      <th>69</th>\n",
       "      <td>M5W</td>\n",
       "      <td>43.646435</td>\n",
       "      <td>-79.374846</td>\n",
       "    </tr>\n",
       "    <tr>\n",
       "      <th>25</th>\n",
       "      <td>M3A</td>\n",
       "      <td>43.753259</td>\n",
       "      <td>-79.329656</td>\n",
       "    </tr>\n",
       "    <tr>\n",
       "      <th>83</th>\n",
       "      <td>M6R</td>\n",
       "      <td>43.648960</td>\n",
       "      <td>-79.456325</td>\n",
       "    </tr>\n",
       "    <tr>\n",
       "      <th>40</th>\n",
       "      <td>M4J</td>\n",
       "      <td>43.685347</td>\n",
       "      <td>-79.338106</td>\n",
       "    </tr>\n",
       "    <tr>\n",
       "      <th>41</th>\n",
       "      <td>M4K</td>\n",
       "      <td>43.679557</td>\n",
       "      <td>-79.352188</td>\n",
       "    </tr>\n",
       "    <tr>\n",
       "      <th>64</th>\n",
       "      <td>M5P</td>\n",
       "      <td>43.696948</td>\n",
       "      <td>-79.411307</td>\n",
       "    </tr>\n",
       "    <tr>\n",
       "      <th>26</th>\n",
       "      <td>M3B</td>\n",
       "      <td>43.745906</td>\n",
       "      <td>-79.352188</td>\n",
       "    </tr>\n",
       "    <tr>\n",
       "      <th>98</th>\n",
       "      <td>M9N</td>\n",
       "      <td>43.706876</td>\n",
       "      <td>-79.518188</td>\n",
       "    </tr>\n",
       "    <tr>\n",
       "      <th>35</th>\n",
       "      <td>M4B</td>\n",
       "      <td>43.706397</td>\n",
       "      <td>-79.309937</td>\n",
       "    </tr>\n",
       "    <tr>\n",
       "      <th>50</th>\n",
       "      <td>M4W</td>\n",
       "      <td>43.679563</td>\n",
       "      <td>-79.377529</td>\n",
       "    </tr>\n",
       "  </tbody>\n",
       "</table>\n",
       "</div>"
      ],
      "text/plain": [
       "   Postalcode   Latitude  Longitude\n",
       "69        M5W  43.646435 -79.374846\n",
       "25        M3A  43.753259 -79.329656\n",
       "83        M6R  43.648960 -79.456325\n",
       "40        M4J  43.685347 -79.338106\n",
       "41        M4K  43.679557 -79.352188\n",
       "64        M5P  43.696948 -79.411307\n",
       "26        M3B  43.745906 -79.352188\n",
       "98        M9N  43.706876 -79.518188\n",
       "35        M4B  43.706397 -79.309937\n",
       "50        M4W  43.679563 -79.377529"
      ]
     },
     "execution_count": 20,
     "metadata": {},
     "output_type": "execute_result"
    }
   ],
   "source": [
    "postal_code.sample(10)"
   ]
  },
  {
   "cell_type": "markdown",
   "metadata": {},
   "source": [
    "Use the Geocoder package or the csv file to create the following dataframe:"
   ]
  },
  {
   "cell_type": "code",
   "execution_count": 21,
   "metadata": {
    "ExecuteTime": {
     "end_time": "2019-08-31T17:00:52.756978Z",
     "start_time": "2019-08-31T17:00:52.748001Z"
    }
   },
   "outputs": [],
   "source": [
    "dataframe = pd.merge(toronto, postal_code, on='Postalcode', how='inner')"
   ]
  },
  {
   "cell_type": "code",
   "execution_count": 22,
   "metadata": {
    "ExecuteTime": {
     "end_time": "2019-08-31T17:00:52.774930Z",
     "start_time": "2019-08-31T17:00:52.760970Z"
    }
   },
   "outputs": [
    {
     "data": {
      "text/html": [
       "<div>\n",
       "<style scoped>\n",
       "    .dataframe tbody tr th:only-of-type {\n",
       "        vertical-align: middle;\n",
       "    }\n",
       "\n",
       "    .dataframe tbody tr th {\n",
       "        vertical-align: top;\n",
       "    }\n",
       "\n",
       "    .dataframe thead th {\n",
       "        text-align: right;\n",
       "    }\n",
       "</style>\n",
       "<table border=\"1\" class=\"dataframe\">\n",
       "  <thead>\n",
       "    <tr style=\"text-align: right;\">\n",
       "      <th></th>\n",
       "      <th>Postalcode</th>\n",
       "      <th>Borough</th>\n",
       "      <th>Neighborhood</th>\n",
       "      <th>Latitude</th>\n",
       "      <th>Longitude</th>\n",
       "    </tr>\n",
       "  </thead>\n",
       "  <tbody>\n",
       "    <tr>\n",
       "      <th>91</th>\n",
       "      <td>M8Y</td>\n",
       "      <td>Etobicoke</td>\n",
       "      <td>Humber Bay, King's Mill Park, Kingsway Park So...</td>\n",
       "      <td>43.636258</td>\n",
       "      <td>-79.498509</td>\n",
       "    </tr>\n",
       "    <tr>\n",
       "      <th>99</th>\n",
       "      <td>M9P</td>\n",
       "      <td>Etobicoke</td>\n",
       "      <td>Westmount</td>\n",
       "      <td>43.696319</td>\n",
       "      <td>-79.532242</td>\n",
       "    </tr>\n",
       "    <tr>\n",
       "      <th>3</th>\n",
       "      <td>M1G</td>\n",
       "      <td>Scarborough</td>\n",
       "      <td>Woburn</td>\n",
       "      <td>43.770992</td>\n",
       "      <td>-79.216917</td>\n",
       "    </tr>\n",
       "    <tr>\n",
       "      <th>92</th>\n",
       "      <td>M8Z</td>\n",
       "      <td>Etobicoke</td>\n",
       "      <td>Kingsway Park South West, Mimico NW, The Queen...</td>\n",
       "      <td>43.628841</td>\n",
       "      <td>-79.520999</td>\n",
       "    </tr>\n",
       "    <tr>\n",
       "      <th>66</th>\n",
       "      <td>M5S</td>\n",
       "      <td>Downtown Toronto</td>\n",
       "      <td>Harbord, University of Toronto</td>\n",
       "      <td>43.662696</td>\n",
       "      <td>-79.400049</td>\n",
       "    </tr>\n",
       "    <tr>\n",
       "      <th>6</th>\n",
       "      <td>M1K</td>\n",
       "      <td>Scarborough</td>\n",
       "      <td>East Birchmount Park, Ionview, Kennedy Park</td>\n",
       "      <td>43.727929</td>\n",
       "      <td>-79.262029</td>\n",
       "    </tr>\n",
       "    <tr>\n",
       "      <th>32</th>\n",
       "      <td>M3M</td>\n",
       "      <td>North York</td>\n",
       "      <td>Downsview Central</td>\n",
       "      <td>43.728496</td>\n",
       "      <td>-79.495697</td>\n",
       "    </tr>\n",
       "    <tr>\n",
       "      <th>16</th>\n",
       "      <td>M1X</td>\n",
       "      <td>Scarborough</td>\n",
       "      <td>Upper Rouge</td>\n",
       "      <td>43.836125</td>\n",
       "      <td>-79.205636</td>\n",
       "    </tr>\n",
       "    <tr>\n",
       "      <th>58</th>\n",
       "      <td>M5H</td>\n",
       "      <td>Downtown Toronto</td>\n",
       "      <td>Adelaide, King, Richmond</td>\n",
       "      <td>43.650571</td>\n",
       "      <td>-79.384568</td>\n",
       "    </tr>\n",
       "    <tr>\n",
       "      <th>100</th>\n",
       "      <td>M9R</td>\n",
       "      <td>Etobicoke</td>\n",
       "      <td>Kingsview Village, Martin Grove Gardens, Richv...</td>\n",
       "      <td>43.688905</td>\n",
       "      <td>-79.554724</td>\n",
       "    </tr>\n",
       "    <tr>\n",
       "      <th>2</th>\n",
       "      <td>M1E</td>\n",
       "      <td>Scarborough</td>\n",
       "      <td>Guildwood, Morningside, West Hill</td>\n",
       "      <td>43.763573</td>\n",
       "      <td>-79.188711</td>\n",
       "    </tr>\n",
       "    <tr>\n",
       "      <th>85</th>\n",
       "      <td>M7A</td>\n",
       "      <td>Queen's Park</td>\n",
       "      <td>Queen's Park</td>\n",
       "      <td>43.662301</td>\n",
       "      <td>-79.389494</td>\n",
       "    </tr>\n",
       "    <tr>\n",
       "      <th>33</th>\n",
       "      <td>M3N</td>\n",
       "      <td>North York</td>\n",
       "      <td>Downsview Northwest</td>\n",
       "      <td>43.761631</td>\n",
       "      <td>-79.520999</td>\n",
       "    </tr>\n",
       "    <tr>\n",
       "      <th>64</th>\n",
       "      <td>M5P</td>\n",
       "      <td>Central Toronto</td>\n",
       "      <td>Forest Hill North, Forest Hill West</td>\n",
       "      <td>43.696948</td>\n",
       "      <td>-79.411307</td>\n",
       "    </tr>\n",
       "    <tr>\n",
       "      <th>102</th>\n",
       "      <td>M9W</td>\n",
       "      <td>Etobicoke</td>\n",
       "      <td>Northwest</td>\n",
       "      <td>43.706748</td>\n",
       "      <td>-79.594054</td>\n",
       "    </tr>\n",
       "  </tbody>\n",
       "</table>\n",
       "</div>"
      ],
      "text/plain": [
       "    Postalcode           Borough  \\\n",
       "91         M8Y         Etobicoke   \n",
       "99         M9P         Etobicoke   \n",
       "3          M1G       Scarborough   \n",
       "92         M8Z         Etobicoke   \n",
       "66         M5S  Downtown Toronto   \n",
       "6          M1K       Scarborough   \n",
       "32         M3M        North York   \n",
       "16         M1X       Scarborough   \n",
       "58         M5H  Downtown Toronto   \n",
       "100        M9R         Etobicoke   \n",
       "2          M1E       Scarborough   \n",
       "85         M7A      Queen's Park   \n",
       "33         M3N        North York   \n",
       "64         M5P   Central Toronto   \n",
       "102        M9W         Etobicoke   \n",
       "\n",
       "                                          Neighborhood   Latitude  Longitude  \n",
       "91   Humber Bay, King's Mill Park, Kingsway Park So...  43.636258 -79.498509  \n",
       "99                                           Westmount  43.696319 -79.532242  \n",
       "3                                               Woburn  43.770992 -79.216917  \n",
       "92   Kingsway Park South West, Mimico NW, The Queen...  43.628841 -79.520999  \n",
       "66                      Harbord, University of Toronto  43.662696 -79.400049  \n",
       "6          East Birchmount Park, Ionview, Kennedy Park  43.727929 -79.262029  \n",
       "32                                   Downsview Central  43.728496 -79.495697  \n",
       "16                                         Upper Rouge  43.836125 -79.205636  \n",
       "58                            Adelaide, King, Richmond  43.650571 -79.384568  \n",
       "100  Kingsview Village, Martin Grove Gardens, Richv...  43.688905 -79.554724  \n",
       "2                    Guildwood, Morningside, West Hill  43.763573 -79.188711  \n",
       "85                                        Queen's Park  43.662301 -79.389494  \n",
       "33                                 Downsview Northwest  43.761631 -79.520999  \n",
       "64                 Forest Hill North, Forest Hill West  43.696948 -79.411307  \n",
       "102                                          Northwest  43.706748 -79.594054  "
      ]
     },
     "execution_count": 22,
     "metadata": {},
     "output_type": "execute_result"
    }
   ],
   "source": [
    "dataframe.sample(15)"
   ]
  },
  {
   "cell_type": "markdown",
   "metadata": {},
   "source": [
    "# TASK #3: Explore and cluster the neighborhoods in Toronto"
   ]
  },
  {
   "cell_type": "code",
   "execution_count": 23,
   "metadata": {
    "ExecuteTime": {
     "end_time": "2019-08-31T17:00:53.606093Z",
     "start_time": "2019-08-31T17:00:52.777923Z"
    }
   },
   "outputs": [
    {
     "name": "stdout",
     "output_type": "stream",
     "text": [
      "Libraries imported.\n"
     ]
    }
   ],
   "source": [
    "try:\n",
    "    from geopy.geocoders import Nominatim # convert an address into latitude and longitude values\n",
    "\n",
    "    import matplotlib.cm as cm\n",
    "    import matplotlib.colors as colors\n",
    "\n",
    "    # import k-means from clustering stage\n",
    "    from sklearn.cluster import KMeans\n",
    "\n",
    "    #!conda install -c conda-forge folium=0.5.0 --yes # uncomment this line if you haven't completed the Foursquare API lab\n",
    "    import folium # map rendering library\n",
    "\n",
    "    print('Libraries imported.')\n",
    "except Exception as EX:\n",
    "    print(EX)"
   ]
  },
  {
   "cell_type": "code",
   "execution_count": 24,
   "metadata": {
    "ExecuteTime": {
     "end_time": "2019-08-31T17:00:53.615103Z",
     "start_time": "2019-08-31T17:00:53.610091Z"
    }
   },
   "outputs": [],
   "source": [
    "neighborhoods = dataframe[['Borough', 'Neighborhood', 'Latitude', 'Longitude']]"
   ]
  },
  {
   "cell_type": "code",
   "execution_count": 25,
   "metadata": {
    "ExecuteTime": {
     "end_time": "2019-08-31T17:00:53.630065Z",
     "start_time": "2019-08-31T17:00:53.617061Z"
    }
   },
   "outputs": [
    {
     "data": {
      "text/html": [
       "<div>\n",
       "<style scoped>\n",
       "    .dataframe tbody tr th:only-of-type {\n",
       "        vertical-align: middle;\n",
       "    }\n",
       "\n",
       "    .dataframe tbody tr th {\n",
       "        vertical-align: top;\n",
       "    }\n",
       "\n",
       "    .dataframe thead th {\n",
       "        text-align: right;\n",
       "    }\n",
       "</style>\n",
       "<table border=\"1\" class=\"dataframe\">\n",
       "  <thead>\n",
       "    <tr style=\"text-align: right;\">\n",
       "      <th></th>\n",
       "      <th>Borough</th>\n",
       "      <th>Neighborhood</th>\n",
       "      <th>Latitude</th>\n",
       "      <th>Longitude</th>\n",
       "    </tr>\n",
       "  </thead>\n",
       "  <tbody>\n",
       "    <tr>\n",
       "      <th>0</th>\n",
       "      <td>Scarborough</td>\n",
       "      <td>Rouge, Malvern</td>\n",
       "      <td>43.806686</td>\n",
       "      <td>-79.194353</td>\n",
       "    </tr>\n",
       "    <tr>\n",
       "      <th>1</th>\n",
       "      <td>Scarborough</td>\n",
       "      <td>Highland Creek, Rouge Hill, Port Union</td>\n",
       "      <td>43.784535</td>\n",
       "      <td>-79.160497</td>\n",
       "    </tr>\n",
       "    <tr>\n",
       "      <th>2</th>\n",
       "      <td>Scarborough</td>\n",
       "      <td>Guildwood, Morningside, West Hill</td>\n",
       "      <td>43.763573</td>\n",
       "      <td>-79.188711</td>\n",
       "    </tr>\n",
       "    <tr>\n",
       "      <th>3</th>\n",
       "      <td>Scarborough</td>\n",
       "      <td>Woburn</td>\n",
       "      <td>43.770992</td>\n",
       "      <td>-79.216917</td>\n",
       "    </tr>\n",
       "    <tr>\n",
       "      <th>4</th>\n",
       "      <td>Scarborough</td>\n",
       "      <td>Cedarbrae</td>\n",
       "      <td>43.773136</td>\n",
       "      <td>-79.239476</td>\n",
       "    </tr>\n",
       "  </tbody>\n",
       "</table>\n",
       "</div>"
      ],
      "text/plain": [
       "       Borough                            Neighborhood   Latitude  Longitude\n",
       "0  Scarborough                          Rouge, Malvern  43.806686 -79.194353\n",
       "1  Scarborough  Highland Creek, Rouge Hill, Port Union  43.784535 -79.160497\n",
       "2  Scarborough       Guildwood, Morningside, West Hill  43.763573 -79.188711\n",
       "3  Scarborough                                  Woburn  43.770992 -79.216917\n",
       "4  Scarborough                               Cedarbrae  43.773136 -79.239476"
      ]
     },
     "execution_count": 25,
     "metadata": {},
     "output_type": "execute_result"
    }
   ],
   "source": [
    "neighborhoods.head()"
   ]
  },
  {
   "cell_type": "code",
   "execution_count": 26,
   "metadata": {
    "ExecuteTime": {
     "end_time": "2019-08-31T17:00:53.639003Z",
     "start_time": "2019-08-31T17:00:53.631028Z"
    }
   },
   "outputs": [
    {
     "name": "stdout",
     "output_type": "stream",
     "text": [
      "The dataframe has 11 boroughs and 103 neighborhoods.\n"
     ]
    }
   ],
   "source": [
    "print('The dataframe has {} boroughs and {} neighborhoods.'.format(\n",
    "        len(neighborhoods['Borough'].unique()),\n",
    "        neighborhoods.shape[0]\n",
    "    )\n",
    ")"
   ]
  },
  {
   "cell_type": "code",
   "execution_count": 27,
   "metadata": {
    "ExecuteTime": {
     "end_time": "2019-08-31T17:00:55.029890Z",
     "start_time": "2019-08-31T17:00:53.640999Z"
    }
   },
   "outputs": [
    {
     "name": "stdout",
     "output_type": "stream",
     "text": [
      "The geograpical coordinate of Toronto City are 43.653963, -79.387207.\n"
     ]
    }
   ],
   "source": [
    "address = 'Toronto'\n",
    "\n",
    "geolocator = Nominatim(user_agent=\"ny_explorer\")\n",
    "location = geolocator.geocode(address)\n",
    "latitude = location.latitude\n",
    "longitude = location.longitude\n",
    "print('The geograpical coordinate of Toronto City are {}, {}.'.format(latitude, longitude))"
   ]
  },
  {
   "cell_type": "code",
   "execution_count": 28,
   "metadata": {
    "ExecuteTime": {
     "end_time": "2019-08-31T17:00:55.191948Z",
     "start_time": "2019-08-31T17:00:55.035828Z"
    },
    "scrolled": true
   },
   "outputs": [
    {
     "data": {
      "text/html": [
       "<div style=\"width:100%;\"><div style=\"position:relative;width:100%;height:0;padding-bottom:60%;\"><iframe src=\"data:text/html;charset=utf-8;base64,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\" style=\"position:absolute;width:100%;height:100%;left:0;top:0;border:none !important;\" allowfullscreen webkitallowfullscreen mozallowfullscreen></iframe></div></div>"
      ],
      "text/plain": [
       "<folium.folium.Map at 0x1ef5883a908>"
      ]
     },
     "execution_count": 28,
     "metadata": {},
     "output_type": "execute_result"
    }
   ],
   "source": [
    "# create map of Toronto using latitude and longitude values\n",
    "map_toronto = folium.Map(location=[latitude, longitude], zoom_start=10)\n",
    "\n",
    "# add markers to map\n",
    "for lat, lng, borough, neighborhood in zip(neighborhoods['Latitude'], neighborhoods['Longitude'], neighborhoods['Borough'], neighborhoods['Neighborhood']):\n",
    "    label = '{}, {}'.format(neighborhood, borough)\n",
    "    label = folium.Popup(label, parse_html=True)\n",
    "    folium.CircleMarker(\n",
    "        [lat, lng],\n",
    "        radius=5,\n",
    "        popup=label,\n",
    "        color='blue',\n",
    "        fill=True,\n",
    "        fill_color='#3186cc',\n",
    "        fill_opacity=0.7,\n",
    "        parse_html=False).add_to(map_toronto)\n",
    "\n",
    "map_toronto"
   ]
  },
  {
   "cell_type": "code",
   "execution_count": null,
   "metadata": {
    "ExecuteTime": {
     "end_time": "2019-08-31T11:30:07.269935Z",
     "start_time": "2019-08-31T11:30:07.265934Z"
    }
   },
   "outputs": [],
   "source": []
  },
  {
   "cell_type": "code",
   "execution_count": 29,
   "metadata": {
    "ExecuteTime": {
     "end_time": "2019-08-31T17:00:55.304611Z",
     "start_time": "2019-08-31T17:00:55.192908Z"
    }
   },
   "outputs": [
    {
     "name": "stdout",
     "output_type": "stream",
     "text": [
      "38 boroughs that contain the word Toronto.\n"
     ]
    }
   ],
   "source": [
    "toronto_Borough = pd.DataFrame(columns=['Borough', 'Neighborhood', 'Latitude', 'Longitude'])\n",
    "j = 0\n",
    "for i in range(0, neighborhoods.shape[0]):\n",
    "    if 'Toronto' in neighborhoods.iloc[i][0]:\n",
    "        j = j + 1\n",
    "        toronto_Borough = pd.concat([toronto_Borough, pd.DataFrame(neighborhoods.iloc[i][:]).T], ignore_index=True)\n",
    "        #toronto_Borough.append(pd.DataFrame(neighborhoods.iloc[0][:]).T)\n",
    "    #else:\n",
    "        #neighborhoods['isToronto'] = 'NULL'\n",
    "print(j, 'boroughs that contain the word Toronto.')"
   ]
  },
  {
   "cell_type": "code",
   "execution_count": 30,
   "metadata": {
    "ExecuteTime": {
     "end_time": "2019-08-31T17:00:55.322562Z",
     "start_time": "2019-08-31T17:00:55.307602Z"
    }
   },
   "outputs": [
    {
     "data": {
      "text/html": [
       "<div>\n",
       "<style scoped>\n",
       "    .dataframe tbody tr th:only-of-type {\n",
       "        vertical-align: middle;\n",
       "    }\n",
       "\n",
       "    .dataframe tbody tr th {\n",
       "        vertical-align: top;\n",
       "    }\n",
       "\n",
       "    .dataframe thead th {\n",
       "        text-align: right;\n",
       "    }\n",
       "</style>\n",
       "<table border=\"1\" class=\"dataframe\">\n",
       "  <thead>\n",
       "    <tr style=\"text-align: right;\">\n",
       "      <th></th>\n",
       "      <th>Borough</th>\n",
       "      <th>Neighborhood</th>\n",
       "      <th>Latitude</th>\n",
       "      <th>Longitude</th>\n",
       "    </tr>\n",
       "  </thead>\n",
       "  <tbody>\n",
       "    <tr>\n",
       "      <th>0</th>\n",
       "      <td>East Toronto</td>\n",
       "      <td>The Beaches</td>\n",
       "      <td>43.6764</td>\n",
       "      <td>-79.293</td>\n",
       "    </tr>\n",
       "    <tr>\n",
       "      <th>1</th>\n",
       "      <td>East Toronto</td>\n",
       "      <td>The Danforth West, Riverdale</td>\n",
       "      <td>43.6796</td>\n",
       "      <td>-79.3522</td>\n",
       "    </tr>\n",
       "    <tr>\n",
       "      <th>2</th>\n",
       "      <td>East Toronto</td>\n",
       "      <td>The Beaches West, India Bazaar</td>\n",
       "      <td>43.669</td>\n",
       "      <td>-79.3156</td>\n",
       "    </tr>\n",
       "    <tr>\n",
       "      <th>3</th>\n",
       "      <td>East Toronto</td>\n",
       "      <td>Studio District</td>\n",
       "      <td>43.6595</td>\n",
       "      <td>-79.3409</td>\n",
       "    </tr>\n",
       "    <tr>\n",
       "      <th>4</th>\n",
       "      <td>Central Toronto</td>\n",
       "      <td>Lawrence Park</td>\n",
       "      <td>43.728</td>\n",
       "      <td>-79.3888</td>\n",
       "    </tr>\n",
       "    <tr>\n",
       "      <th>5</th>\n",
       "      <td>Central Toronto</td>\n",
       "      <td>Davisville North</td>\n",
       "      <td>43.7128</td>\n",
       "      <td>-79.3902</td>\n",
       "    </tr>\n",
       "    <tr>\n",
       "      <th>6</th>\n",
       "      <td>Central Toronto</td>\n",
       "      <td>North Toronto West</td>\n",
       "      <td>43.7154</td>\n",
       "      <td>-79.4057</td>\n",
       "    </tr>\n",
       "    <tr>\n",
       "      <th>7</th>\n",
       "      <td>Central Toronto</td>\n",
       "      <td>Davisville</td>\n",
       "      <td>43.7043</td>\n",
       "      <td>-79.3888</td>\n",
       "    </tr>\n",
       "    <tr>\n",
       "      <th>8</th>\n",
       "      <td>Central Toronto</td>\n",
       "      <td>Moore Park, Summerhill East</td>\n",
       "      <td>43.6896</td>\n",
       "      <td>-79.3832</td>\n",
       "    </tr>\n",
       "    <tr>\n",
       "      <th>9</th>\n",
       "      <td>Central Toronto</td>\n",
       "      <td>Deer Park, Forest Hill SE, Rathnelly, South Hi...</td>\n",
       "      <td>43.6864</td>\n",
       "      <td>-79.4</td>\n",
       "    </tr>\n",
       "    <tr>\n",
       "      <th>10</th>\n",
       "      <td>Downtown Toronto</td>\n",
       "      <td>Rosedale</td>\n",
       "      <td>43.6796</td>\n",
       "      <td>-79.3775</td>\n",
       "    </tr>\n",
       "    <tr>\n",
       "      <th>11</th>\n",
       "      <td>Downtown Toronto</td>\n",
       "      <td>Cabbagetown, St. James Town</td>\n",
       "      <td>43.668</td>\n",
       "      <td>-79.3677</td>\n",
       "    </tr>\n",
       "    <tr>\n",
       "      <th>12</th>\n",
       "      <td>Downtown Toronto</td>\n",
       "      <td>Church and Wellesley</td>\n",
       "      <td>43.6659</td>\n",
       "      <td>-79.3832</td>\n",
       "    </tr>\n",
       "    <tr>\n",
       "      <th>13</th>\n",
       "      <td>Downtown Toronto</td>\n",
       "      <td>Harbourfront, Regent Park</td>\n",
       "      <td>43.6543</td>\n",
       "      <td>-79.3606</td>\n",
       "    </tr>\n",
       "    <tr>\n",
       "      <th>14</th>\n",
       "      <td>Downtown Toronto</td>\n",
       "      <td>Ryerson, Garden District</td>\n",
       "      <td>43.6572</td>\n",
       "      <td>-79.3789</td>\n",
       "    </tr>\n",
       "    <tr>\n",
       "      <th>15</th>\n",
       "      <td>Downtown Toronto</td>\n",
       "      <td>St. James Town</td>\n",
       "      <td>43.6515</td>\n",
       "      <td>-79.3754</td>\n",
       "    </tr>\n",
       "    <tr>\n",
       "      <th>16</th>\n",
       "      <td>Downtown Toronto</td>\n",
       "      <td>Berczy Park</td>\n",
       "      <td>43.6448</td>\n",
       "      <td>-79.3733</td>\n",
       "    </tr>\n",
       "    <tr>\n",
       "      <th>17</th>\n",
       "      <td>Downtown Toronto</td>\n",
       "      <td>Central Bay Street</td>\n",
       "      <td>43.658</td>\n",
       "      <td>-79.3874</td>\n",
       "    </tr>\n",
       "    <tr>\n",
       "      <th>18</th>\n",
       "      <td>Downtown Toronto</td>\n",
       "      <td>Adelaide, King, Richmond</td>\n",
       "      <td>43.6506</td>\n",
       "      <td>-79.3846</td>\n",
       "    </tr>\n",
       "    <tr>\n",
       "      <th>19</th>\n",
       "      <td>Downtown Toronto</td>\n",
       "      <td>Harbourfront East, Toronto Islands, Union Station</td>\n",
       "      <td>43.6408</td>\n",
       "      <td>-79.3818</td>\n",
       "    </tr>\n",
       "    <tr>\n",
       "      <th>20</th>\n",
       "      <td>Downtown Toronto</td>\n",
       "      <td>Design Exchange, Toronto Dominion Centre</td>\n",
       "      <td>43.6472</td>\n",
       "      <td>-79.3816</td>\n",
       "    </tr>\n",
       "    <tr>\n",
       "      <th>21</th>\n",
       "      <td>Downtown Toronto</td>\n",
       "      <td>Commerce Court, Victoria Hotel</td>\n",
       "      <td>43.6482</td>\n",
       "      <td>-79.3798</td>\n",
       "    </tr>\n",
       "    <tr>\n",
       "      <th>22</th>\n",
       "      <td>Central Toronto</td>\n",
       "      <td>Roselawn</td>\n",
       "      <td>43.7117</td>\n",
       "      <td>-79.4169</td>\n",
       "    </tr>\n",
       "    <tr>\n",
       "      <th>23</th>\n",
       "      <td>Central Toronto</td>\n",
       "      <td>Forest Hill North, Forest Hill West</td>\n",
       "      <td>43.6969</td>\n",
       "      <td>-79.4113</td>\n",
       "    </tr>\n",
       "    <tr>\n",
       "      <th>24</th>\n",
       "      <td>Central Toronto</td>\n",
       "      <td>The Annex, North Midtown, Yorkville</td>\n",
       "      <td>43.6727</td>\n",
       "      <td>-79.4057</td>\n",
       "    </tr>\n",
       "    <tr>\n",
       "      <th>25</th>\n",
       "      <td>Downtown Toronto</td>\n",
       "      <td>Harbord, University of Toronto</td>\n",
       "      <td>43.6627</td>\n",
       "      <td>-79.4</td>\n",
       "    </tr>\n",
       "    <tr>\n",
       "      <th>26</th>\n",
       "      <td>Downtown Toronto</td>\n",
       "      <td>Chinatown, Grange Park, Kensington Market</td>\n",
       "      <td>43.6532</td>\n",
       "      <td>-79.4</td>\n",
       "    </tr>\n",
       "    <tr>\n",
       "      <th>27</th>\n",
       "      <td>Downtown Toronto</td>\n",
       "      <td>CN Tower, Bathurst Quay, Island airport, Harbo...</td>\n",
       "      <td>43.6289</td>\n",
       "      <td>-79.3944</td>\n",
       "    </tr>\n",
       "    <tr>\n",
       "      <th>28</th>\n",
       "      <td>Downtown Toronto</td>\n",
       "      <td>Stn A PO Boxes 25 The Esplanade</td>\n",
       "      <td>43.6464</td>\n",
       "      <td>-79.3748</td>\n",
       "    </tr>\n",
       "    <tr>\n",
       "      <th>29</th>\n",
       "      <td>Downtown Toronto</td>\n",
       "      <td>First Canadian Place, Underground city</td>\n",
       "      <td>43.6484</td>\n",
       "      <td>-79.3823</td>\n",
       "    </tr>\n",
       "    <tr>\n",
       "      <th>30</th>\n",
       "      <td>Downtown Toronto</td>\n",
       "      <td>Christie</td>\n",
       "      <td>43.6695</td>\n",
       "      <td>-79.4226</td>\n",
       "    </tr>\n",
       "    <tr>\n",
       "      <th>31</th>\n",
       "      <td>West Toronto</td>\n",
       "      <td>Dovercourt Village, Dufferin</td>\n",
       "      <td>43.669</td>\n",
       "      <td>-79.4423</td>\n",
       "    </tr>\n",
       "    <tr>\n",
       "      <th>32</th>\n",
       "      <td>West Toronto</td>\n",
       "      <td>Little Portugal, Trinity</td>\n",
       "      <td>43.6479</td>\n",
       "      <td>-79.4197</td>\n",
       "    </tr>\n",
       "    <tr>\n",
       "      <th>33</th>\n",
       "      <td>West Toronto</td>\n",
       "      <td>Brockton, Exhibition Place, Parkdale Village</td>\n",
       "      <td>43.6368</td>\n",
       "      <td>-79.4282</td>\n",
       "    </tr>\n",
       "    <tr>\n",
       "      <th>34</th>\n",
       "      <td>West Toronto</td>\n",
       "      <td>High Park, The Junction South</td>\n",
       "      <td>43.6616</td>\n",
       "      <td>-79.4648</td>\n",
       "    </tr>\n",
       "    <tr>\n",
       "      <th>35</th>\n",
       "      <td>West Toronto</td>\n",
       "      <td>Parkdale, Roncesvalles</td>\n",
       "      <td>43.649</td>\n",
       "      <td>-79.4563</td>\n",
       "    </tr>\n",
       "    <tr>\n",
       "      <th>36</th>\n",
       "      <td>West Toronto</td>\n",
       "      <td>Runnymede, Swansea</td>\n",
       "      <td>43.6516</td>\n",
       "      <td>-79.4844</td>\n",
       "    </tr>\n",
       "    <tr>\n",
       "      <th>37</th>\n",
       "      <td>East Toronto</td>\n",
       "      <td>Business Reply Mail Processing Centre 969 Eastern</td>\n",
       "      <td>43.6627</td>\n",
       "      <td>-79.3216</td>\n",
       "    </tr>\n",
       "  </tbody>\n",
       "</table>\n",
       "</div>"
      ],
      "text/plain": [
       "             Borough                                       Neighborhood  \\\n",
       "0       East Toronto                                        The Beaches   \n",
       "1       East Toronto                       The Danforth West, Riverdale   \n",
       "2       East Toronto                     The Beaches West, India Bazaar   \n",
       "3       East Toronto                                    Studio District   \n",
       "4    Central Toronto                                      Lawrence Park   \n",
       "5    Central Toronto                                   Davisville North   \n",
       "6    Central Toronto                                 North Toronto West   \n",
       "7    Central Toronto                                         Davisville   \n",
       "8    Central Toronto                        Moore Park, Summerhill East   \n",
       "9    Central Toronto  Deer Park, Forest Hill SE, Rathnelly, South Hi...   \n",
       "10  Downtown Toronto                                           Rosedale   \n",
       "11  Downtown Toronto                        Cabbagetown, St. James Town   \n",
       "12  Downtown Toronto                               Church and Wellesley   \n",
       "13  Downtown Toronto                          Harbourfront, Regent Park   \n",
       "14  Downtown Toronto                           Ryerson, Garden District   \n",
       "15  Downtown Toronto                                     St. James Town   \n",
       "16  Downtown Toronto                                        Berczy Park   \n",
       "17  Downtown Toronto                                 Central Bay Street   \n",
       "18  Downtown Toronto                           Adelaide, King, Richmond   \n",
       "19  Downtown Toronto  Harbourfront East, Toronto Islands, Union Station   \n",
       "20  Downtown Toronto           Design Exchange, Toronto Dominion Centre   \n",
       "21  Downtown Toronto                     Commerce Court, Victoria Hotel   \n",
       "22   Central Toronto                                           Roselawn   \n",
       "23   Central Toronto                Forest Hill North, Forest Hill West   \n",
       "24   Central Toronto                The Annex, North Midtown, Yorkville   \n",
       "25  Downtown Toronto                     Harbord, University of Toronto   \n",
       "26  Downtown Toronto          Chinatown, Grange Park, Kensington Market   \n",
       "27  Downtown Toronto  CN Tower, Bathurst Quay, Island airport, Harbo...   \n",
       "28  Downtown Toronto                    Stn A PO Boxes 25 The Esplanade   \n",
       "29  Downtown Toronto             First Canadian Place, Underground city   \n",
       "30  Downtown Toronto                                           Christie   \n",
       "31      West Toronto                       Dovercourt Village, Dufferin   \n",
       "32      West Toronto                           Little Portugal, Trinity   \n",
       "33      West Toronto       Brockton, Exhibition Place, Parkdale Village   \n",
       "34      West Toronto                      High Park, The Junction South   \n",
       "35      West Toronto                             Parkdale, Roncesvalles   \n",
       "36      West Toronto                                 Runnymede, Swansea   \n",
       "37      East Toronto  Business Reply Mail Processing Centre 969 Eastern   \n",
       "\n",
       "   Latitude Longitude  \n",
       "0   43.6764   -79.293  \n",
       "1   43.6796  -79.3522  \n",
       "2    43.669  -79.3156  \n",
       "3   43.6595  -79.3409  \n",
       "4    43.728  -79.3888  \n",
       "5   43.7128  -79.3902  \n",
       "6   43.7154  -79.4057  \n",
       "7   43.7043  -79.3888  \n",
       "8   43.6896  -79.3832  \n",
       "9   43.6864     -79.4  \n",
       "10  43.6796  -79.3775  \n",
       "11   43.668  -79.3677  \n",
       "12  43.6659  -79.3832  \n",
       "13  43.6543  -79.3606  \n",
       "14  43.6572  -79.3789  \n",
       "15  43.6515  -79.3754  \n",
       "16  43.6448  -79.3733  \n",
       "17   43.658  -79.3874  \n",
       "18  43.6506  -79.3846  \n",
       "19  43.6408  -79.3818  \n",
       "20  43.6472  -79.3816  \n",
       "21  43.6482  -79.3798  \n",
       "22  43.7117  -79.4169  \n",
       "23  43.6969  -79.4113  \n",
       "24  43.6727  -79.4057  \n",
       "25  43.6627     -79.4  \n",
       "26  43.6532     -79.4  \n",
       "27  43.6289  -79.3944  \n",
       "28  43.6464  -79.3748  \n",
       "29  43.6484  -79.3823  \n",
       "30  43.6695  -79.4226  \n",
       "31   43.669  -79.4423  \n",
       "32  43.6479  -79.4197  \n",
       "33  43.6368  -79.4282  \n",
       "34  43.6616  -79.4648  \n",
       "35   43.649  -79.4563  \n",
       "36  43.6516  -79.4844  \n",
       "37  43.6627  -79.3216  "
      ]
     },
     "execution_count": 30,
     "metadata": {},
     "output_type": "execute_result"
    }
   ],
   "source": [
    "toronto_Borough"
   ]
  },
  {
   "cell_type": "markdown",
   "metadata": {},
   "source": [
    "Let's visualizat Toronto the neighborhoods (The boroughs that contain the word Toronto)"
   ]
  },
  {
   "cell_type": "code",
   "execution_count": 31,
   "metadata": {
    "ExecuteTime": {
     "end_time": "2019-08-31T17:00:55.390381Z",
     "start_time": "2019-08-31T17:00:55.323560Z"
    },
    "scrolled": true
   },
   "outputs": [
    {
     "data": {
      "text/html": [
       "<div style=\"width:100%;\"><div style=\"position:relative;width:100%;height:0;padding-bottom:60%;\"><iframe src=\"data:text/html;charset=utf-8;base64,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\" style=\"position:absolute;width:100%;height:100%;left:0;top:0;border:none !important;\" allowfullscreen webkitallowfullscreen mozallowfullscreen></iframe></div></div>"
      ],
      "text/plain": [
       "<folium.folium.Map at 0x1ef5896bd48>"
      ]
     },
     "execution_count": 31,
     "metadata": {},
     "output_type": "execute_result"
    }
   ],
   "source": [
    "# create map of Toronto (The boroughs that contain the word Toronto) using latitude and longitude values\n",
    "map_Toronto = folium.Map(location=[latitude, longitude], zoom_start=11)\n",
    "\n",
    "# add markers to map\n",
    "for lat, lng, label in zip(toronto_Borough['Latitude'], toronto_Borough['Longitude'], toronto_Borough['Neighborhood']):\n",
    "    label = folium.Popup(label, parse_html=True)\n",
    "    folium.CircleMarker(\n",
    "        [lat, lng],\n",
    "        radius=5,\n",
    "        popup=label,\n",
    "        color='red',\n",
    "        fill=True,\n",
    "        fill_color='#3186cc',\n",
    "        fill_opacity=0.7,\n",
    "        parse_html=False).add_to(map_Toronto)  \n",
    "    \n",
    "map_Toronto"
   ]
  },
  {
   "cell_type": "markdown",
   "metadata": {},
   "source": [
    " "
   ]
  },
  {
   "cell_type": "markdown",
   "metadata": {},
   "source": [
    "<p style=\"text-align: center;\"><span style=\"font-size: 18pt;\"><strong><span style=\"color: #ff0000;\">Thank You Very Much for Peer Classmate</span></strong></span></p>"
   ]
  },
  {
   "cell_type": "code",
   "execution_count": null,
   "metadata": {},
   "outputs": [],
   "source": []
  }
 ],
 "metadata": {
  "kernelspec": {
   "display_name": "Python 3",
   "language": "python",
   "name": "python3"
  },
  "language_info": {
   "codemirror_mode": {
    "name": "ipython",
    "version": 3
   },
   "file_extension": ".py",
   "mimetype": "text/x-python",
   "name": "python",
   "nbconvert_exporter": "python",
   "pygments_lexer": "ipython3",
   "version": "3.7.4"
  },
  "latex_envs": {
   "LaTeX_envs_menu_present": true,
   "autoclose": false,
   "autocomplete": true,
   "bibliofile": "biblio.bib",
   "cite_by": "apalike",
   "current_citInitial": 1,
   "eqLabelWithNumbers": true,
   "eqNumInitial": 1,
   "hotkeys": {
    "equation": "Ctrl-E",
    "itemize": "Ctrl-I"
   },
   "labels_anchors": false,
   "latex_user_defs": false,
   "report_style_numbering": false,
   "user_envs_cfg": false
  },
  "toc": {
   "base_numbering": 1,
   "nav_menu": {},
   "number_sections": true,
   "sideBar": true,
   "skip_h1_title": false,
   "title_cell": "Table of Contents",
   "title_sidebar": "Contents",
   "toc_cell": false,
   "toc_position": {},
   "toc_section_display": true,
   "toc_window_display": false
  }
 },
 "nbformat": 4,
 "nbformat_minor": 2
}
